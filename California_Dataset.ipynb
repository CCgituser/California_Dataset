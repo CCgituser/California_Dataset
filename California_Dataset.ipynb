{
 "cells": [
  {
   "cell_type": "code",
   "execution_count": 1,
   "id": "429a6a72",
   "metadata": {},
   "outputs": [],
   "source": [
    "import numpy as np\n",
    "from sklearn.linear_model import LinearRegression\n",
    "from sklearn.model_selection import train_test_split\n",
    "from sklearn.metrics import mean_absolute_error\n",
    "import matplotlib.pyplot as plt\n",
    "import seaborn as sns\n",
    "import pandas as pd"
   ]
  },
  {
   "cell_type": "code",
   "execution_count": 2,
   "id": "75777c62",
   "metadata": {},
   "outputs": [
    {
     "data": {
      "text/html": [
       "<div>\n",
       "<style scoped>\n",
       "    .dataframe tbody tr th:only-of-type {\n",
       "        vertical-align: middle;\n",
       "    }\n",
       "\n",
       "    .dataframe tbody tr th {\n",
       "        vertical-align: top;\n",
       "    }\n",
       "\n",
       "    .dataframe thead th {\n",
       "        text-align: right;\n",
       "    }\n",
       "</style>\n",
       "<table border=\"1\" class=\"dataframe\">\n",
       "  <thead>\n",
       "    <tr style=\"text-align: right;\">\n",
       "      <th></th>\n",
       "      <th>longitude</th>\n",
       "      <th>latitude</th>\n",
       "      <th>housing_median_age</th>\n",
       "      <th>total_rooms</th>\n",
       "      <th>total_bedrooms</th>\n",
       "      <th>population</th>\n",
       "      <th>households</th>\n",
       "      <th>median_income</th>\n",
       "      <th>median_house_value</th>\n",
       "      <th>ocean_proximity</th>\n",
       "    </tr>\n",
       "  </thead>\n",
       "  <tbody>\n",
       "    <tr>\n",
       "      <th>0</th>\n",
       "      <td>-122.23</td>\n",
       "      <td>37.88</td>\n",
       "      <td>41.0</td>\n",
       "      <td>880.0</td>\n",
       "      <td>129.0</td>\n",
       "      <td>322.0</td>\n",
       "      <td>126.0</td>\n",
       "      <td>8.3252</td>\n",
       "      <td>452600.0</td>\n",
       "      <td>NEAR BAY</td>\n",
       "    </tr>\n",
       "    <tr>\n",
       "      <th>1</th>\n",
       "      <td>-122.22</td>\n",
       "      <td>37.86</td>\n",
       "      <td>21.0</td>\n",
       "      <td>7099.0</td>\n",
       "      <td>1106.0</td>\n",
       "      <td>2401.0</td>\n",
       "      <td>1138.0</td>\n",
       "      <td>8.3014</td>\n",
       "      <td>358500.0</td>\n",
       "      <td>NEAR BAY</td>\n",
       "    </tr>\n",
       "    <tr>\n",
       "      <th>2</th>\n",
       "      <td>-122.24</td>\n",
       "      <td>37.85</td>\n",
       "      <td>52.0</td>\n",
       "      <td>1467.0</td>\n",
       "      <td>190.0</td>\n",
       "      <td>496.0</td>\n",
       "      <td>177.0</td>\n",
       "      <td>7.2574</td>\n",
       "      <td>352100.0</td>\n",
       "      <td>NEAR BAY</td>\n",
       "    </tr>\n",
       "    <tr>\n",
       "      <th>3</th>\n",
       "      <td>-122.25</td>\n",
       "      <td>37.85</td>\n",
       "      <td>52.0</td>\n",
       "      <td>1274.0</td>\n",
       "      <td>235.0</td>\n",
       "      <td>558.0</td>\n",
       "      <td>219.0</td>\n",
       "      <td>5.6431</td>\n",
       "      <td>341300.0</td>\n",
       "      <td>NEAR BAY</td>\n",
       "    </tr>\n",
       "    <tr>\n",
       "      <th>4</th>\n",
       "      <td>-122.25</td>\n",
       "      <td>37.85</td>\n",
       "      <td>52.0</td>\n",
       "      <td>1627.0</td>\n",
       "      <td>280.0</td>\n",
       "      <td>565.0</td>\n",
       "      <td>259.0</td>\n",
       "      <td>3.8462</td>\n",
       "      <td>342200.0</td>\n",
       "      <td>NEAR BAY</td>\n",
       "    </tr>\n",
       "  </tbody>\n",
       "</table>\n",
       "</div>"
      ],
      "text/plain": [
       "   longitude  latitude  housing_median_age  total_rooms  total_bedrooms  \\\n",
       "0    -122.23     37.88                41.0        880.0           129.0   \n",
       "1    -122.22     37.86                21.0       7099.0          1106.0   \n",
       "2    -122.24     37.85                52.0       1467.0           190.0   \n",
       "3    -122.25     37.85                52.0       1274.0           235.0   \n",
       "4    -122.25     37.85                52.0       1627.0           280.0   \n",
       "\n",
       "   population  households  median_income  median_house_value ocean_proximity  \n",
       "0       322.0       126.0         8.3252            452600.0        NEAR BAY  \n",
       "1      2401.0      1138.0         8.3014            358500.0        NEAR BAY  \n",
       "2       496.0       177.0         7.2574            352100.0        NEAR BAY  \n",
       "3       558.0       219.0         5.6431            341300.0        NEAR BAY  \n",
       "4       565.0       259.0         3.8462            342200.0        NEAR BAY  "
      ]
     },
     "execution_count": 2,
     "metadata": {},
     "output_type": "execute_result"
    }
   ],
   "source": [
    "df = pd.read_csv('housing.csv')\n",
    "df.head()"
   ]
  },
  {
   "cell_type": "markdown",
   "id": "eededb0d",
   "metadata": {},
   "source": [
    "This is a regression problem, where y = median_house_value, the value in which we would like to predict "
   ]
  },
  {
   "cell_type": "code",
   "execution_count": 3,
   "id": "0157f0a2",
   "metadata": {},
   "outputs": [
    {
     "data": {
      "text/plain": [
       "ocean_proximity\n",
       "<1H OCEAN     9136\n",
       "INLAND        6551\n",
       "NEAR OCEAN    2658\n",
       "NEAR BAY      2290\n",
       "ISLAND           5\n",
       "Name: count, dtype: int64"
      ]
     },
     "execution_count": 3,
     "metadata": {},
     "output_type": "execute_result"
    }
   ],
   "source": [
    "# Check the value counts of the none numeric column which we will need to alter in order to apply our machine learning model\n",
    "df['ocean_proximity'].value_counts()"
   ]
  },
  {
   "cell_type": "code",
   "execution_count": 5,
   "id": "a77768f7",
   "metadata": {},
   "outputs": [
    {
     "data": {
      "text/html": [
       "<div>\n",
       "<style scoped>\n",
       "    .dataframe tbody tr th:only-of-type {\n",
       "        vertical-align: middle;\n",
       "    }\n",
       "\n",
       "    .dataframe tbody tr th {\n",
       "        vertical-align: top;\n",
       "    }\n",
       "\n",
       "    .dataframe thead th {\n",
       "        text-align: right;\n",
       "    }\n",
       "</style>\n",
       "<table border=\"1\" class=\"dataframe\">\n",
       "  <thead>\n",
       "    <tr style=\"text-align: right;\">\n",
       "      <th></th>\n",
       "      <th>longitude</th>\n",
       "      <th>latitude</th>\n",
       "      <th>housing_median_age</th>\n",
       "      <th>total_rooms</th>\n",
       "      <th>total_bedrooms</th>\n",
       "      <th>population</th>\n",
       "      <th>households</th>\n",
       "      <th>median_income</th>\n",
       "      <th>median_house_value</th>\n",
       "      <th>ocean_proximity</th>\n",
       "    </tr>\n",
       "  </thead>\n",
       "  <tbody>\n",
       "    <tr>\n",
       "      <th>4712</th>\n",
       "      <td>-118.36</td>\n",
       "      <td>34.06</td>\n",
       "      <td>39.0</td>\n",
       "      <td>2810.0</td>\n",
       "      <td>670.0</td>\n",
       "      <td>1109.0</td>\n",
       "      <td>624.0</td>\n",
       "      <td>3.2500</td>\n",
       "      <td>355000.0</td>\n",
       "      <td>&lt;1H OCEAN</td>\n",
       "    </tr>\n",
       "    <tr>\n",
       "      <th>2151</th>\n",
       "      <td>-119.78</td>\n",
       "      <td>36.78</td>\n",
       "      <td>37.0</td>\n",
       "      <td>2185.0</td>\n",
       "      <td>455.0</td>\n",
       "      <td>1143.0</td>\n",
       "      <td>438.0</td>\n",
       "      <td>1.9784</td>\n",
       "      <td>70700.0</td>\n",
       "      <td>INLAND</td>\n",
       "    </tr>\n",
       "    <tr>\n",
       "      <th>15927</th>\n",
       "      <td>-122.42</td>\n",
       "      <td>37.73</td>\n",
       "      <td>46.0</td>\n",
       "      <td>1819.0</td>\n",
       "      <td>411.0</td>\n",
       "      <td>1534.0</td>\n",
       "      <td>406.0</td>\n",
       "      <td>4.0132</td>\n",
       "      <td>229400.0</td>\n",
       "      <td>NEAR BAY</td>\n",
       "    </tr>\n",
       "    <tr>\n",
       "      <th>82</th>\n",
       "      <td>-122.28</td>\n",
       "      <td>37.81</td>\n",
       "      <td>52.0</td>\n",
       "      <td>340.0</td>\n",
       "      <td>97.0</td>\n",
       "      <td>200.0</td>\n",
       "      <td>87.0</td>\n",
       "      <td>1.5208</td>\n",
       "      <td>112500.0</td>\n",
       "      <td>NEAR BAY</td>\n",
       "    </tr>\n",
       "    <tr>\n",
       "      <th>8161</th>\n",
       "      <td>-118.13</td>\n",
       "      <td>33.82</td>\n",
       "      <td>37.0</td>\n",
       "      <td>1530.0</td>\n",
       "      <td>290.0</td>\n",
       "      <td>711.0</td>\n",
       "      <td>283.0</td>\n",
       "      <td>5.1795</td>\n",
       "      <td>225400.0</td>\n",
       "      <td>&lt;1H OCEAN</td>\n",
       "    </tr>\n",
       "    <tr>\n",
       "      <th>...</th>\n",
       "      <td>...</td>\n",
       "      <td>...</td>\n",
       "      <td>...</td>\n",
       "      <td>...</td>\n",
       "      <td>...</td>\n",
       "      <td>...</td>\n",
       "      <td>...</td>\n",
       "      <td>...</td>\n",
       "      <td>...</td>\n",
       "      <td>...</td>\n",
       "    </tr>\n",
       "    <tr>\n",
       "      <th>10955</th>\n",
       "      <td>-117.88</td>\n",
       "      <td>33.76</td>\n",
       "      <td>17.0</td>\n",
       "      <td>1768.0</td>\n",
       "      <td>474.0</td>\n",
       "      <td>1079.0</td>\n",
       "      <td>436.0</td>\n",
       "      <td>1.7823</td>\n",
       "      <td>205300.0</td>\n",
       "      <td>&lt;1H OCEAN</td>\n",
       "    </tr>\n",
       "    <tr>\n",
       "      <th>17289</th>\n",
       "      <td>-119.63</td>\n",
       "      <td>34.42</td>\n",
       "      <td>42.0</td>\n",
       "      <td>1765.0</td>\n",
       "      <td>263.0</td>\n",
       "      <td>753.0</td>\n",
       "      <td>260.0</td>\n",
       "      <td>8.5608</td>\n",
       "      <td>500001.0</td>\n",
       "      <td>&lt;1H OCEAN</td>\n",
       "    </tr>\n",
       "    <tr>\n",
       "      <th>5192</th>\n",
       "      <td>-118.26</td>\n",
       "      <td>33.93</td>\n",
       "      <td>42.0</td>\n",
       "      <td>1433.0</td>\n",
       "      <td>295.0</td>\n",
       "      <td>775.0</td>\n",
       "      <td>293.0</td>\n",
       "      <td>1.1326</td>\n",
       "      <td>104800.0</td>\n",
       "      <td>&lt;1H OCEAN</td>\n",
       "    </tr>\n",
       "    <tr>\n",
       "      <th>12172</th>\n",
       "      <td>-117.16</td>\n",
       "      <td>33.73</td>\n",
       "      <td>10.0</td>\n",
       "      <td>2381.0</td>\n",
       "      <td>454.0</td>\n",
       "      <td>1323.0</td>\n",
       "      <td>477.0</td>\n",
       "      <td>2.6322</td>\n",
       "      <td>140700.0</td>\n",
       "      <td>INLAND</td>\n",
       "    </tr>\n",
       "    <tr>\n",
       "      <th>235</th>\n",
       "      <td>-122.20</td>\n",
       "      <td>37.79</td>\n",
       "      <td>35.0</td>\n",
       "      <td>1802.0</td>\n",
       "      <td>459.0</td>\n",
       "      <td>1009.0</td>\n",
       "      <td>390.0</td>\n",
       "      <td>2.3036</td>\n",
       "      <td>126000.0</td>\n",
       "      <td>NEAR BAY</td>\n",
       "    </tr>\n",
       "  </tbody>\n",
       "</table>\n",
       "<p>20640 rows × 10 columns</p>\n",
       "</div>"
      ],
      "text/plain": [
       "       longitude  latitude  housing_median_age  total_rooms  total_bedrooms  \\\n",
       "4712     -118.36     34.06                39.0       2810.0           670.0   \n",
       "2151     -119.78     36.78                37.0       2185.0           455.0   \n",
       "15927    -122.42     37.73                46.0       1819.0           411.0   \n",
       "82       -122.28     37.81                52.0        340.0            97.0   \n",
       "8161     -118.13     33.82                37.0       1530.0           290.0   \n",
       "...          ...       ...                 ...          ...             ...   \n",
       "10955    -117.88     33.76                17.0       1768.0           474.0   \n",
       "17289    -119.63     34.42                42.0       1765.0           263.0   \n",
       "5192     -118.26     33.93                42.0       1433.0           295.0   \n",
       "12172    -117.16     33.73                10.0       2381.0           454.0   \n",
       "235      -122.20     37.79                35.0       1802.0           459.0   \n",
       "\n",
       "       population  households  median_income  median_house_value  \\\n",
       "4712       1109.0       624.0         3.2500            355000.0   \n",
       "2151       1143.0       438.0         1.9784             70700.0   \n",
       "15927      1534.0       406.0         4.0132            229400.0   \n",
       "82          200.0        87.0         1.5208            112500.0   \n",
       "8161        711.0       283.0         5.1795            225400.0   \n",
       "...           ...         ...            ...                 ...   \n",
       "10955      1079.0       436.0         1.7823            205300.0   \n",
       "17289       753.0       260.0         8.5608            500001.0   \n",
       "5192        775.0       293.0         1.1326            104800.0   \n",
       "12172      1323.0       477.0         2.6322            140700.0   \n",
       "235        1009.0       390.0         2.3036            126000.0   \n",
       "\n",
       "      ocean_proximity  \n",
       "4712        <1H OCEAN  \n",
       "2151           INLAND  \n",
       "15927        NEAR BAY  \n",
       "82           NEAR BAY  \n",
       "8161        <1H OCEAN  \n",
       "...               ...  \n",
       "10955       <1H OCEAN  \n",
       "17289       <1H OCEAN  \n",
       "5192        <1H OCEAN  \n",
       "12172          INLAND  \n",
       "235          NEAR BAY  \n",
       "\n",
       "[20640 rows x 10 columns]"
      ]
     },
     "execution_count": 5,
     "metadata": {},
     "output_type": "execute_result"
    }
   ],
   "source": [
    "# shuffle the dataset\n",
    "df_shuffled = df.sample(n=len(df), random_state=1)\n",
    "df_shuffled"
   ]
  },
  {
   "cell_type": "code",
   "execution_count": 6,
   "id": "ae85523a",
   "metadata": {},
   "outputs": [
    {
     "data": {
      "text/html": [
       "<div>\n",
       "<style scoped>\n",
       "    .dataframe tbody tr th:only-of-type {\n",
       "        vertical-align: middle;\n",
       "    }\n",
       "\n",
       "    .dataframe tbody tr th {\n",
       "        vertical-align: top;\n",
       "    }\n",
       "\n",
       "    .dataframe thead th {\n",
       "        text-align: right;\n",
       "    }\n",
       "</style>\n",
       "<table border=\"1\" class=\"dataframe\">\n",
       "  <thead>\n",
       "    <tr style=\"text-align: right;\">\n",
       "      <th></th>\n",
       "      <th>&lt;1H OCEAN</th>\n",
       "      <th>INLAND</th>\n",
       "      <th>ISLAND</th>\n",
       "      <th>NEAR BAY</th>\n",
       "      <th>NEAR OCEAN</th>\n",
       "    </tr>\n",
       "  </thead>\n",
       "  <tbody>\n",
       "    <tr>\n",
       "      <th>4712</th>\n",
       "      <td>True</td>\n",
       "      <td>False</td>\n",
       "      <td>False</td>\n",
       "      <td>False</td>\n",
       "      <td>False</td>\n",
       "    </tr>\n",
       "    <tr>\n",
       "      <th>2151</th>\n",
       "      <td>False</td>\n",
       "      <td>True</td>\n",
       "      <td>False</td>\n",
       "      <td>False</td>\n",
       "      <td>False</td>\n",
       "    </tr>\n",
       "    <tr>\n",
       "      <th>15927</th>\n",
       "      <td>False</td>\n",
       "      <td>False</td>\n",
       "      <td>False</td>\n",
       "      <td>True</td>\n",
       "      <td>False</td>\n",
       "    </tr>\n",
       "    <tr>\n",
       "      <th>82</th>\n",
       "      <td>False</td>\n",
       "      <td>False</td>\n",
       "      <td>False</td>\n",
       "      <td>True</td>\n",
       "      <td>False</td>\n",
       "    </tr>\n",
       "    <tr>\n",
       "      <th>8161</th>\n",
       "      <td>True</td>\n",
       "      <td>False</td>\n",
       "      <td>False</td>\n",
       "      <td>False</td>\n",
       "      <td>False</td>\n",
       "    </tr>\n",
       "  </tbody>\n",
       "</table>\n",
       "</div>"
      ],
      "text/plain": [
       "       <1H OCEAN  INLAND  ISLAND  NEAR BAY  NEAR OCEAN\n",
       "4712        True   False   False     False       False\n",
       "2151       False    True   False     False       False\n",
       "15927      False   False   False      True       False\n",
       "82         False   False   False      True       False\n",
       "8161        True   False   False     False       False"
      ]
     },
     "execution_count": 6,
     "metadata": {},
     "output_type": "execute_result"
    }
   ],
   "source": [
    "# now change the none numeric column \n",
    "pd.get_dummies(df_shuffled['ocean_proximity']).head()\n"
   ]
  },
  {
   "cell_type": "code",
   "execution_count": 10,
   "id": "f20c63fe",
   "metadata": {},
   "outputs": [
    {
     "data": {
      "text/html": [
       "<div>\n",
       "<style scoped>\n",
       "    .dataframe tbody tr th:only-of-type {\n",
       "        vertical-align: middle;\n",
       "    }\n",
       "\n",
       "    .dataframe tbody tr th {\n",
       "        vertical-align: top;\n",
       "    }\n",
       "\n",
       "    .dataframe thead th {\n",
       "        text-align: right;\n",
       "    }\n",
       "</style>\n",
       "<table border=\"1\" class=\"dataframe\">\n",
       "  <thead>\n",
       "    <tr style=\"text-align: right;\">\n",
       "      <th></th>\n",
       "      <th>&lt;1H OCEAN</th>\n",
       "      <th>INLAND</th>\n",
       "      <th>ISLAND</th>\n",
       "      <th>NEAR BAY</th>\n",
       "      <th>NEAR OCEAN</th>\n",
       "    </tr>\n",
       "  </thead>\n",
       "  <tbody>\n",
       "    <tr>\n",
       "      <th>4712</th>\n",
       "      <td>1</td>\n",
       "      <td>0</td>\n",
       "      <td>0</td>\n",
       "      <td>0</td>\n",
       "      <td>0</td>\n",
       "    </tr>\n",
       "    <tr>\n",
       "      <th>2151</th>\n",
       "      <td>0</td>\n",
       "      <td>1</td>\n",
       "      <td>0</td>\n",
       "      <td>0</td>\n",
       "      <td>0</td>\n",
       "    </tr>\n",
       "    <tr>\n",
       "      <th>15927</th>\n",
       "      <td>0</td>\n",
       "      <td>0</td>\n",
       "      <td>0</td>\n",
       "      <td>1</td>\n",
       "      <td>0</td>\n",
       "    </tr>\n",
       "    <tr>\n",
       "      <th>82</th>\n",
       "      <td>0</td>\n",
       "      <td>0</td>\n",
       "      <td>0</td>\n",
       "      <td>1</td>\n",
       "      <td>0</td>\n",
       "    </tr>\n",
       "    <tr>\n",
       "      <th>8161</th>\n",
       "      <td>1</td>\n",
       "      <td>0</td>\n",
       "      <td>0</td>\n",
       "      <td>0</td>\n",
       "      <td>0</td>\n",
       "    </tr>\n",
       "    <tr>\n",
       "      <th>...</th>\n",
       "      <td>...</td>\n",
       "      <td>...</td>\n",
       "      <td>...</td>\n",
       "      <td>...</td>\n",
       "      <td>...</td>\n",
       "    </tr>\n",
       "    <tr>\n",
       "      <th>10955</th>\n",
       "      <td>1</td>\n",
       "      <td>0</td>\n",
       "      <td>0</td>\n",
       "      <td>0</td>\n",
       "      <td>0</td>\n",
       "    </tr>\n",
       "    <tr>\n",
       "      <th>17289</th>\n",
       "      <td>1</td>\n",
       "      <td>0</td>\n",
       "      <td>0</td>\n",
       "      <td>0</td>\n",
       "      <td>0</td>\n",
       "    </tr>\n",
       "    <tr>\n",
       "      <th>5192</th>\n",
       "      <td>1</td>\n",
       "      <td>0</td>\n",
       "      <td>0</td>\n",
       "      <td>0</td>\n",
       "      <td>0</td>\n",
       "    </tr>\n",
       "    <tr>\n",
       "      <th>12172</th>\n",
       "      <td>0</td>\n",
       "      <td>1</td>\n",
       "      <td>0</td>\n",
       "      <td>0</td>\n",
       "      <td>0</td>\n",
       "    </tr>\n",
       "    <tr>\n",
       "      <th>235</th>\n",
       "      <td>0</td>\n",
       "      <td>0</td>\n",
       "      <td>0</td>\n",
       "      <td>1</td>\n",
       "      <td>0</td>\n",
       "    </tr>\n",
       "  </tbody>\n",
       "</table>\n",
       "<p>20640 rows × 5 columns</p>\n",
       "</div>"
      ],
      "text/plain": [
       "       <1H OCEAN  INLAND  ISLAND  NEAR BAY  NEAR OCEAN\n",
       "4712           1       0       0         0           0\n",
       "2151           0       1       0         0           0\n",
       "15927          0       0       0         1           0\n",
       "82             0       0       0         1           0\n",
       "8161           1       0       0         0           0\n",
       "...          ...     ...     ...       ...         ...\n",
       "10955          1       0       0         0           0\n",
       "17289          1       0       0         0           0\n",
       "5192           1       0       0         0           0\n",
       "12172          0       1       0         0           0\n",
       "235            0       0       0         1           0\n",
       "\n",
       "[20640 rows x 5 columns]"
      ]
     },
     "execution_count": 10,
     "metadata": {},
     "output_type": "execute_result"
    }
   ],
   "source": [
    "# Convert the dummy DataFrame from boolean to integer\n",
    "dummies = pd.get_dummies(df_shuffled.ocean_proximity)\n",
    "dummies = dummies.astype(int)\n",
    "dummies"
   ]
  },
  {
   "cell_type": "code",
   "execution_count": 12,
   "id": "54e99be1",
   "metadata": {},
   "outputs": [
    {
     "data": {
      "text/html": [
       "<div>\n",
       "<style scoped>\n",
       "    .dataframe tbody tr th:only-of-type {\n",
       "        vertical-align: middle;\n",
       "    }\n",
       "\n",
       "    .dataframe tbody tr th {\n",
       "        vertical-align: top;\n",
       "    }\n",
       "\n",
       "    .dataframe thead th {\n",
       "        text-align: right;\n",
       "    }\n",
       "</style>\n",
       "<table border=\"1\" class=\"dataframe\">\n",
       "  <thead>\n",
       "    <tr style=\"text-align: right;\">\n",
       "      <th></th>\n",
       "      <th>longitude</th>\n",
       "      <th>latitude</th>\n",
       "      <th>housing_median_age</th>\n",
       "      <th>total_rooms</th>\n",
       "      <th>total_bedrooms</th>\n",
       "      <th>population</th>\n",
       "      <th>households</th>\n",
       "      <th>median_income</th>\n",
       "      <th>median_house_value</th>\n",
       "    </tr>\n",
       "  </thead>\n",
       "  <tbody>\n",
       "    <tr>\n",
       "      <th>4712</th>\n",
       "      <td>-118.36</td>\n",
       "      <td>34.06</td>\n",
       "      <td>39.0</td>\n",
       "      <td>2810.0</td>\n",
       "      <td>670.0</td>\n",
       "      <td>1109.0</td>\n",
       "      <td>624.0</td>\n",
       "      <td>3.2500</td>\n",
       "      <td>355000.0</td>\n",
       "    </tr>\n",
       "    <tr>\n",
       "      <th>2151</th>\n",
       "      <td>-119.78</td>\n",
       "      <td>36.78</td>\n",
       "      <td>37.0</td>\n",
       "      <td>2185.0</td>\n",
       "      <td>455.0</td>\n",
       "      <td>1143.0</td>\n",
       "      <td>438.0</td>\n",
       "      <td>1.9784</td>\n",
       "      <td>70700.0</td>\n",
       "    </tr>\n",
       "    <tr>\n",
       "      <th>15927</th>\n",
       "      <td>-122.42</td>\n",
       "      <td>37.73</td>\n",
       "      <td>46.0</td>\n",
       "      <td>1819.0</td>\n",
       "      <td>411.0</td>\n",
       "      <td>1534.0</td>\n",
       "      <td>406.0</td>\n",
       "      <td>4.0132</td>\n",
       "      <td>229400.0</td>\n",
       "    </tr>\n",
       "    <tr>\n",
       "      <th>82</th>\n",
       "      <td>-122.28</td>\n",
       "      <td>37.81</td>\n",
       "      <td>52.0</td>\n",
       "      <td>340.0</td>\n",
       "      <td>97.0</td>\n",
       "      <td>200.0</td>\n",
       "      <td>87.0</td>\n",
       "      <td>1.5208</td>\n",
       "      <td>112500.0</td>\n",
       "    </tr>\n",
       "    <tr>\n",
       "      <th>8161</th>\n",
       "      <td>-118.13</td>\n",
       "      <td>33.82</td>\n",
       "      <td>37.0</td>\n",
       "      <td>1530.0</td>\n",
       "      <td>290.0</td>\n",
       "      <td>711.0</td>\n",
       "      <td>283.0</td>\n",
       "      <td>5.1795</td>\n",
       "      <td>225400.0</td>\n",
       "    </tr>\n",
       "    <tr>\n",
       "      <th>...</th>\n",
       "      <td>...</td>\n",
       "      <td>...</td>\n",
       "      <td>...</td>\n",
       "      <td>...</td>\n",
       "      <td>...</td>\n",
       "      <td>...</td>\n",
       "      <td>...</td>\n",
       "      <td>...</td>\n",
       "      <td>...</td>\n",
       "    </tr>\n",
       "    <tr>\n",
       "      <th>10955</th>\n",
       "      <td>-117.88</td>\n",
       "      <td>33.76</td>\n",
       "      <td>17.0</td>\n",
       "      <td>1768.0</td>\n",
       "      <td>474.0</td>\n",
       "      <td>1079.0</td>\n",
       "      <td>436.0</td>\n",
       "      <td>1.7823</td>\n",
       "      <td>205300.0</td>\n",
       "    </tr>\n",
       "    <tr>\n",
       "      <th>17289</th>\n",
       "      <td>-119.63</td>\n",
       "      <td>34.42</td>\n",
       "      <td>42.0</td>\n",
       "      <td>1765.0</td>\n",
       "      <td>263.0</td>\n",
       "      <td>753.0</td>\n",
       "      <td>260.0</td>\n",
       "      <td>8.5608</td>\n",
       "      <td>500001.0</td>\n",
       "    </tr>\n",
       "    <tr>\n",
       "      <th>5192</th>\n",
       "      <td>-118.26</td>\n",
       "      <td>33.93</td>\n",
       "      <td>42.0</td>\n",
       "      <td>1433.0</td>\n",
       "      <td>295.0</td>\n",
       "      <td>775.0</td>\n",
       "      <td>293.0</td>\n",
       "      <td>1.1326</td>\n",
       "      <td>104800.0</td>\n",
       "    </tr>\n",
       "    <tr>\n",
       "      <th>12172</th>\n",
       "      <td>-117.16</td>\n",
       "      <td>33.73</td>\n",
       "      <td>10.0</td>\n",
       "      <td>2381.0</td>\n",
       "      <td>454.0</td>\n",
       "      <td>1323.0</td>\n",
       "      <td>477.0</td>\n",
       "      <td>2.6322</td>\n",
       "      <td>140700.0</td>\n",
       "    </tr>\n",
       "    <tr>\n",
       "      <th>235</th>\n",
       "      <td>-122.20</td>\n",
       "      <td>37.79</td>\n",
       "      <td>35.0</td>\n",
       "      <td>1802.0</td>\n",
       "      <td>459.0</td>\n",
       "      <td>1009.0</td>\n",
       "      <td>390.0</td>\n",
       "      <td>2.3036</td>\n",
       "      <td>126000.0</td>\n",
       "    </tr>\n",
       "  </tbody>\n",
       "</table>\n",
       "<p>20640 rows × 9 columns</p>\n",
       "</div>"
      ],
      "text/plain": [
       "       longitude  latitude  housing_median_age  total_rooms  total_bedrooms  \\\n",
       "4712     -118.36     34.06                39.0       2810.0           670.0   \n",
       "2151     -119.78     36.78                37.0       2185.0           455.0   \n",
       "15927    -122.42     37.73                46.0       1819.0           411.0   \n",
       "82       -122.28     37.81                52.0        340.0            97.0   \n",
       "8161     -118.13     33.82                37.0       1530.0           290.0   \n",
       "...          ...       ...                 ...          ...             ...   \n",
       "10955    -117.88     33.76                17.0       1768.0           474.0   \n",
       "17289    -119.63     34.42                42.0       1765.0           263.0   \n",
       "5192     -118.26     33.93                42.0       1433.0           295.0   \n",
       "12172    -117.16     33.73                10.0       2381.0           454.0   \n",
       "235      -122.20     37.79                35.0       1802.0           459.0   \n",
       "\n",
       "       population  households  median_income  median_house_value  \n",
       "4712       1109.0       624.0         3.2500            355000.0  \n",
       "2151       1143.0       438.0         1.9784             70700.0  \n",
       "15927      1534.0       406.0         4.0132            229400.0  \n",
       "82          200.0        87.0         1.5208            112500.0  \n",
       "8161        711.0       283.0         5.1795            225400.0  \n",
       "...           ...         ...            ...                 ...  \n",
       "10955      1079.0       436.0         1.7823            205300.0  \n",
       "17289       753.0       260.0         8.5608            500001.0  \n",
       "5192        775.0       293.0         1.1326            104800.0  \n",
       "12172      1323.0       477.0         2.6322            140700.0  \n",
       "235        1009.0       390.0         2.3036            126000.0  \n",
       "\n",
       "[20640 rows x 9 columns]"
      ]
     },
     "execution_count": 12,
     "metadata": {},
     "output_type": "execute_result"
    }
   ],
   "source": [
    "df_shuffled.drop('ocean_proximity', axis=1)"
   ]
  },
  {
   "cell_type": "code",
   "execution_count": 16,
   "id": "1513f2ae",
   "metadata": {},
   "outputs": [
    {
     "data": {
      "text/html": [
       "<div>\n",
       "<style scoped>\n",
       "    .dataframe tbody tr th:only-of-type {\n",
       "        vertical-align: middle;\n",
       "    }\n",
       "\n",
       "    .dataframe tbody tr th {\n",
       "        vertical-align: top;\n",
       "    }\n",
       "\n",
       "    .dataframe thead th {\n",
       "        text-align: right;\n",
       "    }\n",
       "</style>\n",
       "<table border=\"1\" class=\"dataframe\">\n",
       "  <thead>\n",
       "    <tr style=\"text-align: right;\">\n",
       "      <th></th>\n",
       "      <th>longitude</th>\n",
       "      <th>latitude</th>\n",
       "      <th>housing_median_age</th>\n",
       "      <th>total_rooms</th>\n",
       "      <th>total_bedrooms</th>\n",
       "      <th>population</th>\n",
       "      <th>households</th>\n",
       "      <th>median_income</th>\n",
       "      <th>median_house_value</th>\n",
       "      <th>&lt;1H OCEAN</th>\n",
       "      <th>INLAND</th>\n",
       "      <th>ISLAND</th>\n",
       "      <th>NEAR BAY</th>\n",
       "      <th>NEAR OCEAN</th>\n",
       "    </tr>\n",
       "  </thead>\n",
       "  <tbody>\n",
       "    <tr>\n",
       "      <th>4712</th>\n",
       "      <td>-118.36</td>\n",
       "      <td>34.06</td>\n",
       "      <td>39.0</td>\n",
       "      <td>2810.0</td>\n",
       "      <td>670.0</td>\n",
       "      <td>1109.0</td>\n",
       "      <td>624.0</td>\n",
       "      <td>3.2500</td>\n",
       "      <td>355000.0</td>\n",
       "      <td>1</td>\n",
       "      <td>0</td>\n",
       "      <td>0</td>\n",
       "      <td>0</td>\n",
       "      <td>0</td>\n",
       "    </tr>\n",
       "    <tr>\n",
       "      <th>2151</th>\n",
       "      <td>-119.78</td>\n",
       "      <td>36.78</td>\n",
       "      <td>37.0</td>\n",
       "      <td>2185.0</td>\n",
       "      <td>455.0</td>\n",
       "      <td>1143.0</td>\n",
       "      <td>438.0</td>\n",
       "      <td>1.9784</td>\n",
       "      <td>70700.0</td>\n",
       "      <td>0</td>\n",
       "      <td>1</td>\n",
       "      <td>0</td>\n",
       "      <td>0</td>\n",
       "      <td>0</td>\n",
       "    </tr>\n",
       "    <tr>\n",
       "      <th>15927</th>\n",
       "      <td>-122.42</td>\n",
       "      <td>37.73</td>\n",
       "      <td>46.0</td>\n",
       "      <td>1819.0</td>\n",
       "      <td>411.0</td>\n",
       "      <td>1534.0</td>\n",
       "      <td>406.0</td>\n",
       "      <td>4.0132</td>\n",
       "      <td>229400.0</td>\n",
       "      <td>0</td>\n",
       "      <td>0</td>\n",
       "      <td>0</td>\n",
       "      <td>1</td>\n",
       "      <td>0</td>\n",
       "    </tr>\n",
       "    <tr>\n",
       "      <th>82</th>\n",
       "      <td>-122.28</td>\n",
       "      <td>37.81</td>\n",
       "      <td>52.0</td>\n",
       "      <td>340.0</td>\n",
       "      <td>97.0</td>\n",
       "      <td>200.0</td>\n",
       "      <td>87.0</td>\n",
       "      <td>1.5208</td>\n",
       "      <td>112500.0</td>\n",
       "      <td>0</td>\n",
       "      <td>0</td>\n",
       "      <td>0</td>\n",
       "      <td>1</td>\n",
       "      <td>0</td>\n",
       "    </tr>\n",
       "    <tr>\n",
       "      <th>8161</th>\n",
       "      <td>-118.13</td>\n",
       "      <td>33.82</td>\n",
       "      <td>37.0</td>\n",
       "      <td>1530.0</td>\n",
       "      <td>290.0</td>\n",
       "      <td>711.0</td>\n",
       "      <td>283.0</td>\n",
       "      <td>5.1795</td>\n",
       "      <td>225400.0</td>\n",
       "      <td>1</td>\n",
       "      <td>0</td>\n",
       "      <td>0</td>\n",
       "      <td>0</td>\n",
       "      <td>0</td>\n",
       "    </tr>\n",
       "    <tr>\n",
       "      <th>...</th>\n",
       "      <td>...</td>\n",
       "      <td>...</td>\n",
       "      <td>...</td>\n",
       "      <td>...</td>\n",
       "      <td>...</td>\n",
       "      <td>...</td>\n",
       "      <td>...</td>\n",
       "      <td>...</td>\n",
       "      <td>...</td>\n",
       "      <td>...</td>\n",
       "      <td>...</td>\n",
       "      <td>...</td>\n",
       "      <td>...</td>\n",
       "      <td>...</td>\n",
       "    </tr>\n",
       "    <tr>\n",
       "      <th>10955</th>\n",
       "      <td>-117.88</td>\n",
       "      <td>33.76</td>\n",
       "      <td>17.0</td>\n",
       "      <td>1768.0</td>\n",
       "      <td>474.0</td>\n",
       "      <td>1079.0</td>\n",
       "      <td>436.0</td>\n",
       "      <td>1.7823</td>\n",
       "      <td>205300.0</td>\n",
       "      <td>1</td>\n",
       "      <td>0</td>\n",
       "      <td>0</td>\n",
       "      <td>0</td>\n",
       "      <td>0</td>\n",
       "    </tr>\n",
       "    <tr>\n",
       "      <th>17289</th>\n",
       "      <td>-119.63</td>\n",
       "      <td>34.42</td>\n",
       "      <td>42.0</td>\n",
       "      <td>1765.0</td>\n",
       "      <td>263.0</td>\n",
       "      <td>753.0</td>\n",
       "      <td>260.0</td>\n",
       "      <td>8.5608</td>\n",
       "      <td>500001.0</td>\n",
       "      <td>1</td>\n",
       "      <td>0</td>\n",
       "      <td>0</td>\n",
       "      <td>0</td>\n",
       "      <td>0</td>\n",
       "    </tr>\n",
       "    <tr>\n",
       "      <th>5192</th>\n",
       "      <td>-118.26</td>\n",
       "      <td>33.93</td>\n",
       "      <td>42.0</td>\n",
       "      <td>1433.0</td>\n",
       "      <td>295.0</td>\n",
       "      <td>775.0</td>\n",
       "      <td>293.0</td>\n",
       "      <td>1.1326</td>\n",
       "      <td>104800.0</td>\n",
       "      <td>1</td>\n",
       "      <td>0</td>\n",
       "      <td>0</td>\n",
       "      <td>0</td>\n",
       "      <td>0</td>\n",
       "    </tr>\n",
       "    <tr>\n",
       "      <th>12172</th>\n",
       "      <td>-117.16</td>\n",
       "      <td>33.73</td>\n",
       "      <td>10.0</td>\n",
       "      <td>2381.0</td>\n",
       "      <td>454.0</td>\n",
       "      <td>1323.0</td>\n",
       "      <td>477.0</td>\n",
       "      <td>2.6322</td>\n",
       "      <td>140700.0</td>\n",
       "      <td>0</td>\n",
       "      <td>1</td>\n",
       "      <td>0</td>\n",
       "      <td>0</td>\n",
       "      <td>0</td>\n",
       "    </tr>\n",
       "    <tr>\n",
       "      <th>235</th>\n",
       "      <td>-122.20</td>\n",
       "      <td>37.79</td>\n",
       "      <td>35.0</td>\n",
       "      <td>1802.0</td>\n",
       "      <td>459.0</td>\n",
       "      <td>1009.0</td>\n",
       "      <td>390.0</td>\n",
       "      <td>2.3036</td>\n",
       "      <td>126000.0</td>\n",
       "      <td>0</td>\n",
       "      <td>0</td>\n",
       "      <td>0</td>\n",
       "      <td>1</td>\n",
       "      <td>0</td>\n",
       "    </tr>\n",
       "  </tbody>\n",
       "</table>\n",
       "<p>20640 rows × 14 columns</p>\n",
       "</div>"
      ],
      "text/plain": [
       "       longitude  latitude  housing_median_age  total_rooms  total_bedrooms  \\\n",
       "4712     -118.36     34.06                39.0       2810.0           670.0   \n",
       "2151     -119.78     36.78                37.0       2185.0           455.0   \n",
       "15927    -122.42     37.73                46.0       1819.0           411.0   \n",
       "82       -122.28     37.81                52.0        340.0            97.0   \n",
       "8161     -118.13     33.82                37.0       1530.0           290.0   \n",
       "...          ...       ...                 ...          ...             ...   \n",
       "10955    -117.88     33.76                17.0       1768.0           474.0   \n",
       "17289    -119.63     34.42                42.0       1765.0           263.0   \n",
       "5192     -118.26     33.93                42.0       1433.0           295.0   \n",
       "12172    -117.16     33.73                10.0       2381.0           454.0   \n",
       "235      -122.20     37.79                35.0       1802.0           459.0   \n",
       "\n",
       "       population  households  median_income  median_house_value  <1H OCEAN  \\\n",
       "4712       1109.0       624.0         3.2500            355000.0          1   \n",
       "2151       1143.0       438.0         1.9784             70700.0          0   \n",
       "15927      1534.0       406.0         4.0132            229400.0          0   \n",
       "82          200.0        87.0         1.5208            112500.0          0   \n",
       "8161        711.0       283.0         5.1795            225400.0          1   \n",
       "...           ...         ...            ...                 ...        ...   \n",
       "10955      1079.0       436.0         1.7823            205300.0          1   \n",
       "17289       753.0       260.0         8.5608            500001.0          1   \n",
       "5192        775.0       293.0         1.1326            104800.0          1   \n",
       "12172      1323.0       477.0         2.6322            140700.0          0   \n",
       "235        1009.0       390.0         2.3036            126000.0          0   \n",
       "\n",
       "       INLAND  ISLAND  NEAR BAY  NEAR OCEAN  \n",
       "4712        0       0         0           0  \n",
       "2151        1       0         0           0  \n",
       "15927       0       0         1           0  \n",
       "82          0       0         1           0  \n",
       "8161        0       0         0           0  \n",
       "...       ...     ...       ...         ...  \n",
       "10955       0       0         0           0  \n",
       "17289       0       0         0           0  \n",
       "5192        0       0         0           0  \n",
       "12172       1       0         0           0  \n",
       "235         0       0         1           0  \n",
       "\n",
       "[20640 rows x 14 columns]"
      ]
     },
     "execution_count": 16,
     "metadata": {},
     "output_type": "execute_result"
    }
   ],
   "source": [
    "# join the dataframes\n",
    "df_final = pd.concat(([df_shuffled.drop('ocean_proximity', axis=1),\n",
    "                      dummies.astype(int)]), axis=1)\n",
    "df_final"
   ]
  },
  {
   "cell_type": "code",
   "execution_count": 18,
   "id": "e499a97c",
   "metadata": {},
   "outputs": [
    {
     "data": {
      "text/html": [
       "<div>\n",
       "<style scoped>\n",
       "    .dataframe tbody tr th:only-of-type {\n",
       "        vertical-align: middle;\n",
       "    }\n",
       "\n",
       "    .dataframe tbody tr th {\n",
       "        vertical-align: top;\n",
       "    }\n",
       "\n",
       "    .dataframe thead th {\n",
       "        text-align: right;\n",
       "    }\n",
       "</style>\n",
       "<table border=\"1\" class=\"dataframe\">\n",
       "  <thead>\n",
       "    <tr style=\"text-align: right;\">\n",
       "      <th></th>\n",
       "      <th>longitude</th>\n",
       "      <th>latitude</th>\n",
       "      <th>housing_median_age</th>\n",
       "      <th>total_rooms</th>\n",
       "      <th>total_bedrooms</th>\n",
       "      <th>population</th>\n",
       "      <th>households</th>\n",
       "      <th>median_income</th>\n",
       "      <th>&lt;1H OCEAN</th>\n",
       "      <th>INLAND</th>\n",
       "      <th>ISLAND</th>\n",
       "      <th>NEAR BAY</th>\n",
       "      <th>NEAR OCEAN</th>\n",
       "      <th>median_house_value</th>\n",
       "    </tr>\n",
       "  </thead>\n",
       "  <tbody>\n",
       "    <tr>\n",
       "      <th>4712</th>\n",
       "      <td>-118.36</td>\n",
       "      <td>34.06</td>\n",
       "      <td>39.0</td>\n",
       "      <td>2810.0</td>\n",
       "      <td>670.0</td>\n",
       "      <td>1109.0</td>\n",
       "      <td>624.0</td>\n",
       "      <td>3.2500</td>\n",
       "      <td>1</td>\n",
       "      <td>0</td>\n",
       "      <td>0</td>\n",
       "      <td>0</td>\n",
       "      <td>0</td>\n",
       "      <td>355000.0</td>\n",
       "    </tr>\n",
       "    <tr>\n",
       "      <th>2151</th>\n",
       "      <td>-119.78</td>\n",
       "      <td>36.78</td>\n",
       "      <td>37.0</td>\n",
       "      <td>2185.0</td>\n",
       "      <td>455.0</td>\n",
       "      <td>1143.0</td>\n",
       "      <td>438.0</td>\n",
       "      <td>1.9784</td>\n",
       "      <td>0</td>\n",
       "      <td>1</td>\n",
       "      <td>0</td>\n",
       "      <td>0</td>\n",
       "      <td>0</td>\n",
       "      <td>70700.0</td>\n",
       "    </tr>\n",
       "    <tr>\n",
       "      <th>15927</th>\n",
       "      <td>-122.42</td>\n",
       "      <td>37.73</td>\n",
       "      <td>46.0</td>\n",
       "      <td>1819.0</td>\n",
       "      <td>411.0</td>\n",
       "      <td>1534.0</td>\n",
       "      <td>406.0</td>\n",
       "      <td>4.0132</td>\n",
       "      <td>0</td>\n",
       "      <td>0</td>\n",
       "      <td>0</td>\n",
       "      <td>1</td>\n",
       "      <td>0</td>\n",
       "      <td>229400.0</td>\n",
       "    </tr>\n",
       "    <tr>\n",
       "      <th>82</th>\n",
       "      <td>-122.28</td>\n",
       "      <td>37.81</td>\n",
       "      <td>52.0</td>\n",
       "      <td>340.0</td>\n",
       "      <td>97.0</td>\n",
       "      <td>200.0</td>\n",
       "      <td>87.0</td>\n",
       "      <td>1.5208</td>\n",
       "      <td>0</td>\n",
       "      <td>0</td>\n",
       "      <td>0</td>\n",
       "      <td>1</td>\n",
       "      <td>0</td>\n",
       "      <td>112500.0</td>\n",
       "    </tr>\n",
       "    <tr>\n",
       "      <th>8161</th>\n",
       "      <td>-118.13</td>\n",
       "      <td>33.82</td>\n",
       "      <td>37.0</td>\n",
       "      <td>1530.0</td>\n",
       "      <td>290.0</td>\n",
       "      <td>711.0</td>\n",
       "      <td>283.0</td>\n",
       "      <td>5.1795</td>\n",
       "      <td>1</td>\n",
       "      <td>0</td>\n",
       "      <td>0</td>\n",
       "      <td>0</td>\n",
       "      <td>0</td>\n",
       "      <td>225400.0</td>\n",
       "    </tr>\n",
       "    <tr>\n",
       "      <th>...</th>\n",
       "      <td>...</td>\n",
       "      <td>...</td>\n",
       "      <td>...</td>\n",
       "      <td>...</td>\n",
       "      <td>...</td>\n",
       "      <td>...</td>\n",
       "      <td>...</td>\n",
       "      <td>...</td>\n",
       "      <td>...</td>\n",
       "      <td>...</td>\n",
       "      <td>...</td>\n",
       "      <td>...</td>\n",
       "      <td>...</td>\n",
       "      <td>...</td>\n",
       "    </tr>\n",
       "    <tr>\n",
       "      <th>10955</th>\n",
       "      <td>-117.88</td>\n",
       "      <td>33.76</td>\n",
       "      <td>17.0</td>\n",
       "      <td>1768.0</td>\n",
       "      <td>474.0</td>\n",
       "      <td>1079.0</td>\n",
       "      <td>436.0</td>\n",
       "      <td>1.7823</td>\n",
       "      <td>1</td>\n",
       "      <td>0</td>\n",
       "      <td>0</td>\n",
       "      <td>0</td>\n",
       "      <td>0</td>\n",
       "      <td>205300.0</td>\n",
       "    </tr>\n",
       "    <tr>\n",
       "      <th>17289</th>\n",
       "      <td>-119.63</td>\n",
       "      <td>34.42</td>\n",
       "      <td>42.0</td>\n",
       "      <td>1765.0</td>\n",
       "      <td>263.0</td>\n",
       "      <td>753.0</td>\n",
       "      <td>260.0</td>\n",
       "      <td>8.5608</td>\n",
       "      <td>1</td>\n",
       "      <td>0</td>\n",
       "      <td>0</td>\n",
       "      <td>0</td>\n",
       "      <td>0</td>\n",
       "      <td>500001.0</td>\n",
       "    </tr>\n",
       "    <tr>\n",
       "      <th>5192</th>\n",
       "      <td>-118.26</td>\n",
       "      <td>33.93</td>\n",
       "      <td>42.0</td>\n",
       "      <td>1433.0</td>\n",
       "      <td>295.0</td>\n",
       "      <td>775.0</td>\n",
       "      <td>293.0</td>\n",
       "      <td>1.1326</td>\n",
       "      <td>1</td>\n",
       "      <td>0</td>\n",
       "      <td>0</td>\n",
       "      <td>0</td>\n",
       "      <td>0</td>\n",
       "      <td>104800.0</td>\n",
       "    </tr>\n",
       "    <tr>\n",
       "      <th>12172</th>\n",
       "      <td>-117.16</td>\n",
       "      <td>33.73</td>\n",
       "      <td>10.0</td>\n",
       "      <td>2381.0</td>\n",
       "      <td>454.0</td>\n",
       "      <td>1323.0</td>\n",
       "      <td>477.0</td>\n",
       "      <td>2.6322</td>\n",
       "      <td>0</td>\n",
       "      <td>1</td>\n",
       "      <td>0</td>\n",
       "      <td>0</td>\n",
       "      <td>0</td>\n",
       "      <td>140700.0</td>\n",
       "    </tr>\n",
       "    <tr>\n",
       "      <th>235</th>\n",
       "      <td>-122.20</td>\n",
       "      <td>37.79</td>\n",
       "      <td>35.0</td>\n",
       "      <td>1802.0</td>\n",
       "      <td>459.0</td>\n",
       "      <td>1009.0</td>\n",
       "      <td>390.0</td>\n",
       "      <td>2.3036</td>\n",
       "      <td>0</td>\n",
       "      <td>0</td>\n",
       "      <td>0</td>\n",
       "      <td>1</td>\n",
       "      <td>0</td>\n",
       "      <td>126000.0</td>\n",
       "    </tr>\n",
       "  </tbody>\n",
       "</table>\n",
       "<p>20640 rows × 14 columns</p>\n",
       "</div>"
      ],
      "text/plain": [
       "       longitude  latitude  housing_median_age  total_rooms  total_bedrooms  \\\n",
       "4712     -118.36     34.06                39.0       2810.0           670.0   \n",
       "2151     -119.78     36.78                37.0       2185.0           455.0   \n",
       "15927    -122.42     37.73                46.0       1819.0           411.0   \n",
       "82       -122.28     37.81                52.0        340.0            97.0   \n",
       "8161     -118.13     33.82                37.0       1530.0           290.0   \n",
       "...          ...       ...                 ...          ...             ...   \n",
       "10955    -117.88     33.76                17.0       1768.0           474.0   \n",
       "17289    -119.63     34.42                42.0       1765.0           263.0   \n",
       "5192     -118.26     33.93                42.0       1433.0           295.0   \n",
       "12172    -117.16     33.73                10.0       2381.0           454.0   \n",
       "235      -122.20     37.79                35.0       1802.0           459.0   \n",
       "\n",
       "       population  households  median_income  <1H OCEAN  INLAND  ISLAND  \\\n",
       "4712       1109.0       624.0         3.2500          1       0       0   \n",
       "2151       1143.0       438.0         1.9784          0       1       0   \n",
       "15927      1534.0       406.0         4.0132          0       0       0   \n",
       "82          200.0        87.0         1.5208          0       0       0   \n",
       "8161        711.0       283.0         5.1795          1       0       0   \n",
       "...           ...         ...            ...        ...     ...     ...   \n",
       "10955      1079.0       436.0         1.7823          1       0       0   \n",
       "17289       753.0       260.0         8.5608          1       0       0   \n",
       "5192        775.0       293.0         1.1326          1       0       0   \n",
       "12172      1323.0       477.0         2.6322          0       1       0   \n",
       "235        1009.0       390.0         2.3036          0       0       0   \n",
       "\n",
       "       NEAR BAY  NEAR OCEAN  median_house_value  \n",
       "4712          0           0            355000.0  \n",
       "2151          0           0             70700.0  \n",
       "15927         1           0            229400.0  \n",
       "82            1           0            112500.0  \n",
       "8161          0           0            225400.0  \n",
       "...         ...         ...                 ...  \n",
       "10955         0           0            205300.0  \n",
       "17289         0           0            500001.0  \n",
       "5192          0           0            104800.0  \n",
       "12172         0           0            140700.0  \n",
       "235           1           0            126000.0  \n",
       "\n",
       "[20640 rows x 14 columns]"
      ]
     },
     "execution_count": 18,
     "metadata": {},
     "output_type": "execute_result"
    }
   ],
   "source": [
    "df_final=df_final[['longitude','latitude','housing_median_age','total_rooms',\n",
    "                   'total_bedrooms','population','households','median_income',\n",
    "                   '<1H OCEAN','INLAND',\n",
    "                   'ISLAND','NEAR BAY','NEAR OCEAN','median_house_value']]\n",
    "df_final"
   ]
  },
  {
   "cell_type": "code",
   "execution_count": 19,
   "id": "4306f81c",
   "metadata": {},
   "outputs": [
    {
     "data": {
      "text/plain": [
       "20433"
      ]
     },
     "execution_count": 19,
     "metadata": {},
     "output_type": "execute_result"
    }
   ],
   "source": [
    "df_final=df_final.dropna()\n",
    "len(df_final)"
   ]
  },
  {
   "cell_type": "markdown",
   "id": "3e28c5e7",
   "metadata": {},
   "source": [
    "Split into train, test, validation sets"
   ]
  },
  {
   "cell_type": "code",
   "execution_count": 54,
   "id": "6a13397b",
   "metadata": {},
   "outputs": [
    {
     "data": {
      "text/plain": [
       "(18000, 1217, 1218)"
      ]
     },
     "execution_count": 54,
     "metadata": {},
     "output_type": "execute_result"
    }
   ],
   "source": [
    "train, test, val = df_final[:18000], df_final[18000:19217], df_final[19215:]\n",
    "len(train), len(test), len(val)"
   ]
  },
  {
   "cell_type": "markdown",
   "id": "770c33a2",
   "metadata": {},
   "source": [
    "Convert to X and Y matrices"
   ]
  },
  {
   "cell_type": "code",
   "execution_count": 55,
   "id": "c52bc650",
   "metadata": {},
   "outputs": [
    {
     "data": {
      "text/plain": [
       "array([[-118.36,   34.06,   39.  , ...,    0.  ,    0.  ,    0.  ],\n",
       "       [-119.78,   36.78,   37.  , ...,    0.  ,    0.  ,    0.  ],\n",
       "       [-122.42,   37.73,   46.  , ...,    0.  ,    1.  ,    0.  ],\n",
       "       ...,\n",
       "       [-118.38,   34.07,   21.  , ...,    0.  ,    0.  ,    0.  ],\n",
       "       [-117.31,   34.07,   40.  , ...,    0.  ,    0.  ,    0.  ],\n",
       "       [-117.72,   33.62,   21.  , ...,    0.  ,    0.  ,    0.  ]])"
      ]
     },
     "execution_count": 55,
     "metadata": {},
     "output_type": "execute_result"
    }
   ],
   "source": [
    "X_train, y_train = train.to_numpy()[:,:-1], train.to_numpy()[:,-1]\n",
    "X_val, y_val = val.to_numpy()[:,:-1], val.to_numpy()[:,-1]\n",
    "X_test, y_test = test.to_numpy()[:,:-1], test.to_numpy()[:,-1]\n",
    "X_train\n",
    "# X_train.shape"
   ]
  },
  {
   "cell_type": "code",
   "execution_count": 56,
   "id": "5e473083",
   "metadata": {},
   "outputs": [
    {
     "data": {
      "text/plain": [
       "array([355000.,  70700., 229400., ..., 500001.,  70900., 110000.])"
      ]
     },
     "execution_count": 56,
     "metadata": {},
     "output_type": "execute_result"
    }
   ],
   "source": [
    "y_train\n",
    "# y_train.shape"
   ]
  },
  {
   "cell_type": "code",
   "execution_count": 57,
   "id": "3d9bf0f8",
   "metadata": {},
   "outputs": [
    {
     "data": {
      "text/plain": [
       "((18000, 13), (18000,), (1218, 13), (1218,), (1217, 13), (1217,))"
      ]
     },
     "execution_count": 57,
     "metadata": {},
     "output_type": "execute_result"
    }
   ],
   "source": [
    "X_train.shape, y_train.shape, X_val.shape, y_val.shape, X_test.shape, y_test.shape"
   ]
  },
  {
   "cell_type": "code",
   "execution_count": 58,
   "id": "b7badbb6",
   "metadata": {},
   "outputs": [
    {
     "data": {
      "text/plain": [
       "array([[ 0.60344338, -0.73607301,  0.82084451, ...,  0.        ,\n",
       "         0.        ,  0.        ],\n",
       "       [-0.10512186,  0.53710782,  0.66177382, ...,  0.        ,\n",
       "         0.        ,  0.        ],\n",
       "       [-1.42245442,  0.98178495,  1.37759191, ...,  0.        ,\n",
       "         1.        ,  0.        ],\n",
       "       ...,\n",
       "       [ 0.59346359, -0.7313922 , -0.61079167, ...,  0.        ,\n",
       "         0.        ,  0.        ],\n",
       "       [ 1.12738246, -0.7313922 ,  0.90037985, ...,  0.        ,\n",
       "         0.        ,  0.        ],\n",
       "       [ 0.92279673, -0.94202873, -0.61079167, ...,  0.        ,\n",
       "         0.        ,  0.        ]])"
      ]
     },
     "execution_count": 58,
     "metadata": {},
     "output_type": "execute_result"
    }
   ],
   "source": [
    "from sklearn.preprocessing import StandardScaler\n",
    "import numpy as np\n",
    "\n",
    "scaler=StandardScaler().fit(X_train[:,:8])\n",
    "\n",
    "def preprocessor(X):\n",
    "    A = np.copy(X)\n",
    "    A[:, :8]=scaler.transform(A[:, :8])\n",
    "    return A\n",
    "X_train, X_val, X_test = preprocessor(X_train),preprocessor(X_val),preprocessor(X_test)\n",
    "X_train_preprocessed"
   ]
  },
  {
   "cell_type": "code",
   "execution_count": 59,
   "id": "f8bac028",
   "metadata": {},
   "outputs": [
    {
     "data": {
      "text/html": [
       "<div>\n",
       "<style scoped>\n",
       "    .dataframe tbody tr th:only-of-type {\n",
       "        vertical-align: middle;\n",
       "    }\n",
       "\n",
       "    .dataframe tbody tr th {\n",
       "        vertical-align: top;\n",
       "    }\n",
       "\n",
       "    .dataframe thead th {\n",
       "        text-align: right;\n",
       "    }\n",
       "</style>\n",
       "<table border=\"1\" class=\"dataframe\">\n",
       "  <thead>\n",
       "    <tr style=\"text-align: right;\">\n",
       "      <th></th>\n",
       "      <th>0</th>\n",
       "      <th>1</th>\n",
       "      <th>2</th>\n",
       "      <th>3</th>\n",
       "      <th>4</th>\n",
       "      <th>5</th>\n",
       "      <th>6</th>\n",
       "      <th>7</th>\n",
       "      <th>8</th>\n",
       "      <th>9</th>\n",
       "      <th>10</th>\n",
       "      <th>11</th>\n",
       "      <th>12</th>\n",
       "    </tr>\n",
       "  </thead>\n",
       "  <tbody>\n",
       "    <tr>\n",
       "      <th>0</th>\n",
       "      <td>0.603443</td>\n",
       "      <td>-0.736073</td>\n",
       "      <td>0.820845</td>\n",
       "      <td>0.081039</td>\n",
       "      <td>0.315396</td>\n",
       "      <td>-0.276840</td>\n",
       "      <td>0.328234</td>\n",
       "      <td>-0.326667</td>\n",
       "      <td>1.0</td>\n",
       "      <td>0.0</td>\n",
       "      <td>0.0</td>\n",
       "      <td>0.0</td>\n",
       "      <td>0.0</td>\n",
       "    </tr>\n",
       "    <tr>\n",
       "      <th>1</th>\n",
       "      <td>-0.105122</td>\n",
       "      <td>0.537108</td>\n",
       "      <td>0.661774</td>\n",
       "      <td>-0.206526</td>\n",
       "      <td>-0.196843</td>\n",
       "      <td>-0.246809</td>\n",
       "      <td>-0.160526</td>\n",
       "      <td>-0.995001</td>\n",
       "      <td>0.0</td>\n",
       "      <td>1.0</td>\n",
       "      <td>0.0</td>\n",
       "      <td>0.0</td>\n",
       "      <td>0.0</td>\n",
       "    </tr>\n",
       "    <tr>\n",
       "      <th>2</th>\n",
       "      <td>-1.422454</td>\n",
       "      <td>0.981785</td>\n",
       "      <td>1.377592</td>\n",
       "      <td>-0.374924</td>\n",
       "      <td>-0.301674</td>\n",
       "      <td>0.098553</td>\n",
       "      <td>-0.244613</td>\n",
       "      <td>0.074459</td>\n",
       "      <td>0.0</td>\n",
       "      <td>0.0</td>\n",
       "      <td>0.0</td>\n",
       "      <td>1.0</td>\n",
       "      <td>0.0</td>\n",
       "    </tr>\n",
       "    <tr>\n",
       "      <th>3</th>\n",
       "      <td>-1.352596</td>\n",
       "      <td>1.019231</td>\n",
       "      <td>1.854804</td>\n",
       "      <td>-1.055419</td>\n",
       "      <td>-1.049782</td>\n",
       "      <td>-1.079740</td>\n",
       "      <td>-1.082862</td>\n",
       "      <td>-1.235508</td>\n",
       "      <td>0.0</td>\n",
       "      <td>0.0</td>\n",
       "      <td>0.0</td>\n",
       "      <td>1.0</td>\n",
       "      <td>0.0</td>\n",
       "    </tr>\n",
       "    <tr>\n",
       "      <th>4</th>\n",
       "      <td>0.718211</td>\n",
       "      <td>-0.848412</td>\n",
       "      <td>0.661774</td>\n",
       "      <td>-0.507894</td>\n",
       "      <td>-0.589957</td>\n",
       "      <td>-0.628385</td>\n",
       "      <td>-0.567825</td>\n",
       "      <td>0.687448</td>\n",
       "      <td>1.0</td>\n",
       "      <td>0.0</td>\n",
       "      <td>0.0</td>\n",
       "      <td>0.0</td>\n",
       "      <td>0.0</td>\n",
       "    </tr>\n",
       "    <tr>\n",
       "      <th>...</th>\n",
       "      <td>...</td>\n",
       "      <td>...</td>\n",
       "      <td>...</td>\n",
       "      <td>...</td>\n",
       "      <td>...</td>\n",
       "      <td>...</td>\n",
       "      <td>...</td>\n",
       "      <td>...</td>\n",
       "      <td>...</td>\n",
       "      <td>...</td>\n",
       "      <td>...</td>\n",
       "      <td>...</td>\n",
       "      <td>...</td>\n",
       "    </tr>\n",
       "    <tr>\n",
       "      <th>17995</th>\n",
       "      <td>0.728191</td>\n",
       "      <td>-0.815647</td>\n",
       "      <td>0.423168</td>\n",
       "      <td>-0.057912</td>\n",
       "      <td>0.134325</td>\n",
       "      <td>0.111802</td>\n",
       "      <td>0.120643</td>\n",
       "      <td>-0.349320</td>\n",
       "      <td>1.0</td>\n",
       "      <td>0.0</td>\n",
       "      <td>0.0</td>\n",
       "      <td>0.0</td>\n",
       "      <td>0.0</td>\n",
       "    </tr>\n",
       "    <tr>\n",
       "      <th>17996</th>\n",
       "      <td>-0.459404</td>\n",
       "      <td>0.785191</td>\n",
       "      <td>1.298057</td>\n",
       "      <td>-0.368023</td>\n",
       "      <td>-0.277849</td>\n",
       "      <td>-0.015390</td>\n",
       "      <td>-0.241986</td>\n",
       "      <td>-0.956265</td>\n",
       "      <td>0.0</td>\n",
       "      <td>1.0</td>\n",
       "      <td>0.0</td>\n",
       "      <td>0.0</td>\n",
       "      <td>0.0</td>\n",
       "    </tr>\n",
       "    <tr>\n",
       "      <th>17997</th>\n",
       "      <td>0.593464</td>\n",
       "      <td>-0.731392</td>\n",
       "      <td>-0.610792</td>\n",
       "      <td>0.468908</td>\n",
       "      <td>0.996794</td>\n",
       "      <td>0.077354</td>\n",
       "      <td>1.027213</td>\n",
       "      <td>-0.165155</td>\n",
       "      <td>1.0</td>\n",
       "      <td>0.0</td>\n",
       "      <td>0.0</td>\n",
       "      <td>0.0</td>\n",
       "      <td>0.0</td>\n",
       "    </tr>\n",
       "    <tr>\n",
       "      <th>17998</th>\n",
       "      <td>1.127382</td>\n",
       "      <td>-0.731392</td>\n",
       "      <td>0.900380</td>\n",
       "      <td>0.139013</td>\n",
       "      <td>0.463112</td>\n",
       "      <td>0.531359</td>\n",
       "      <td>0.464877</td>\n",
       "      <td>-0.923784</td>\n",
       "      <td>0.0</td>\n",
       "      <td>1.0</td>\n",
       "      <td>0.0</td>\n",
       "      <td>0.0</td>\n",
       "      <td>0.0</td>\n",
       "    </tr>\n",
       "    <tr>\n",
       "      <th>17999</th>\n",
       "      <td>0.922797</td>\n",
       "      <td>-0.942029</td>\n",
       "      <td>-0.610792</td>\n",
       "      <td>-0.143492</td>\n",
       "      <td>-0.046745</td>\n",
       "      <td>-0.671665</td>\n",
       "      <td>-0.110599</td>\n",
       "      <td>-0.369818</td>\n",
       "      <td>1.0</td>\n",
       "      <td>0.0</td>\n",
       "      <td>0.0</td>\n",
       "      <td>0.0</td>\n",
       "      <td>0.0</td>\n",
       "    </tr>\n",
       "  </tbody>\n",
       "</table>\n",
       "<p>18000 rows × 13 columns</p>\n",
       "</div>"
      ],
      "text/plain": [
       "             0         1         2         3         4         5         6   \\\n",
       "0      0.603443 -0.736073  0.820845  0.081039  0.315396 -0.276840  0.328234   \n",
       "1     -0.105122  0.537108  0.661774 -0.206526 -0.196843 -0.246809 -0.160526   \n",
       "2     -1.422454  0.981785  1.377592 -0.374924 -0.301674  0.098553 -0.244613   \n",
       "3     -1.352596  1.019231  1.854804 -1.055419 -1.049782 -1.079740 -1.082862   \n",
       "4      0.718211 -0.848412  0.661774 -0.507894 -0.589957 -0.628385 -0.567825   \n",
       "...         ...       ...       ...       ...       ...       ...       ...   \n",
       "17995  0.728191 -0.815647  0.423168 -0.057912  0.134325  0.111802  0.120643   \n",
       "17996 -0.459404  0.785191  1.298057 -0.368023 -0.277849 -0.015390 -0.241986   \n",
       "17997  0.593464 -0.731392 -0.610792  0.468908  0.996794  0.077354  1.027213   \n",
       "17998  1.127382 -0.731392  0.900380  0.139013  0.463112  0.531359  0.464877   \n",
       "17999  0.922797 -0.942029 -0.610792 -0.143492 -0.046745 -0.671665 -0.110599   \n",
       "\n",
       "             7    8    9    10   11   12  \n",
       "0     -0.326667  1.0  0.0  0.0  0.0  0.0  \n",
       "1     -0.995001  0.0  1.0  0.0  0.0  0.0  \n",
       "2      0.074459  0.0  0.0  0.0  1.0  0.0  \n",
       "3     -1.235508  0.0  0.0  0.0  1.0  0.0  \n",
       "4      0.687448  1.0  0.0  0.0  0.0  0.0  \n",
       "...         ...  ...  ...  ...  ...  ...  \n",
       "17995 -0.349320  1.0  0.0  0.0  0.0  0.0  \n",
       "17996 -0.956265  0.0  1.0  0.0  0.0  0.0  \n",
       "17997 -0.165155  1.0  0.0  0.0  0.0  0.0  \n",
       "17998 -0.923784  0.0  1.0  0.0  0.0  0.0  \n",
       "17999 -0.369818  1.0  0.0  0.0  0.0  0.0  \n",
       "\n",
       "[18000 rows x 13 columns]"
      ]
     },
     "execution_count": 59,
     "metadata": {},
     "output_type": "execute_result"
    }
   ],
   "source": [
    "pd.DataFrame(X_train_preprocessed)"
   ]
  },
  {
   "cell_type": "code",
   "execution_count": 60,
   "id": "62cf1943",
   "metadata": {},
   "outputs": [
    {
     "data": {
      "image/png": "[encoded data removed]",
      "text/plain": [
       "<Figure size 640x480 with 16 Axes>"
      ]
     },
     "metadata": {},
     "output_type": "display_data"
    }
   ],
   "source": [
    "# visualise\n",
    "pd.DataFrame(X_train_preprocessed).hist();"
   ]
  },
  {
   "cell_type": "code",
   "execution_count": 61,
   "id": "80b44160",
   "metadata": {},
   "outputs": [
    {
     "data": {
      "image/png": "[encoded data removed]",
      "text/plain": [
       "<Figure size 640x480 with 1 Axes>"
      ]
     },
     "metadata": {},
     "output_type": "display_data"
    }
   ],
   "source": [
    "pd.DataFrame(X_train_preprocessed)[0].hist();"
   ]
  },
  {
   "cell_type": "code",
   "execution_count": 62,
   "id": "f9578933",
   "metadata": {},
   "outputs": [
    {
     "data": {
      "image/png": "[encoded data removed]",
      "text/plain": [
       "<Figure size 640x480 with 1 Axes>"
      ]
     },
     "metadata": {},
     "output_type": "display_data"
    }
   ],
   "source": [
    "pd.DataFrame(X_train_preprocessed)[1].hist();"
   ]
  },
  {
   "cell_type": "markdown",
   "id": "8d4e4659",
   "metadata": {},
   "source": [
    "Mean Squared Error"
   ]
  },
  {
   "cell_type": "code",
   "execution_count": 65,
   "id": "0dd19d39",
   "metadata": {},
   "outputs": [
    {
     "name": "stderr",
     "output_type": "stream",
     "text": [
      "C:\\Users\\Craigs\\anaconda3\\Lib\\site-packages\\sklearn\\metrics\\_regression.py:492: FutureWarning: 'squared' is deprecated in version 1.4 and will be removed in 1.6. To calculate the root mean squared error, use the function'root_mean_squared_error'.\n",
      "  warnings.warn(\n"
     ]
    },
    {
     "data": {
      "text/plain": [
       "68593.05578127236"
      ]
     },
     "execution_count": 65,
     "metadata": {},
     "output_type": "execute_result"
    }
   ],
   "source": [
    "from sklearn.metrics import mean_squared_error as mse\n",
    "from sklearn.linear_model import LinearRegression\n",
    "\n",
    "lr = LinearRegression().fit(X_train, y_train)\n",
    "mse(lr.predict(X_train),y_train, squared=False)\n",
    "# or np.sqrt(mse)"
   ]
  },
  {
   "cell_type": "code",
   "execution_count": 67,
   "id": "e62b0025",
   "metadata": {},
   "outputs": [
    {
     "name": "stderr",
     "output_type": "stream",
     "text": [
      "C:\\Users\\Craigs\\anaconda3\\Lib\\site-packages\\sklearn\\metrics\\_regression.py:492: FutureWarning: 'squared' is deprecated in version 1.4 and will be removed in 1.6. To calculate the root mean squared error, use the function'root_mean_squared_error'.\n",
      "  warnings.warn(\n",
      "C:\\Users\\Craigs\\anaconda3\\Lib\\site-packages\\sklearn\\metrics\\_regression.py:492: FutureWarning: 'squared' is deprecated in version 1.4 and will be removed in 1.6. To calculate the root mean squared error, use the function'root_mean_squared_error'.\n",
      "  warnings.warn(\n"
     ]
    },
    {
     "data": {
      "text/plain": [
       "(68593.05578127236, 71382.43558330165)"
      ]
     },
     "execution_count": 67,
     "metadata": {},
     "output_type": "execute_result"
    }
   ],
   "source": [
    "lr = LinearRegression().fit(X_train, y_train)\n",
    "mse(lr.predict(X_train),y_train, squared=False), mse(lr.predict(X_val),y_val, squared=False)"
   ]
  },
  {
   "cell_type": "markdown",
   "id": "ca6779df",
   "metadata": {},
   "source": [
    "Probably not the best"
   ]
  },
  {
   "cell_type": "markdown",
   "id": "b1a047db",
   "metadata": {},
   "source": [
    "Try KNN"
   ]
  },
  {
   "cell_type": "code",
   "execution_count": 74,
   "id": "97688527",
   "metadata": {},
   "outputs": [
    {
     "name": "stderr",
     "output_type": "stream",
     "text": [
      "C:\\Users\\Craigs\\anaconda3\\Lib\\site-packages\\sklearn\\metrics\\_regression.py:492: FutureWarning: 'squared' is deprecated in version 1.4 and will be removed in 1.6. To calculate the root mean squared error, use the function'root_mean_squared_error'.\n",
      "  warnings.warn(\n",
      "C:\\Users\\Craigs\\anaconda3\\Lib\\site-packages\\sklearn\\metrics\\_regression.py:492: FutureWarning: 'squared' is deprecated in version 1.4 and will be removed in 1.6. To calculate the root mean squared error, use the function'root_mean_squared_error'.\n",
      "  warnings.warn(\n"
     ]
    },
    {
     "data": {
      "text/plain": [
       "(53759.09908812057, 62161.22860469906)"
      ]
     },
     "execution_count": 74,
     "metadata": {},
     "output_type": "execute_result"
    }
   ],
   "source": [
    "from sklearn.neighbors import KNeighborsRegressor\n",
    "knn = KNeighborsRegressor(n_neighbors=10).fit(X_train,y_train)\n",
    "mse(knn.predict(X_train),y_train, squared=False), mse(knn.predict(X_val),y_val, squared=False)\n",
    "# increasing n should reduce overfitting"
   ]
  },
  {
   "cell_type": "markdown",
   "id": "bd0fe937",
   "metadata": {},
   "source": [
    "Try Random Forest"
   ]
  },
  {
   "cell_type": "code",
   "execution_count": 77,
   "id": "979c87bc",
   "metadata": {},
   "outputs": [
    {
     "name": "stderr",
     "output_type": "stream",
     "text": [
      "C:\\Users\\Craigs\\anaconda3\\Lib\\site-packages\\sklearn\\metrics\\_regression.py:492: FutureWarning: 'squared' is deprecated in version 1.4 and will be removed in 1.6. To calculate the root mean squared error, use the function'root_mean_squared_error'.\n",
      "  warnings.warn(\n",
      "C:\\Users\\Craigs\\anaconda3\\Lib\\site-packages\\sklearn\\metrics\\_regression.py:492: FutureWarning: 'squared' is deprecated in version 1.4 and will be removed in 1.6. To calculate the root mean squared error, use the function'root_mean_squared_error'.\n",
      "  warnings.warn(\n"
     ]
    },
    {
     "data": {
      "text/plain": [
       "(43610.8529877057, 53558.73433850915)"
      ]
     },
     "execution_count": 77,
     "metadata": {},
     "output_type": "execute_result"
    }
   ],
   "source": [
    "from sklearn.ensemble import RandomForestRegressor\n",
    "rfr= RandomForestRegressor(max_depth=10).fit(X_train, y_train)\n",
    "mse(rfr.predict(X_train),y_train, squared=False), mse(rfr.predict(X_val),y_val, squared=False)\n",
    "# not bad?"
   ]
  },
  {
   "cell_type": "markdown",
   "id": "f3c70a10",
   "metadata": {},
   "source": [
    "Gradient Boosting"
   ]
  },
  {
   "cell_type": "code",
   "execution_count": 79,
   "id": "333e6b93",
   "metadata": {},
   "outputs": [
    {
     "name": "stderr",
     "output_type": "stream",
     "text": [
      "C:\\Users\\Craigs\\anaconda3\\Lib\\site-packages\\sklearn\\metrics\\_regression.py:492: FutureWarning: 'squared' is deprecated in version 1.4 and will be removed in 1.6. To calculate the root mean squared error, use the function'root_mean_squared_error'.\n",
      "  warnings.warn(\n",
      "C:\\Users\\Craigs\\anaconda3\\Lib\\site-packages\\sklearn\\metrics\\_regression.py:492: FutureWarning: 'squared' is deprecated in version 1.4 and will be removed in 1.6. To calculate the root mean squared error, use the function'root_mean_squared_error'.\n",
      "  warnings.warn(\n"
     ]
    },
    {
     "data": {
      "text/plain": [
       "(47274.82259072157, 51251.09445642893)"
      ]
     },
     "execution_count": 79,
     "metadata": {},
     "output_type": "execute_result"
    }
   ],
   "source": [
    "from sklearn.ensemble import GradientBoostingRegressor\n",
    "gbr = GradientBoostingRegressor(n_estimators=250).fit(X_train, y_train)\n",
    "mse(gbr.predict(X_train),y_train, squared=False), mse(gbr.predict(X_val),y_val, squared=False)\n"
   ]
  },
  {
   "cell_type": "markdown",
   "id": "3c4c1af1",
   "metadata": {},
   "source": [
    "Neural Networks"
   ]
  },
  {
   "cell_type": "code",
   "execution_count": 84,
   "id": "55d64728",
   "metadata": {},
   "outputs": [
    {
     "name": "stdout",
     "output_type": "stream",
     "text": [
      "Epoch 1/100\n",
      "562/563 [============================>.] - ETA: 0s - loss: 50623098880.0000 - root_mean_squared_error: 224995.7812INFO:tensorflow:Assets written to: models\\simple_nn\\assets\n"
     ]
    },
    {
     "name": "stderr",
     "output_type": "stream",
     "text": [
      "INFO:tensorflow:Assets written to: models\\simple_nn\\assets\n"
     ]
    },
    {
     "name": "stdout",
     "output_type": "stream",
     "text": [
      "563/563 [==============================] - 2s 3ms/step - loss: 50640007168.0000 - root_mean_squared_error: 225033.3438 - val_loss: 41082404864.0000 - val_root_mean_squared_error: 202687.9531\n",
      "Epoch 2/100\n",
      "549/563 [============================>.] - ETA: 0s - loss: 31276034048.0000 - root_mean_squared_error: 176850.3125INFO:tensorflow:Assets written to: models\\simple_nn\\assets\n"
     ]
    },
    {
     "name": "stderr",
     "output_type": "stream",
     "text": [
      "INFO:tensorflow:Assets written to: models\\simple_nn\\assets\n"
     ]
    },
    {
     "name": "stdout",
     "output_type": "stream",
     "text": [
      "563/563 [==============================] - 2s 4ms/step - loss: 31040950272.0000 - root_mean_squared_error: 176184.4219 - val_loss: 23800631296.0000 - val_root_mean_squared_error: 154274.5312\n",
      "Epoch 3/100\n",
      "561/563 [============================>.] - ETA: 0s - loss: 18974550016.0000 - root_mean_squared_error: 137748.1406INFO:tensorflow:Assets written to: models\\simple_nn\\assets\n"
     ]
    },
    {
     "name": "stderr",
     "output_type": "stream",
     "text": [
      "INFO:tensorflow:Assets written to: models\\simple_nn\\assets\n"
     ]
    },
    {
     "name": "stdout",
     "output_type": "stream",
     "text": [
      "563/563 [==============================] - 2s 4ms/step - loss: 18979559424.0000 - root_mean_squared_error: 137766.3281 - val_loss: 13687355392.0000 - val_root_mean_squared_error: 116992.9688\n",
      "Epoch 4/100\n",
      "542/563 [===========================>..] - ETA: 0s - loss: 8992196608.0000 - root_mean_squared_error: 94827.1953INFO:tensorflow:Assets written to: models\\simple_nn\\assets\n"
     ]
    },
    {
     "name": "stderr",
     "output_type": "stream",
     "text": [
      "INFO:tensorflow:Assets written to: models\\simple_nn\\assets\n"
     ]
    },
    {
     "name": "stdout",
     "output_type": "stream",
     "text": [
      "563/563 [==============================] - 2s 4ms/step - loss: 8848826368.0000 - root_mean_squared_error: 94068.2031 - val_loss: 5616344064.0000 - val_root_mean_squared_error: 74942.2734\n",
      "Epoch 5/100\n",
      "549/563 [============================>.] - ETA: 0s - loss: 5184801792.0000 - root_mean_squared_error: 72005.5703INFO:tensorflow:Assets written to: models\\simple_nn\\assets\n"
     ]
    },
    {
     "name": "stderr",
     "output_type": "stream",
     "text": [
      "INFO:tensorflow:Assets written to: models\\simple_nn\\assets\n"
     ]
    },
    {
     "name": "stdout",
     "output_type": "stream",
     "text": [
      "563/563 [==============================] - 2s 4ms/step - loss: 5169420800.0000 - root_mean_squared_error: 71898.6875 - val_loss: 5218484224.0000 - val_root_mean_squared_error: 72239.0781\n",
      "Epoch 6/100\n",
      "553/563 [============================>.] - ETA: 0s - loss: 4893499392.0000 - root_mean_squared_error: 69953.5547INFO:tensorflow:Assets written to: models\\simple_nn\\assets\n"
     ]
    },
    {
     "name": "stderr",
     "output_type": "stream",
     "text": [
      "INFO:tensorflow:Assets written to: models\\simple_nn\\assets\n"
     ]
    },
    {
     "name": "stdout",
     "output_type": "stream",
     "text": [
      "563/563 [==============================] - 2s 4ms/step - loss: 4902246400.0000 - root_mean_squared_error: 70016.0469 - val_loss: 5156136960.0000 - val_root_mean_squared_error: 71806.2422\n",
      "Epoch 7/100\n",
      "560/563 [============================>.] - ETA: 0s - loss: 4804294144.0000 - root_mean_squared_error: 69313.0156INFO:tensorflow:Assets written to: models\\simple_nn\\assets\n"
     ]
    },
    {
     "name": "stderr",
     "output_type": "stream",
     "text": [
      "INFO:tensorflow:Assets written to: models\\simple_nn\\assets\n"
     ]
    },
    {
     "name": "stdout",
     "output_type": "stream",
     "text": [
      "563/563 [==============================] - 2s 4ms/step - loss: 4801345536.0000 - root_mean_squared_error: 69291.7422 - val_loss: 5090258944.0000 - val_root_mean_squared_error: 71346.0469\n",
      "Epoch 8/100\n",
      "563/563 [==============================] - 2s 3ms/step - loss: 4746035200.0000 - root_mean_squared_error: 68891.4766 - val_loss: 5103365120.0000 - val_root_mean_squared_error: 71437.8438\n",
      "Epoch 9/100\n",
      "562/563 [============================>.] - ETA: 0s - loss: 4712417792.0000 - root_mean_squared_error: 68647.0547INFO:tensorflow:Assets written to: models\\simple_nn\\assets\n"
     ]
    },
    {
     "name": "stderr",
     "output_type": "stream",
     "text": [
      "INFO:tensorflow:Assets written to: models\\simple_nn\\assets\n"
     ]
    },
    {
     "name": "stdout",
     "output_type": "stream",
     "text": [
      "563/563 [==============================] - 2s 4ms/step - loss: 4709817856.0000 - root_mean_squared_error: 68628.1094 - val_loss: 5070090752.0000 - val_root_mean_squared_error: 71204.5703\n",
      "Epoch 10/100\n",
      "561/563 [============================>.] - ETA: 0s - loss: 4683086336.0000 - root_mean_squared_error: 68433.0781INFO:tensorflow:Assets written to: models\\simple_nn\\assets\n"
     ]
    },
    {
     "name": "stderr",
     "output_type": "stream",
     "text": [
      "INFO:tensorflow:Assets written to: models\\simple_nn\\assets\n"
     ]
    },
    {
     "name": "stdout",
     "output_type": "stream",
     "text": [
      "563/563 [==============================] - 2s 4ms/step - loss: 4682247168.0000 - root_mean_squared_error: 68426.9453 - val_loss: 5065965056.0000 - val_root_mean_squared_error: 71175.5938\n",
      "Epoch 11/100\n",
      "554/563 [============================>.] - ETA: 0s - loss: 4666414592.0000 - root_mean_squared_error: 68311.1562INFO:tensorflow:Assets written to: models\\simple_nn\\assets\n"
     ]
    },
    {
     "name": "stderr",
     "output_type": "stream",
     "text": [
      "INFO:tensorflow:Assets written to: models\\simple_nn\\assets\n"
     ]
    },
    {
     "name": "stdout",
     "output_type": "stream",
     "text": [
      "563/563 [==============================] - 2s 4ms/step - loss: 4663819776.0000 - root_mean_squared_error: 68292.1641 - val_loss: 5039635968.0000 - val_root_mean_squared_error: 70990.3906\n",
      "Epoch 12/100\n",
      "563/563 [==============================] - ETA: 0s - loss: 4647217664.0000 - root_mean_squared_error: 68170.5078INFO:tensorflow:Assets written to: models\\simple_nn\\assets\n"
     ]
    },
    {
     "name": "stderr",
     "output_type": "stream",
     "text": [
      "INFO:tensorflow:Assets written to: models\\simple_nn\\assets\n"
     ]
    },
    {
     "name": "stdout",
     "output_type": "stream",
     "text": [
      "563/563 [==============================] - 2s 4ms/step - loss: 4647217664.0000 - root_mean_squared_error: 68170.5078 - val_loss: 5023345152.0000 - val_root_mean_squared_error: 70875.5625\n",
      "Epoch 13/100\n",
      "555/563 [============================>.] - ETA: 0s - loss: 4640189440.0000 - root_mean_squared_error: 68118.9375INFO:tensorflow:Assets written to: models\\simple_nn\\assets\n"
     ]
    },
    {
     "name": "stderr",
     "output_type": "stream",
     "text": [
      "INFO:tensorflow:Assets written to: models\\simple_nn\\assets\n"
     ]
    },
    {
     "name": "stdout",
     "output_type": "stream",
     "text": [
      "563/563 [==============================] - 2s 4ms/step - loss: 4635121152.0000 - root_mean_squared_error: 68081.7266 - val_loss: 5014219776.0000 - val_root_mean_squared_error: 70811.1562\n",
      "Epoch 14/100\n",
      "540/563 [===========================>..] - ETA: 0s - loss: 4590600704.0000 - root_mean_squared_error: 67753.9688INFO:tensorflow:Assets written to: models\\simple_nn\\assets\n"
     ]
    },
    {
     "name": "stderr",
     "output_type": "stream",
     "text": [
      "INFO:tensorflow:Assets written to: models\\simple_nn\\assets\n"
     ]
    },
    {
     "name": "stdout",
     "output_type": "stream",
     "text": [
      "563/563 [==============================] - 2s 4ms/step - loss: 4624171008.0000 - root_mean_squared_error: 68001.2578 - val_loss: 5010275840.0000 - val_root_mean_squared_error: 70783.3047\n",
      "Epoch 15/100\n",
      "540/563 [===========================>..] - ETA: 0s - loss: 4629405696.0000 - root_mean_squared_error: 68039.7344INFO:tensorflow:Assets written to: models\\simple_nn\\assets\n"
     ]
    },
    {
     "name": "stderr",
     "output_type": "stream",
     "text": [
      "INFO:tensorflow:Assets written to: models\\simple_nn\\assets\n"
     ]
    },
    {
     "name": "stdout",
     "output_type": "stream",
     "text": [
      "563/563 [==============================] - 2s 4ms/step - loss: 4615394304.0000 - root_mean_squared_error: 67936.6953 - val_loss: 5009340928.0000 - val_root_mean_squared_error: 70776.6953\n",
      "Epoch 16/100\n",
      "557/563 [============================>.] - ETA: 0s - loss: 4584878592.0000 - root_mean_squared_error: 67711.7344INFO:tensorflow:Assets written to: models\\simple_nn\\assets\n"
     ]
    },
    {
     "name": "stderr",
     "output_type": "stream",
     "text": [
      "INFO:tensorflow:Assets written to: models\\simple_nn\\assets\n"
     ]
    },
    {
     "name": "stdout",
     "output_type": "stream",
     "text": [
      "563/563 [==============================] - 2s 4ms/step - loss: 4606577152.0000 - root_mean_squared_error: 67871.7734 - val_loss: 4994285056.0000 - val_root_mean_squared_error: 70670.2578\n",
      "Epoch 17/100\n",
      "560/563 [============================>.] - ETA: 0s - loss: 4597456896.0000 - root_mean_squared_error: 67804.5469INFO:tensorflow:Assets written to: models\\simple_nn\\assets\n"
     ]
    },
    {
     "name": "stderr",
     "output_type": "stream",
     "text": [
      "INFO:tensorflow:Assets written to: models\\simple_nn\\assets\n"
     ]
    },
    {
     "name": "stdout",
     "output_type": "stream",
     "text": [
      "563/563 [==============================] - 2s 4ms/step - loss: 4601427456.0000 - root_mean_squared_error: 67833.8203 - val_loss: 4993153536.0000 - val_root_mean_squared_error: 70662.2500\n",
      "Epoch 18/100\n",
      "563/563 [==============================] - 2s 3ms/step - loss: 4594588160.0000 - root_mean_squared_error: 67783.3906 - val_loss: 4995693056.0000 - val_root_mean_squared_error: 70680.2188\n",
      "Epoch 19/100\n",
      "557/563 [============================>.] - ETA: 0s - loss: 4589688832.0000 - root_mean_squared_error: 67747.2422INFO:tensorflow:Assets written to: models\\simple_nn\\assets\n"
     ]
    },
    {
     "name": "stderr",
     "output_type": "stream",
     "text": [
      "INFO:tensorflow:Assets written to: models\\simple_nn\\assets\n"
     ]
    },
    {
     "name": "stdout",
     "output_type": "stream",
     "text": [
      "563/563 [==============================] - 2s 4ms/step - loss: 4587840000.0000 - root_mean_squared_error: 67733.5938 - val_loss: 4978372608.0000 - val_root_mean_squared_error: 70557.5859\n",
      "Epoch 20/100\n",
      "551/563 [============================>.] - ETA: 0s - loss: 4581679616.0000 - root_mean_squared_error: 67688.1016INFO:tensorflow:Assets written to: models\\simple_nn\\assets\n"
     ]
    },
    {
     "name": "stderr",
     "output_type": "stream",
     "text": [
      "INFO:tensorflow:Assets written to: models\\simple_nn\\assets\n"
     ]
    },
    {
     "name": "stdout",
     "output_type": "stream",
     "text": [
      "563/563 [==============================] - 2s 4ms/step - loss: 4583471104.0000 - root_mean_squared_error: 67701.3359 - val_loss: 4969654272.0000 - val_root_mean_squared_error: 70495.7734\n",
      "Epoch 21/100\n",
      "547/563 [============================>.] - ETA: 0s - loss: 4602542592.0000 - root_mean_squared_error: 67842.0391INFO:tensorflow:Assets written to: models\\simple_nn\\assets\n"
     ]
    },
    {
     "name": "stderr",
     "output_type": "stream",
     "text": [
      "INFO:tensorflow:Assets written to: models\\simple_nn\\assets\n"
     ]
    },
    {
     "name": "stdout",
     "output_type": "stream",
     "text": [
      "563/563 [==============================] - 2s 4ms/step - loss: 4578680832.0000 - root_mean_squared_error: 67665.9531 - val_loss: 4967240192.0000 - val_root_mean_squared_error: 70478.6484\n",
      "Epoch 22/100\n",
      "563/563 [==============================] - 1s 2ms/step - loss: 4573629440.0000 - root_mean_squared_error: 67628.6172 - val_loss: 4967346688.0000 - val_root_mean_squared_error: 70479.4062\n",
      "Epoch 23/100\n",
      "563/563 [==============================] - 1s 3ms/step - loss: 4569694208.0000 - root_mean_squared_error: 67599.5156 - val_loss: 4970158080.0000 - val_root_mean_squared_error: 70499.3516\n",
      "Epoch 24/100\n",
      "563/563 [==============================] - 1s 2ms/step - loss: 4562694656.0000 - root_mean_squared_error: 67547.7188 - val_loss: 4981724672.0000 - val_root_mean_squared_error: 70581.3359\n",
      "Epoch 25/100\n",
      "559/563 [============================>.] - ETA: 0s - loss: 4565859840.0000 - root_mean_squared_error: 67571.1484INFO:tensorflow:Assets written to: models\\simple_nn\\assets\n"
     ]
    },
    {
     "name": "stderr",
     "output_type": "stream",
     "text": [
      "INFO:tensorflow:Assets written to: models\\simple_nn\\assets\n"
     ]
    },
    {
     "name": "stdout",
     "output_type": "stream",
     "text": [
      "563/563 [==============================] - 2s 4ms/step - loss: 4559824384.0000 - root_mean_squared_error: 67526.4688 - val_loss: 4960958464.0000 - val_root_mean_squared_error: 70434.0703\n",
      "Epoch 26/100\n",
      "550/563 [============================>.] - ETA: 0s - loss: 4516482560.0000 - root_mean_squared_error: 67204.7812INFO:tensorflow:Assets written to: models\\simple_nn\\assets\n"
     ]
    },
    {
     "name": "stderr",
     "output_type": "stream",
     "text": [
      "INFO:tensorflow:Assets written to: models\\simple_nn\\assets\n"
     ]
    },
    {
     "name": "stdout",
     "output_type": "stream",
     "text": [
      "563/563 [==============================] - 2s 4ms/step - loss: 4553937920.0000 - root_mean_squared_error: 67482.8750 - val_loss: 4943201280.0000 - val_root_mean_squared_error: 70307.9062\n",
      "Epoch 27/100\n",
      "563/563 [==============================] - 1s 3ms/step - loss: 4548969472.0000 - root_mean_squared_error: 67446.0469 - val_loss: 4947059200.0000 - val_root_mean_squared_error: 70335.3359\n",
      "Epoch 28/100\n",
      "563/563 [==============================] - 1s 3ms/step - loss: 4545758720.0000 - root_mean_squared_error: 67422.2422 - val_loss: 4959486976.0000 - val_root_mean_squared_error: 70423.6250\n",
      "Epoch 29/100\n",
      "553/563 [============================>.] - ETA: 0s - loss: 4550498304.0000 - root_mean_squared_error: 67457.3828INFO:tensorflow:Assets written to: models\\simple_nn\\assets\n"
     ]
    },
    {
     "name": "stderr",
     "output_type": "stream",
     "text": [
      "INFO:tensorflow:Assets written to: models\\simple_nn\\assets\n"
     ]
    },
    {
     "name": "stdout",
     "output_type": "stream",
     "text": [
      "563/563 [==============================] - 3s 5ms/step - loss: 4541433344.0000 - root_mean_squared_error: 67390.1562 - val_loss: 4929562624.0000 - val_root_mean_squared_error: 70210.8438\n",
      "Epoch 30/100\n",
      "563/563 [==============================] - 1s 3ms/step - loss: 4536755712.0000 - root_mean_squared_error: 67355.4453 - val_loss: 4945069568.0000 - val_root_mean_squared_error: 70321.1875\n",
      "Epoch 31/100\n",
      "563/563 [==============================] - 1s 3ms/step - loss: 4532623360.0000 - root_mean_squared_error: 67324.7578 - val_loss: 4946572288.0000 - val_root_mean_squared_error: 70331.8750\n",
      "Epoch 32/100\n",
      "563/563 [==============================] - 1s 3ms/step - loss: 4527836672.0000 - root_mean_squared_error: 67289.2031 - val_loss: 4934652928.0000 - val_root_mean_squared_error: 70247.0859\n",
      "Epoch 33/100\n",
      "561/563 [============================>.] - ETA: 0s - loss: 4528582144.0000 - root_mean_squared_error: 67294.7422INFO:tensorflow:Assets written to: models\\simple_nn\\assets\n"
     ]
    },
    {
     "name": "stderr",
     "output_type": "stream",
     "text": [
      "INFO:tensorflow:Assets written to: models\\simple_nn\\assets\n"
     ]
    },
    {
     "name": "stdout",
     "output_type": "stream",
     "text": [
      "563/563 [==============================] - 2s 3ms/step - loss: 4522692608.0000 - root_mean_squared_error: 67250.9688 - val_loss: 4927545344.0000 - val_root_mean_squared_error: 70196.4766\n",
      "Epoch 34/100\n",
      "538/563 [===========================>..] - ETA: 0s - loss: 4538751488.0000 - root_mean_squared_error: 67370.2578INFO:tensorflow:Assets written to: models\\simple_nn\\assets\n"
     ]
    },
    {
     "name": "stderr",
     "output_type": "stream",
     "text": [
      "INFO:tensorflow:Assets written to: models\\simple_nn\\assets\n"
     ]
    },
    {
     "name": "stdout",
     "output_type": "stream",
     "text": [
      "563/563 [==============================] - 2s 4ms/step - loss: 4521134080.0000 - root_mean_squared_error: 67239.3828 - val_loss: 4913058304.0000 - val_root_mean_squared_error: 70093.2109\n",
      "Epoch 35/100\n",
      "563/563 [==============================] - 1s 3ms/step - loss: 4514563072.0000 - root_mean_squared_error: 67190.5000 - val_loss: 4913964032.0000 - val_root_mean_squared_error: 70099.6719\n",
      "Epoch 36/100\n",
      "563/563 [==============================] - 1s 3ms/step - loss: 4510116864.0000 - root_mean_squared_error: 67157.4062 - val_loss: 4914958336.0000 - val_root_mean_squared_error: 70106.7656\n",
      "Epoch 37/100\n",
      "549/563 [============================>.] - ETA: 0s - loss: 4496233984.0000 - root_mean_squared_error: 67053.9609INFO:tensorflow:Assets written to: models\\simple_nn\\assets\n"
     ]
    },
    {
     "name": "stderr",
     "output_type": "stream",
     "text": [
      "INFO:tensorflow:Assets written to: models\\simple_nn\\assets\n"
     ]
    },
    {
     "name": "stdout",
     "output_type": "stream",
     "text": [
      "563/563 [==============================] - 2s 4ms/step - loss: 4506477056.0000 - root_mean_squared_error: 67130.2969 - val_loss: 4890903040.0000 - val_root_mean_squared_error: 69934.9922\n",
      "Epoch 38/100\n",
      "563/563 [==============================] - 1s 2ms/step - loss: 4502168576.0000 - root_mean_squared_error: 67098.2031 - val_loss: 4907833344.0000 - val_root_mean_squared_error: 70055.9297\n",
      "Epoch 39/100\n",
      "556/563 [============================>.] - ETA: 0s - loss: 4500393472.0000 - root_mean_squared_error: 67084.9688INFO:tensorflow:Assets written to: models\\simple_nn\\assets\n"
     ]
    },
    {
     "name": "stderr",
     "output_type": "stream",
     "text": [
      "INFO:tensorflow:Assets written to: models\\simple_nn\\assets\n"
     ]
    },
    {
     "name": "stdout",
     "output_type": "stream",
     "text": [
      "563/563 [==============================] - 2s 3ms/step - loss: 4498062336.0000 - root_mean_squared_error: 67067.5938 - val_loss: 4880138240.0000 - val_root_mean_squared_error: 69857.9844\n",
      "Epoch 40/100\n",
      "563/563 [==============================] - 2s 3ms/step - loss: 4493103616.0000 - root_mean_squared_error: 67030.6172 - val_loss: 4882863104.0000 - val_root_mean_squared_error: 69877.4844\n",
      "Epoch 41/100\n",
      "562/563 [============================>.] - ETA: 0s - loss: 4490854912.0000 - root_mean_squared_error: 67013.8438INFO:tensorflow:Assets written to: models\\simple_nn\\assets\n"
     ]
    },
    {
     "name": "stderr",
     "output_type": "stream",
     "text": [
      "INFO:tensorflow:Assets written to: models\\simple_nn\\assets\n"
     ]
    },
    {
     "name": "stdout",
     "output_type": "stream",
     "text": [
      "563/563 [==============================] - 2s 4ms/step - loss: 4488820736.0000 - root_mean_squared_error: 66998.6641 - val_loss: 4877016064.0000 - val_root_mean_squared_error: 69835.6328\n",
      "Epoch 42/100\n",
      "563/563 [==============================] - 1s 3ms/step - loss: 4483429376.0000 - root_mean_squared_error: 66958.4141 - val_loss: 4878869504.0000 - val_root_mean_squared_error: 69848.9062\n",
      "Epoch 43/100\n",
      "546/563 [============================>.] - ETA: 0s - loss: 4515618816.0000 - root_mean_squared_error: 67198.3516INFO:tensorflow:Assets written to: models\\simple_nn\\assets\n"
     ]
    },
    {
     "name": "stderr",
     "output_type": "stream",
     "text": [
      "INFO:tensorflow:Assets written to: models\\simple_nn\\assets\n"
     ]
    },
    {
     "name": "stdout",
     "output_type": "stream",
     "text": [
      "563/563 [==============================] - 2s 4ms/step - loss: 4482970112.0000 - root_mean_squared_error: 66954.9844 - val_loss: 4863816704.0000 - val_root_mean_squared_error: 69741.0703\n",
      "Epoch 44/100\n",
      "550/563 [============================>.] - ETA: 0s - loss: 4479928320.0000 - root_mean_squared_error: 66932.2656INFO:tensorflow:Assets written to: models\\simple_nn\\assets\n"
     ]
    },
    {
     "name": "stderr",
     "output_type": "stream",
     "text": [
      "INFO:tensorflow:Assets written to: models\\simple_nn\\assets\n"
     ]
    },
    {
     "name": "stdout",
     "output_type": "stream",
     "text": [
      "563/563 [==============================] - 2s 4ms/step - loss: 4475743232.0000 - root_mean_squared_error: 66900.9922 - val_loss: 4861459968.0000 - val_root_mean_squared_error: 69724.1719\n",
      "Epoch 45/100\n",
      "556/563 [============================>.] - ETA: 0s - loss: 4467267072.0000 - root_mean_squared_error: 66837.6172INFO:tensorflow:Assets written to: models\\simple_nn\\assets\n"
     ]
    },
    {
     "name": "stderr",
     "output_type": "stream",
     "text": [
      "INFO:tensorflow:Assets written to: models\\simple_nn\\assets\n"
     ]
    },
    {
     "name": "stdout",
     "output_type": "stream",
     "text": [
      "563/563 [==============================] - 2s 4ms/step - loss: 4472814080.0000 - root_mean_squared_error: 66879.1016 - val_loss: 4853827584.0000 - val_root_mean_squared_error: 69669.4141\n",
      "Epoch 46/100\n",
      "559/563 [============================>.] - ETA: 0s - loss: 4475577344.0000 - root_mean_squared_error: 66899.7578INFO:tensorflow:Assets written to: models\\simple_nn\\assets\n"
     ]
    },
    {
     "name": "stderr",
     "output_type": "stream",
     "text": [
      "INFO:tensorflow:Assets written to: models\\simple_nn\\assets\n"
     ]
    },
    {
     "name": "stdout",
     "output_type": "stream",
     "text": [
      "563/563 [==============================] - 2s 3ms/step - loss: 4467990016.0000 - root_mean_squared_error: 66843.0234 - val_loss: 4838952448.0000 - val_root_mean_squared_error: 69562.5781\n",
      "Epoch 47/100\n",
      "563/563 [==============================] - 1s 2ms/step - loss: 4463503360.0000 - root_mean_squared_error: 66809.4531 - val_loss: 4842591232.0000 - val_root_mean_squared_error: 69588.7266\n",
      "Epoch 48/100\n",
      "563/563 [==============================] - 1s 2ms/step - loss: 4460215808.0000 - root_mean_squared_error: 66784.8438 - val_loss: 4842485760.0000 - val_root_mean_squared_error: 69587.9688\n",
      "Epoch 49/100\n",
      "539/563 [===========================>..] - ETA: 0s - loss: 4447430656.0000 - root_mean_squared_error: 66689.0625INFO:tensorflow:Assets written to: models\\simple_nn\\assets\n"
     ]
    },
    {
     "name": "stderr",
     "output_type": "stream",
     "text": [
      "INFO:tensorflow:Assets written to: models\\simple_nn\\assets\n"
     ]
    },
    {
     "name": "stdout",
     "output_type": "stream",
     "text": [
      "563/563 [==============================] - 2s 3ms/step - loss: 4455840256.0000 - root_mean_squared_error: 66752.0781 - val_loss: 4834463744.0000 - val_root_mean_squared_error: 69530.3047\n",
      "Epoch 50/100\n",
      "548/563 [============================>.] - ETA: 0s - loss: 4465502720.0000 - root_mean_squared_error: 66824.4141INFO:tensorflow:Assets written to: models\\simple_nn\\assets\n"
     ]
    },
    {
     "name": "stderr",
     "output_type": "stream",
     "text": [
      "INFO:tensorflow:Assets written to: models\\simple_nn\\assets\n"
     ]
    },
    {
     "name": "stdout",
     "output_type": "stream",
     "text": [
      "563/563 [==============================] - 2s 3ms/step - loss: 4451988480.0000 - root_mean_squared_error: 66723.2266 - val_loss: 4830210048.0000 - val_root_mean_squared_error: 69499.7109\n",
      "Epoch 51/100\n",
      "563/563 [==============================] - 1s 2ms/step - loss: 4448845312.0000 - root_mean_squared_error: 66699.6641 - val_loss: 4838114816.0000 - val_root_mean_squared_error: 69556.5547\n",
      "Epoch 52/100\n",
      "563/563 [==============================] - 1s 2ms/step - loss: 4444303872.0000 - root_mean_squared_error: 66665.6094 - val_loss: 4835020800.0000 - val_root_mean_squared_error: 69534.3125\n",
      "Epoch 53/100\n",
      "551/563 [============================>.] - ETA: 0s - loss: 4435523584.0000 - root_mean_squared_error: 66599.7266INFO:tensorflow:Assets written to: models\\simple_nn\\assets\n"
     ]
    },
    {
     "name": "stderr",
     "output_type": "stream",
     "text": [
      "INFO:tensorflow:Assets written to: models\\simple_nn\\assets\n"
     ]
    },
    {
     "name": "stdout",
     "output_type": "stream",
     "text": [
      "563/563 [==============================] - 2s 3ms/step - loss: 4442746880.0000 - root_mean_squared_error: 66653.9375 - val_loss: 4816477696.0000 - val_root_mean_squared_error: 69400.8516\n",
      "Epoch 54/100\n",
      "537/563 [===========================>..] - ETA: 0s - loss: 4442253312.0000 - root_mean_squared_error: 66650.2344INFO:tensorflow:Assets written to: models\\simple_nn\\assets\n"
     ]
    },
    {
     "name": "stderr",
     "output_type": "stream",
     "text": [
      "INFO:tensorflow:Assets written to: models\\simple_nn\\assets\n"
     ]
    },
    {
     "name": "stdout",
     "output_type": "stream",
     "text": [
      "563/563 [==============================] - 2s 3ms/step - loss: 4437828096.0000 - root_mean_squared_error: 66617.0234 - val_loss: 4798884864.0000 - val_root_mean_squared_error: 69273.9844\n",
      "Epoch 55/100\n",
      "563/563 [==============================] - 1s 2ms/step - loss: 4434187776.0000 - root_mean_squared_error: 66589.6953 - val_loss: 4800600576.0000 - val_root_mean_squared_error: 69286.3672\n",
      "Epoch 56/100\n",
      "563/563 [==============================] - 1s 2ms/step - loss: 4430872064.0000 - root_mean_squared_error: 66564.7969 - val_loss: 4815429632.0000 - val_root_mean_squared_error: 69393.2969\n",
      "Epoch 57/100\n",
      "536/563 [===========================>..] - ETA: 0s - loss: 4425892864.0000 - root_mean_squared_error: 66527.3828INFO:tensorflow:Assets written to: models\\simple_nn\\assets\n"
     ]
    },
    {
     "name": "stderr",
     "output_type": "stream",
     "text": [
      "INFO:tensorflow:Assets written to: models\\simple_nn\\assets\n"
     ]
    },
    {
     "name": "stdout",
     "output_type": "stream",
     "text": [
      "563/563 [==============================] - 2s 3ms/step - loss: 4426769920.0000 - root_mean_squared_error: 66533.9766 - val_loss: 4789076480.0000 - val_root_mean_squared_error: 69203.1562\n",
      "Epoch 58/100\n",
      "563/563 [==============================] - 1s 3ms/step - loss: 4425076224.0000 - root_mean_squared_error: 66521.2500 - val_loss: 4790884864.0000 - val_root_mean_squared_error: 69216.2188\n",
      "Epoch 59/100\n",
      "563/563 [==============================] - 1s 2ms/step - loss: 4422251008.0000 - root_mean_squared_error: 66500.0078 - val_loss: 4808925184.0000 - val_root_mean_squared_error: 69346.4141\n",
      "Epoch 60/100\n",
      "563/563 [==============================] - 1s 3ms/step - loss: 4419449344.0000 - root_mean_squared_error: 66478.9375 - val_loss: 4800060928.0000 - val_root_mean_squared_error: 69282.4688\n",
      "Epoch 61/100\n",
      "556/563 [============================>.] - ETA: 0s - loss: 4427417088.0000 - root_mean_squared_error: 66538.8359INFO:tensorflow:Assets written to: models\\simple_nn\\assets\n"
     ]
    },
    {
     "name": "stderr",
     "output_type": "stream",
     "text": [
      "INFO:tensorflow:Assets written to: models\\simple_nn\\assets\n"
     ]
    },
    {
     "name": "stdout",
     "output_type": "stream",
     "text": [
      "563/563 [==============================] - 2s 3ms/step - loss: 4415482368.0000 - root_mean_squared_error: 66449.0938 - val_loss: 4765906432.0000 - val_root_mean_squared_error: 69035.5469\n",
      "Epoch 62/100\n",
      "563/563 [==============================] - 1s 2ms/step - loss: 4414096896.0000 - root_mean_squared_error: 66438.6719 - val_loss: 4782767104.0000 - val_root_mean_squared_error: 69157.5547\n",
      "Epoch 63/100\n",
      "563/563 [==============================] - 1s 3ms/step - loss: 4410369024.0000 - root_mean_squared_error: 66410.6094 - val_loss: 4768551936.0000 - val_root_mean_squared_error: 69054.7031\n",
      "Epoch 64/100\n",
      "563/563 [==============================] - 2s 3ms/step - loss: 4405814784.0000 - root_mean_squared_error: 66376.3125 - val_loss: 4767960064.0000 - val_root_mean_squared_error: 69050.4141\n",
      "Epoch 65/100\n",
      "563/563 [==============================] - 1s 3ms/step - loss: 4404545024.0000 - root_mean_squared_error: 66366.7500 - val_loss: 4779821568.0000 - val_root_mean_squared_error: 69136.2500\n",
      "Epoch 66/100\n",
      "563/563 [==============================] - 2s 3ms/step - loss: 4403465728.0000 - root_mean_squared_error: 66358.6172 - val_loss: 4767281152.0000 - val_root_mean_squared_error: 69045.5000\n",
      "Epoch 67/100\n",
      "563/563 [==============================] - 2s 3ms/step - loss: 4397983744.0000 - root_mean_squared_error: 66317.2969 - val_loss: 4788986368.0000 - val_root_mean_squared_error: 69202.5000\n",
      "Epoch 68/100\n",
      "563/563 [==============================] - 2s 3ms/step - loss: 4399883776.0000 - root_mean_squared_error: 66331.6172 - val_loss: 4773970432.0000 - val_root_mean_squared_error: 69093.9219\n",
      "Epoch 69/100\n",
      "547/563 [============================>.] - ETA: 0s - loss: 4377507840.0000 - root_mean_squared_error: 66162.7344INFO:tensorflow:Assets written to: models\\simple_nn\\assets\n"
     ]
    },
    {
     "name": "stderr",
     "output_type": "stream",
     "text": [
      "INFO:tensorflow:Assets written to: models\\simple_nn\\assets\n"
     ]
    },
    {
     "name": "stdout",
     "output_type": "stream",
     "text": [
      "563/563 [==============================] - 2s 4ms/step - loss: 4395341824.0000 - root_mean_squared_error: 66297.3750 - val_loss: 4757712384.0000 - val_root_mean_squared_error: 68976.1719\n",
      "Epoch 70/100\n",
      "563/563 [==============================] - 2s 3ms/step - loss: 4392960000.0000 - root_mean_squared_error: 66279.4062 - val_loss: 4768595456.0000 - val_root_mean_squared_error: 69055.0156\n",
      "Epoch 71/100\n",
      "563/563 [==============================] - 1s 3ms/step - loss: 4389748736.0000 - root_mean_squared_error: 66255.1797 - val_loss: 4775454208.0000 - val_root_mean_squared_error: 69104.6641\n",
      "Epoch 72/100\n",
      "563/563 [==============================] - 2s 3ms/step - loss: 4386886656.0000 - root_mean_squared_error: 66233.5781 - val_loss: 4762633728.0000 - val_root_mean_squared_error: 69011.8359\n",
      "Epoch 73/100\n",
      "563/563 [==============================] - 1s 3ms/step - loss: 4387771904.0000 - root_mean_squared_error: 66240.2578 - val_loss: 4763595264.0000 - val_root_mean_squared_error: 69018.8047\n",
      "Epoch 74/100\n",
      "540/563 [===========================>..] - ETA: 0s - loss: 4376562176.0000 - root_mean_squared_error: 66155.5938INFO:tensorflow:Assets written to: models\\simple_nn\\assets\n"
     ]
    },
    {
     "name": "stderr",
     "output_type": "stream",
     "text": [
      "INFO:tensorflow:Assets written to: models\\simple_nn\\assets\n"
     ]
    },
    {
     "name": "stdout",
     "output_type": "stream",
     "text": [
      "563/563 [==============================] - 2s 4ms/step - loss: 4384587264.0000 - root_mean_squared_error: 66216.2188 - val_loss: 4748939776.0000 - val_root_mean_squared_error: 68912.5547\n",
      "Epoch 75/100\n",
      "560/563 [============================>.] - ETA: 0s - loss: 4387616256.0000 - root_mean_squared_error: 66239.0859INFO:tensorflow:Assets written to: models\\simple_nn\\assets\n"
     ]
    },
    {
     "name": "stderr",
     "output_type": "stream",
     "text": [
      "INFO:tensorflow:Assets written to: models\\simple_nn\\assets\n"
     ]
    },
    {
     "name": "stdout",
     "output_type": "stream",
     "text": [
      "563/563 [==============================] - 2s 4ms/step - loss: 4381575168.0000 - root_mean_squared_error: 66193.4688 - val_loss: 4736317440.0000 - val_root_mean_squared_error: 68820.9062\n",
      "Epoch 76/100\n",
      "542/563 [===========================>..] - ETA: 0s - loss: 4378519552.0000 - root_mean_squared_error: 66170.3828INFO:tensorflow:Assets written to: models\\simple_nn\\assets\n"
     ]
    },
    {
     "name": "stderr",
     "output_type": "stream",
     "text": [
      "INFO:tensorflow:Assets written to: models\\simple_nn\\assets\n"
     ]
    },
    {
     "name": "stdout",
     "output_type": "stream",
     "text": [
      "563/563 [==============================] - 2s 4ms/step - loss: 4380376064.0000 - root_mean_squared_error: 66184.4062 - val_loss: 4722431488.0000 - val_root_mean_squared_error: 68719.9531\n",
      "Epoch 77/100\n",
      "563/563 [==============================] - 1s 3ms/step - loss: 4377095168.0000 - root_mean_squared_error: 66159.6172 - val_loss: 4740316160.0000 - val_root_mean_squared_error: 68849.9531\n",
      "Epoch 78/100\n",
      "563/563 [==============================] - 1s 3ms/step - loss: 4374916096.0000 - root_mean_squared_error: 66143.1484 - val_loss: 4747379712.0000 - val_root_mean_squared_error: 68901.2344\n",
      "Epoch 79/100\n",
      "544/563 [===========================>..] - ETA: 0s - loss: 4369094144.0000 - root_mean_squared_error: 66099.1250INFO:tensorflow:Assets written to: models\\simple_nn\\assets\n"
     ]
    },
    {
     "name": "stderr",
     "output_type": "stream",
     "text": [
      "INFO:tensorflow:Assets written to: models\\simple_nn\\assets\n"
     ]
    },
    {
     "name": "stdout",
     "output_type": "stream",
     "text": [
      "563/563 [==============================] - 2s 3ms/step - loss: 4373730304.0000 - root_mean_squared_error: 66134.1875 - val_loss: 4713513984.0000 - val_root_mean_squared_error: 68655.0391\n",
      "Epoch 80/100\n",
      "563/563 [==============================] - 1s 2ms/step - loss: 4373311488.0000 - root_mean_squared_error: 66131.0156 - val_loss: 4717371904.0000 - val_root_mean_squared_error: 68683.1250\n",
      "Epoch 81/100\n",
      "563/563 [==============================] - 1s 2ms/step - loss: 4370210304.0000 - root_mean_squared_error: 66107.5625 - val_loss: 4717175296.0000 - val_root_mean_squared_error: 68681.6953\n",
      "Epoch 82/100\n",
      "563/563 [==============================] - 1s 2ms/step - loss: 4368048128.0000 - root_mean_squared_error: 66091.2109 - val_loss: 4725617152.0000 - val_root_mean_squared_error: 68743.1250\n",
      "Epoch 83/100\n",
      "563/563 [==============================] - 1s 2ms/step - loss: 4366005760.0000 - root_mean_squared_error: 66075.7578 - val_loss: 4723133440.0000 - val_root_mean_squared_error: 68725.0547\n",
      "Epoch 84/100\n",
      "563/563 [==============================] - 1s 2ms/step - loss: 4365800960.0000 - root_mean_squared_error: 66074.2109 - val_loss: 4720914944.0000 - val_root_mean_squared_error: 68708.9141\n",
      "Epoch 85/100\n",
      "563/563 [==============================] - 1s 2ms/step - loss: 4363463168.0000 - root_mean_squared_error: 66056.5156 - val_loss: 4714497024.0000 - val_root_mean_squared_error: 68662.1953\n",
      "Epoch 86/100\n",
      "552/563 [============================>.] - ETA: 0s - loss: 4350852096.0000 - root_mean_squared_error: 65960.9922INFO:tensorflow:Assets written to: models\\simple_nn\\assets\n"
     ]
    },
    {
     "name": "stderr",
     "output_type": "stream",
     "text": [
      "INFO:tensorflow:Assets written to: models\\simple_nn\\assets\n"
     ]
    },
    {
     "name": "stdout",
     "output_type": "stream",
     "text": [
      "563/563 [==============================] - 2s 3ms/step - loss: 4360187904.0000 - root_mean_squared_error: 66031.7188 - val_loss: 4701389312.0000 - val_root_mean_squared_error: 68566.6797\n",
      "Epoch 87/100\n",
      "563/563 [==============================] - 2s 3ms/step - loss: 4360663552.0000 - root_mean_squared_error: 66035.3203 - val_loss: 4720851456.0000 - val_root_mean_squared_error: 68708.4531\n",
      "Epoch 88/100\n",
      "543/563 [===========================>..] - ETA: 0s - loss: 4366178816.0000 - root_mean_squared_error: 66077.0703INFO:tensorflow:Assets written to: models\\simple_nn\\assets\n"
     ]
    },
    {
     "name": "stderr",
     "output_type": "stream",
     "text": [
      "INFO:tensorflow:Assets written to: models\\simple_nn\\assets\n"
     ]
    },
    {
     "name": "stdout",
     "output_type": "stream",
     "text": [
      "563/563 [==============================] - 2s 3ms/step - loss: 4358890496.0000 - root_mean_squared_error: 66021.8906 - val_loss: 4697839616.0000 - val_root_mean_squared_error: 68540.7891\n",
      "Epoch 89/100\n",
      "563/563 [==============================] - 1s 3ms/step - loss: 4358288384.0000 - root_mean_squared_error: 66017.3359 - val_loss: 4708544000.0000 - val_root_mean_squared_error: 68618.8281\n",
      "Epoch 90/100\n",
      "563/563 [==============================] - 1s 3ms/step - loss: 4357051392.0000 - root_mean_squared_error: 66007.9609 - val_loss: 4698700288.0000 - val_root_mean_squared_error: 68547.0625\n",
      "Epoch 91/100\n",
      "563/563 [==============================] - 1s 3ms/step - loss: 4356498944.0000 - root_mean_squared_error: 66003.7812 - val_loss: 4708664832.0000 - val_root_mean_squared_error: 68619.7109\n",
      "Epoch 92/100\n",
      "563/563 [==============================] - 1s 3ms/step - loss: 4352107008.0000 - root_mean_squared_error: 65970.5000 - val_loss: 4719982592.0000 - val_root_mean_squared_error: 68702.1328\n",
      "Epoch 93/100\n",
      "563/563 [==============================] - 1s 3ms/step - loss: 4351369728.0000 - root_mean_squared_error: 65964.9141 - val_loss: 4702653952.0000 - val_root_mean_squared_error: 68575.8984\n",
      "Epoch 94/100\n",
      "554/563 [============================>.] - ETA: 0s - loss: 4348254208.0000 - root_mean_squared_error: 65941.2969INFO:tensorflow:Assets written to: models\\simple_nn\\assets\n"
     ]
    },
    {
     "name": "stderr",
     "output_type": "stream",
     "text": [
      "INFO:tensorflow:Assets written to: models\\simple_nn\\assets\n"
     ]
    },
    {
     "name": "stdout",
     "output_type": "stream",
     "text": [
      "563/563 [==============================] - 2s 3ms/step - loss: 4350881280.0000 - root_mean_squared_error: 65961.2109 - val_loss: 4692501504.0000 - val_root_mean_squared_error: 68501.8359\n",
      "Epoch 95/100\n",
      "563/563 [==============================] - 1s 2ms/step - loss: 4348941312.0000 - root_mean_squared_error: 65946.5000 - val_loss: 4708926464.0000 - val_root_mean_squared_error: 68621.6172\n",
      "Epoch 96/100\n",
      "555/563 [============================>.] - ETA: 0s - loss: 4355269632.0000 - root_mean_squared_error: 65994.4688INFO:tensorflow:Assets written to: models\\simple_nn\\assets\n"
     ]
    },
    {
     "name": "stderr",
     "output_type": "stream",
     "text": [
      "INFO:tensorflow:Assets written to: models\\simple_nn\\assets\n"
     ]
    },
    {
     "name": "stdout",
     "output_type": "stream",
     "text": [
      "563/563 [==============================] - 2s 3ms/step - loss: 4347430400.0000 - root_mean_squared_error: 65935.0469 - val_loss: 4683663360.0000 - val_root_mean_squared_error: 68437.2969\n",
      "Epoch 97/100\n",
      "563/563 [==============================] - 1s 2ms/step - loss: 4347128320.0000 - root_mean_squared_error: 65932.7578 - val_loss: 4688067584.0000 - val_root_mean_squared_error: 68469.4609\n",
      "Epoch 98/100\n",
      "563/563 [==============================] - 1s 2ms/step - loss: 4346841600.0000 - root_mean_squared_error: 65930.5781 - val_loss: 4699923968.0000 - val_root_mean_squared_error: 68555.9922\n",
      "Epoch 99/100\n",
      "563/563 [==============================] - 1s 2ms/step - loss: 4344709120.0000 - root_mean_squared_error: 65914.4062 - val_loss: 4688601088.0000 - val_root_mean_squared_error: 68473.3594\n",
      "Epoch 100/100\n",
      "563/563 [==============================] - 1s 3ms/step - loss: 4343950336.0000 - root_mean_squared_error: 65908.6484 - val_loss: 4685441536.0000 - val_root_mean_squared_error: 68450.2812\n"
     ]
    },
    {
     "data": {
      "text/plain": [
       "<keras.src.callbacks.History at 0x1dfa86aa710>"
      ]
     },
     "execution_count": 84,
     "metadata": {},
     "output_type": "execute_result"
    }
   ],
   "source": [
    "from tensorflow.keras.models import Sequential\n",
    "from tensorflow.keras.layers import *\n",
    "from tensorflow.keras.callbacks import ModelCheckpoint\n",
    "from tensorflow.keras.optimizers import Adam\n",
    "from tensorflow.keras.metrics import RootMeanSquaredError\n",
    "simple_nn = Sequential()\n",
    "simple_nn.add(InputLayer((13,)))\n",
    "simple_nn.add(Dense(2,'relu'))\n",
    "simple_nn.add(Dense(1, 'linear'))\n",
    "\n",
    "opt = Adam(learning_rate=.1)\n",
    "cp=ModelCheckpoint('models/simple_nn', save_best_only=True)\n",
    "simple_nn.compile(optimizer=opt, loss='mse',metrics=[RootMeanSquaredError()])\n",
    "simple_nn.fit(x=X_train, y=y_train, validation_data=(X_val, y_val), callbacks=[cp], epochs=100)"
   ]
  },
  {
   "cell_type": "code",
   "execution_count": 85,
   "id": "85c5e07a",
   "metadata": {},
   "outputs": [
    {
     "name": "stdout",
     "output_type": "stream",
     "text": [
      "WARNING:tensorflow:From C:\\Users\\Craigs\\anaconda3\\Lib\\site-packages\\keras\\src\\saving\\legacy\\saved_model\\load.py:107: The name tf.gfile.Exists is deprecated. Please use tf.io.gfile.exists instead.\n",
      "\n"
     ]
    },
    {
     "name": "stderr",
     "output_type": "stream",
     "text": [
      "WARNING:tensorflow:From C:\\Users\\Craigs\\anaconda3\\Lib\\site-packages\\keras\\src\\saving\\legacy\\saved_model\\load.py:107: The name tf.gfile.Exists is deprecated. Please use tf.io.gfile.exists instead.\n",
      "\n"
     ]
    },
    {
     "name": "stdout",
     "output_type": "stream",
     "text": [
      "563/563 [==============================] - 1s 2ms/step\n",
      "39/39 [==============================] - 0s 2ms/step\n"
     ]
    },
    {
     "name": "stderr",
     "output_type": "stream",
     "text": [
      "C:\\Users\\Craigs\\anaconda3\\Lib\\site-packages\\sklearn\\metrics\\_regression.py:492: FutureWarning: 'squared' is deprecated in version 1.4 and will be removed in 1.6. To calculate the root mean squared error, use the function'root_mean_squared_error'.\n",
      "  warnings.warn(\n",
      "C:\\Users\\Craigs\\anaconda3\\Lib\\site-packages\\sklearn\\metrics\\_regression.py:492: FutureWarning: 'squared' is deprecated in version 1.4 and will be removed in 1.6. To calculate the root mean squared error, use the function'root_mean_squared_error'.\n",
      "  warnings.warn(\n"
     ]
    },
    {
     "data": {
      "text/plain": [
       "(65968.06744591678, 68437.29624796427)"
      ]
     },
     "execution_count": 85,
     "metadata": {},
     "output_type": "execute_result"
    }
   ],
   "source": [
    "from tensorflow.keras.models import load_model\n",
    "simple_nn = load_model('models/simple_nn')\n",
    "mse(simple_nn.predict(X_train),y_train, squared=False), mse(simple_nn.predict(X_val),y_val, squared=False)"
   ]
  },
  {
   "cell_type": "code",
   "execution_count": 87,
   "id": "b2948910",
   "metadata": {},
   "outputs": [
    {
     "name": "stdout",
     "output_type": "stream",
     "text": [
      "Epoch 1/100\n",
      "538/563 [===========================>..] - ETA: 0s - loss: 8925750272.0000 - root_mean_squared_error: 94476.1875INFO:tensorflow:Assets written to: models\\medium_nn\\assets\n"
     ]
    },
    {
     "name": "stderr",
     "output_type": "stream",
     "text": [
      "INFO:tensorflow:Assets written to: models\\medium_nn\\assets\n"
     ]
    },
    {
     "name": "stdout",
     "output_type": "stream",
     "text": [
      "563/563 [==============================] - 3s 4ms/step - loss: 8737693696.0000 - root_mean_squared_error: 93475.6328 - val_loss: 4837974016.0000 - val_root_mean_squared_error: 69555.5469\n",
      "Epoch 2/100\n",
      "554/563 [============================>.] - ETA: 0s - loss: 4473001984.0000 - root_mean_squared_error: 66880.5078INFO:tensorflow:Assets written to: models\\medium_nn\\assets\n"
     ]
    },
    {
     "name": "stderr",
     "output_type": "stream",
     "text": [
      "INFO:tensorflow:Assets written to: models\\medium_nn\\assets\n"
     ]
    },
    {
     "name": "stdout",
     "output_type": "stream",
     "text": [
      "563/563 [==============================] - 2s 4ms/step - loss: 4473704960.0000 - root_mean_squared_error: 66885.7578 - val_loss: 4711071232.0000 - val_root_mean_squared_error: 68637.2422\n",
      "Epoch 3/100\n",
      "563/563 [==============================] - 2s 3ms/step - loss: 4354718208.0000 - root_mean_squared_error: 65990.2891 - val_loss: 4887156736.0000 - val_root_mean_squared_error: 69908.2031\n",
      "Epoch 4/100\n",
      "563/563 [==============================] - 2s 3ms/step - loss: 4303032832.0000 - root_mean_squared_error: 65597.5078 - val_loss: 4889251840.0000 - val_root_mean_squared_error: 69923.1875\n",
      "Epoch 5/100\n",
      "558/563 [============================>.] - ETA: 0s - loss: 4249275392.0000 - root_mean_squared_error: 65186.4648INFO:tensorflow:Assets written to: models\\medium_nn\\assets\n"
     ]
    },
    {
     "name": "stderr",
     "output_type": "stream",
     "text": [
      "INFO:tensorflow:Assets written to: models\\medium_nn\\assets\n"
     ]
    },
    {
     "name": "stdout",
     "output_type": "stream",
     "text": [
      "563/563 [==============================] - 2s 4ms/step - loss: 4242768640.0000 - root_mean_squared_error: 65136.5391 - val_loss: 4509530624.0000 - val_root_mean_squared_error: 67153.0391\n",
      "Epoch 6/100\n",
      "563/563 [==============================] - 2s 3ms/step - loss: 4204839680.0000 - root_mean_squared_error: 64844.7344 - val_loss: 4663611904.0000 - val_root_mean_squared_error: 68290.6406\n",
      "Epoch 7/100\n",
      "560/563 [============================>.] - ETA: 0s - loss: 4176586240.0000 - root_mean_squared_error: 64626.5117INFO:tensorflow:Assets written to: models\\medium_nn\\assets\n"
     ]
    },
    {
     "name": "stderr",
     "output_type": "stream",
     "text": [
      "INFO:tensorflow:Assets written to: models\\medium_nn\\assets\n"
     ]
    },
    {
     "name": "stdout",
     "output_type": "stream",
     "text": [
      "563/563 [==============================] - 2s 4ms/step - loss: 4180687872.0000 - root_mean_squared_error: 64658.2383 - val_loss: 4445767168.0000 - val_root_mean_squared_error: 66676.5859\n",
      "Epoch 8/100\n",
      "561/563 [============================>.] - ETA: 0s - loss: 4149369856.0000 - root_mean_squared_error: 64415.6016INFO:tensorflow:Assets written to: models\\medium_nn\\assets\n"
     ]
    },
    {
     "name": "stderr",
     "output_type": "stream",
     "text": [
      "INFO:tensorflow:Assets written to: models\\medium_nn\\assets\n"
     ]
    },
    {
     "name": "stdout",
     "output_type": "stream",
     "text": [
      "563/563 [==============================] - 2s 4ms/step - loss: 4146679552.0000 - root_mean_squared_error: 64394.7188 - val_loss: 4251353600.0000 - val_root_mean_squared_error: 65202.4062\n",
      "Epoch 9/100\n",
      "563/563 [==============================] - 2s 3ms/step - loss: 4132171008.0000 - root_mean_squared_error: 64281.9648 - val_loss: 4330715136.0000 - val_root_mean_squared_error: 65808.1719\n",
      "Epoch 10/100\n",
      "563/563 [==============================] - 2s 3ms/step - loss: 4085715456.0000 - root_mean_squared_error: 63919.6016 - val_loss: 4464776704.0000 - val_root_mean_squared_error: 66818.9844\n",
      "Epoch 11/100\n",
      "563/563 [==============================] - 2s 3ms/step - loss: 4092572160.0000 - root_mean_squared_error: 63973.2148 - val_loss: 4782584832.0000 - val_root_mean_squared_error: 69156.2344\n",
      "Epoch 12/100\n",
      "563/563 [==============================] - 2s 3ms/step - loss: 4102940416.0000 - root_mean_squared_error: 64054.1992 - val_loss: 4291558912.0000 - val_root_mean_squared_error: 65509.9922\n",
      "Epoch 13/100\n",
      "563/563 [==============================] - 2s 3ms/step - loss: 4078823168.0000 - root_mean_squared_error: 63865.6641 - val_loss: 4295110144.0000 - val_root_mean_squared_error: 65537.0859\n",
      "Epoch 14/100\n",
      "563/563 [==============================] - 2s 3ms/step - loss: 4038471680.0000 - root_mean_squared_error: 63548.9727 - val_loss: 4305798144.0000 - val_root_mean_squared_error: 65618.5781\n",
      "Epoch 15/100\n",
      "563/563 [==============================] - 2s 3ms/step - loss: 4053625088.0000 - root_mean_squared_error: 63668.0859 - val_loss: 4327035904.0000 - val_root_mean_squared_error: 65780.2109\n",
      "Epoch 16/100\n",
      "563/563 [==============================] - 2s 3ms/step - loss: 4065850112.0000 - root_mean_squared_error: 63764.0195 - val_loss: 4628292608.0000 - val_root_mean_squared_error: 68031.5547\n",
      "Epoch 17/100\n",
      "563/563 [==============================] - 2s 3ms/step - loss: 4031655936.0000 - root_mean_squared_error: 63495.3203 - val_loss: 4381731840.0000 - val_root_mean_squared_error: 66194.6484\n",
      "Epoch 18/100\n",
      "563/563 [==============================] - 2s 3ms/step - loss: 4059799296.0000 - root_mean_squared_error: 63716.5547 - val_loss: 4380320256.0000 - val_root_mean_squared_error: 66183.9844\n",
      "Epoch 19/100\n",
      "563/563 [==============================] - 2s 3ms/step - loss: 4056256512.0000 - root_mean_squared_error: 63688.7461 - val_loss: 4256942336.0000 - val_root_mean_squared_error: 65245.2461\n",
      "Epoch 20/100\n",
      "563/563 [==============================] - 2s 4ms/step - loss: 4008830976.0000 - root_mean_squared_error: 63315.3281 - val_loss: 4331499520.0000 - val_root_mean_squared_error: 65814.1250\n",
      "Epoch 21/100\n",
      "563/563 [==============================] - 2s 3ms/step - loss: 4028694784.0000 - root_mean_squared_error: 63472.0000 - val_loss: 4368883200.0000 - val_root_mean_squared_error: 66097.5312\n",
      "Epoch 22/100\n",
      "563/563 [==============================] - 2s 3ms/step - loss: 4043095552.0000 - root_mean_squared_error: 63585.3398 - val_loss: 4305894912.0000 - val_root_mean_squared_error: 65619.3203\n",
      "Epoch 23/100\n",
      "563/563 [==============================] - 2s 3ms/step - loss: 3958728192.0000 - root_mean_squared_error: 62918.4258 - val_loss: 4385143296.0000 - val_root_mean_squared_error: 66220.4141\n",
      "Epoch 24/100\n",
      "545/563 [============================>.] - ETA: 0s - loss: 3790251520.0000 - root_mean_squared_error: 61565.0195INFO:tensorflow:Assets written to: models\\medium_nn\\assets\n"
     ]
    },
    {
     "name": "stderr",
     "output_type": "stream",
     "text": [
      "INFO:tensorflow:Assets written to: models\\medium_nn\\assets\n"
     ]
    },
    {
     "name": "stdout",
     "output_type": "stream",
     "text": [
      "563/563 [==============================] - 2s 4ms/step - loss: 3777810944.0000 - root_mean_squared_error: 61463.8984 - val_loss: 4002612480.0000 - val_root_mean_squared_error: 63266.2031\n",
      "Epoch 25/100\n",
      "563/563 [==============================] - 2s 3ms/step - loss: 3683817216.0000 - root_mean_squared_error: 60694.4570 - val_loss: 4024476416.0000 - val_root_mean_squared_error: 63438.7617\n",
      "Epoch 26/100\n",
      "560/563 [============================>.] - ETA: 0s - loss: 3557120000.0000 - root_mean_squared_error: 59641.5977INFO:tensorflow:Assets written to: models\\medium_nn\\assets\n"
     ]
    },
    {
     "name": "stderr",
     "output_type": "stream",
     "text": [
      "INFO:tensorflow:Assets written to: models\\medium_nn\\assets\n"
     ]
    },
    {
     "name": "stdout",
     "output_type": "stream",
     "text": [
      "563/563 [==============================] - 2s 4ms/step - loss: 3576286208.0000 - root_mean_squared_error: 59802.0586 - val_loss: 3944353280.0000 - val_root_mean_squared_error: 62804.0859\n",
      "Epoch 27/100\n",
      "563/563 [==============================] - 2s 3ms/step - loss: 3496641280.0000 - root_mean_squared_error: 59132.4062 - val_loss: 4072300800.0000 - val_root_mean_squared_error: 63814.5820\n",
      "Epoch 28/100\n",
      "554/563 [============================>.] - ETA: 0s - loss: 3467511296.0000 - root_mean_squared_error: 58885.5781INFO:tensorflow:Assets written to: models\\medium_nn\\assets\n"
     ]
    },
    {
     "name": "stderr",
     "output_type": "stream",
     "text": [
      "INFO:tensorflow:Assets written to: models\\medium_nn\\assets\n"
     ]
    },
    {
     "name": "stdout",
     "output_type": "stream",
     "text": [
      "563/563 [==============================] - 3s 5ms/step - loss: 3462606592.0000 - root_mean_squared_error: 58843.9180 - val_loss: 3841901056.0000 - val_root_mean_squared_error: 61983.0703\n",
      "Epoch 29/100\n",
      "563/563 [==============================] - 2s 3ms/step - loss: 3401472768.0000 - root_mean_squared_error: 58322.1445 - val_loss: 3896499456.0000 - val_root_mean_squared_error: 62421.9453\n",
      "Epoch 30/100\n",
      "563/563 [==============================] - 2s 3ms/step - loss: 3388630016.0000 - root_mean_squared_error: 58211.9414 - val_loss: 3900897792.0000 - val_root_mean_squared_error: 62457.1680\n",
      "Epoch 31/100\n",
      "549/563 [============================>.] - ETA: 0s - loss: 3329356800.0000 - root_mean_squared_error: 57700.5781INFO:tensorflow:Assets written to: models\\medium_nn\\assets\n"
     ]
    },
    {
     "name": "stderr",
     "output_type": "stream",
     "text": [
      "INFO:tensorflow:Assets written to: models\\medium_nn\\assets\n"
     ]
    },
    {
     "name": "stdout",
     "output_type": "stream",
     "text": [
      "563/563 [==============================] - 2s 4ms/step - loss: 3335503360.0000 - root_mean_squared_error: 57753.8164 - val_loss: 3692781568.0000 - val_root_mean_squared_error: 60768.2617\n",
      "Epoch 32/100\n",
      "563/563 [==============================] - 2s 3ms/step - loss: 3320180736.0000 - root_mean_squared_error: 57621.0078 - val_loss: 3750928640.0000 - val_root_mean_squared_error: 61244.8242\n",
      "Epoch 33/100\n",
      "560/563 [============================>.] - ETA: 0s - loss: 3303008512.0000 - root_mean_squared_error: 57471.8047INFO:tensorflow:Assets written to: models\\medium_nn\\assets\n"
     ]
    },
    {
     "name": "stderr",
     "output_type": "stream",
     "text": [
      "INFO:tensorflow:Assets written to: models\\medium_nn\\assets\n"
     ]
    },
    {
     "name": "stdout",
     "output_type": "stream",
     "text": [
      "563/563 [==============================] - 2s 4ms/step - loss: 3298115328.0000 - root_mean_squared_error: 57429.2188 - val_loss: 3615400448.0000 - val_root_mean_squared_error: 60128.1992\n",
      "Epoch 34/100\n",
      "554/563 [============================>.] - ETA: 0s - loss: 3259116544.0000 - root_mean_squared_error: 57088.6719INFO:tensorflow:Assets written to: models\\medium_nn\\assets\n"
     ]
    },
    {
     "name": "stderr",
     "output_type": "stream",
     "text": [
      "INFO:tensorflow:Assets written to: models\\medium_nn\\assets\n"
     ]
    },
    {
     "name": "stdout",
     "output_type": "stream",
     "text": [
      "563/563 [==============================] - 2s 4ms/step - loss: 3266826752.0000 - root_mean_squared_error: 57156.1602 - val_loss: 3562210048.0000 - val_root_mean_squared_error: 59684.2539\n",
      "Epoch 35/100\n",
      "563/563 [==============================] - 2s 3ms/step - loss: 3245730816.0000 - root_mean_squared_error: 56971.3164 - val_loss: 3593366528.0000 - val_root_mean_squared_error: 59944.6953\n",
      "Epoch 36/100\n",
      "563/563 [==============================] - 2s 3ms/step - loss: 3219416576.0000 - root_mean_squared_error: 56739.9023 - val_loss: 3646240512.0000 - val_root_mean_squared_error: 60384.1094\n",
      "Epoch 37/100\n",
      "561/563 [============================>.] - ETA: 0s - loss: 3195170304.0000 - root_mean_squared_error: 56525.8359INFO:tensorflow:Assets written to: models\\medium_nn\\assets\n"
     ]
    },
    {
     "name": "stderr",
     "output_type": "stream",
     "text": [
      "INFO:tensorflow:Assets written to: models\\medium_nn\\assets\n"
     ]
    },
    {
     "name": "stdout",
     "output_type": "stream",
     "text": [
      "563/563 [==============================] - 3s 5ms/step - loss: 3197524736.0000 - root_mean_squared_error: 56546.6602 - val_loss: 3557325824.0000 - val_root_mean_squared_error: 59643.3203\n",
      "Epoch 38/100\n",
      "563/563 [==============================] - 2s 3ms/step - loss: 3173410816.0000 - root_mean_squared_error: 56333.0352 - val_loss: 3568076544.0000 - val_root_mean_squared_error: 59733.3789\n",
      "Epoch 39/100\n",
      "550/563 [============================>.] - ETA: 0s - loss: 3164074240.0000 - root_mean_squared_error: 56250.1055INFO:tensorflow:Assets written to: models\\medium_nn\\assets\n"
     ]
    },
    {
     "name": "stderr",
     "output_type": "stream",
     "text": [
      "INFO:tensorflow:Assets written to: models\\medium_nn\\assets\n"
     ]
    },
    {
     "name": "stdout",
     "output_type": "stream",
     "text": [
      "563/563 [==============================] - 2s 4ms/step - loss: 3159102976.0000 - root_mean_squared_error: 56205.8984 - val_loss: 3514282496.0000 - val_root_mean_squared_error: 59281.3828\n",
      "Epoch 40/100\n",
      "544/563 [===========================>..] - ETA: 0s - loss: 3153374976.0000 - root_mean_squared_error: 56154.9180INFO:tensorflow:Assets written to: models\\medium_nn\\assets\n"
     ]
    },
    {
     "name": "stderr",
     "output_type": "stream",
     "text": [
      "INFO:tensorflow:Assets written to: models\\medium_nn\\assets\n"
     ]
    },
    {
     "name": "stdout",
     "output_type": "stream",
     "text": [
      "563/563 [==============================] - 2s 4ms/step - loss: 3141476608.0000 - root_mean_squared_error: 56048.8789 - val_loss: 3485261568.0000 - val_root_mean_squared_error: 59036.1055\n",
      "Epoch 41/100\n",
      "563/563 [==============================] - 2s 3ms/step - loss: 3135078400.0000 - root_mean_squared_error: 55991.7695 - val_loss: 3512173056.0000 - val_root_mean_squared_error: 59263.5898\n",
      "Epoch 42/100\n",
      "557/563 [============================>.] - ETA: 0s - loss: 3076011776.0000 - root_mean_squared_error: 55461.8047INFO:tensorflow:Assets written to: models\\medium_nn\\assets\n"
     ]
    },
    {
     "name": "stderr",
     "output_type": "stream",
     "text": [
      "INFO:tensorflow:Assets written to: models\\medium_nn\\assets\n"
     ]
    },
    {
     "name": "stdout",
     "output_type": "stream",
     "text": [
      "563/563 [==============================] - 2s 4ms/step - loss: 3087349760.0000 - root_mean_squared_error: 55563.9258 - val_loss: 3422576640.0000 - val_root_mean_squared_error: 58502.7930\n",
      "Epoch 43/100\n",
      "563/563 [==============================] - 2s 3ms/step - loss: 3093616384.0000 - root_mean_squared_error: 55620.2891 - val_loss: 3444024320.0000 - val_root_mean_squared_error: 58685.8086\n",
      "Epoch 44/100\n",
      "563/563 [==============================] - 1s 3ms/step - loss: 3052597248.0000 - root_mean_squared_error: 55250.3164 - val_loss: 3686403328.0000 - val_root_mean_squared_error: 60715.7578\n",
      "Epoch 45/100\n",
      "557/563 [============================>.] - ETA: 0s - loss: 3048057600.0000 - root_mean_squared_error: 55209.2148INFO:tensorflow:Assets written to: models\\medium_nn\\assets\n"
     ]
    },
    {
     "name": "stderr",
     "output_type": "stream",
     "text": [
      "INFO:tensorflow:Assets written to: models\\medium_nn\\assets\n"
     ]
    },
    {
     "name": "stdout",
     "output_type": "stream",
     "text": [
      "563/563 [==============================] - 2s 4ms/step - loss: 3047915520.0000 - root_mean_squared_error: 55207.9297 - val_loss: 3417384704.0000 - val_root_mean_squared_error: 58458.4023\n",
      "Epoch 46/100\n",
      "563/563 [==============================] - 2s 3ms/step - loss: 3063415552.0000 - root_mean_squared_error: 55348.1289 - val_loss: 3422540032.0000 - val_root_mean_squared_error: 58502.4805\n",
      "Epoch 47/100\n",
      "563/563 [==============================] - 2s 3ms/step - loss: 3012209664.0000 - root_mean_squared_error: 54883.6016 - val_loss: 3471661056.0000 - val_root_mean_squared_error: 58920.8047\n",
      "Epoch 48/100\n",
      "563/563 [==============================] - 2s 3ms/step - loss: 3001376256.0000 - root_mean_squared_error: 54784.8164 - val_loss: 3442094592.0000 - val_root_mean_squared_error: 58669.3672\n",
      "Epoch 49/100\n",
      "541/563 [===========================>..] - ETA: 0s - loss: 3006446336.0000 - root_mean_squared_error: 54831.0703INFO:tensorflow:Assets written to: models\\medium_nn\\assets\n"
     ]
    },
    {
     "name": "stderr",
     "output_type": "stream",
     "text": [
      "INFO:tensorflow:Assets written to: models\\medium_nn\\assets\n"
     ]
    },
    {
     "name": "stdout",
     "output_type": "stream",
     "text": [
      "563/563 [==============================] - 2s 4ms/step - loss: 2998817024.0000 - root_mean_squared_error: 54761.4570 - val_loss: 3386517504.0000 - val_root_mean_squared_error: 58193.7930\n",
      "Epoch 50/100\n",
      "563/563 [==============================] - 2s 3ms/step - loss: 2988527104.0000 - root_mean_squared_error: 54667.4219 - val_loss: 3580440064.0000 - val_root_mean_squared_error: 59836.7773\n",
      "Epoch 51/100\n",
      "545/563 [============================>.] - ETA: 0s - loss: 2989728256.0000 - root_mean_squared_error: 54678.4062INFO:tensorflow:Assets written to: models\\medium_nn\\assets\n"
     ]
    },
    {
     "name": "stderr",
     "output_type": "stream",
     "text": [
      "INFO:tensorflow:Assets written to: models\\medium_nn\\assets\n"
     ]
    },
    {
     "name": "stdout",
     "output_type": "stream",
     "text": [
      "563/563 [==============================] - 2s 4ms/step - loss: 2993882368.0000 - root_mean_squared_error: 54716.3828 - val_loss: 3340975616.0000 - val_root_mean_squared_error: 57801.1719\n",
      "Epoch 52/100\n",
      "563/563 [==============================] - 2s 3ms/step - loss: 2957469184.0000 - root_mean_squared_error: 54382.6172 - val_loss: 3467857408.0000 - val_root_mean_squared_error: 58888.5156\n",
      "Epoch 53/100\n",
      "563/563 [==============================] - 2s 3ms/step - loss: 2950621440.0000 - root_mean_squared_error: 54319.6211 - val_loss: 3723597568.0000 - val_root_mean_squared_error: 61021.2891\n",
      "Epoch 54/100\n",
      "563/563 [==============================] - 2s 3ms/step - loss: 2957387776.0000 - root_mean_squared_error: 54381.8711 - val_loss: 3544481536.0000 - val_root_mean_squared_error: 59535.5469\n",
      "Epoch 55/100\n",
      "563/563 [==============================] - 2s 3ms/step - loss: 2929957376.0000 - root_mean_squared_error: 54129.0820 - val_loss: 3366034176.0000 - val_root_mean_squared_error: 58017.5352\n",
      "Epoch 56/100\n",
      "563/563 [==============================] - 2s 3ms/step - loss: 2922770944.0000 - root_mean_squared_error: 54062.6562 - val_loss: 3379282688.0000 - val_root_mean_squared_error: 58131.5977\n",
      "Epoch 57/100\n",
      "552/563 [============================>.] - ETA: 0s - loss: 2918823424.0000 - root_mean_squared_error: 54026.1367INFO:tensorflow:Assets written to: models\\medium_nn\\assets\n"
     ]
    },
    {
     "name": "stderr",
     "output_type": "stream",
     "text": [
      "INFO:tensorflow:Assets written to: models\\medium_nn\\assets\n"
     ]
    },
    {
     "name": "stdout",
     "output_type": "stream",
     "text": [
      "563/563 [==============================] - 2s 4ms/step - loss: 2921602304.0000 - root_mean_squared_error: 54051.8477 - val_loss: 3294754048.0000 - val_root_mean_squared_error: 57399.9492\n",
      "Epoch 58/100\n",
      "563/563 [==============================] - 2s 3ms/step - loss: 2930288384.0000 - root_mean_squared_error: 54132.1367 - val_loss: 3464144384.0000 - val_root_mean_squared_error: 58856.9844\n",
      "Epoch 59/100\n",
      "563/563 [==============================] - 2s 3ms/step - loss: 2900103680.0000 - root_mean_squared_error: 53852.6094 - val_loss: 3365245952.0000 - val_root_mean_squared_error: 58010.7383\n",
      "Epoch 60/100\n",
      "563/563 [==============================] - 2s 3ms/step - loss: 2912088320.0000 - root_mean_squared_error: 53963.7695 - val_loss: 3299787520.0000 - val_root_mean_squared_error: 57443.7773\n",
      "Epoch 61/100\n",
      "563/563 [==============================] - 2s 3ms/step - loss: 2895011840.0000 - root_mean_squared_error: 53805.3125 - val_loss: 3522266880.0000 - val_root_mean_squared_error: 59348.6875\n",
      "Epoch 62/100\n",
      "563/563 [==============================] - 2s 3ms/step - loss: 2904004864.0000 - root_mean_squared_error: 53888.8203 - val_loss: 3342801664.0000 - val_root_mean_squared_error: 57816.9688\n",
      "Epoch 63/100\n",
      "563/563 [==============================] - 2s 3ms/step - loss: 2871652608.0000 - root_mean_squared_error: 53587.8047 - val_loss: 3450084096.0000 - val_root_mean_squared_error: 58737.4180\n",
      "Epoch 64/100\n",
      "556/563 [============================>.] - ETA: 0s - loss: 2880024064.0000 - root_mean_squared_error: 53665.8555INFO:tensorflow:Assets written to: models\\medium_nn\\assets\n"
     ]
    },
    {
     "name": "stderr",
     "output_type": "stream",
     "text": [
      "INFO:tensorflow:Assets written to: models\\medium_nn\\assets\n"
     ]
    },
    {
     "name": "stdout",
     "output_type": "stream",
     "text": [
      "563/563 [==============================] - 2s 4ms/step - loss: 2875574016.0000 - root_mean_squared_error: 53624.3789 - val_loss: 3227251712.0000 - val_root_mean_squared_error: 56808.9062\n",
      "Epoch 65/100\n",
      "563/563 [==============================] - 1s 3ms/step - loss: 2883193600.0000 - root_mean_squared_error: 53695.3789 - val_loss: 3311093760.0000 - val_root_mean_squared_error: 57542.1055\n",
      "Epoch 66/100\n",
      "563/563 [==============================] - 1s 3ms/step - loss: 2857662208.0000 - root_mean_squared_error: 53457.1055 - val_loss: 3324808448.0000 - val_root_mean_squared_error: 57661.1523\n",
      "Epoch 67/100\n",
      "563/563 [==============================] - 2s 3ms/step - loss: 2870270208.0000 - root_mean_squared_error: 53574.9023 - val_loss: 3275186688.0000 - val_root_mean_squared_error: 57229.2461\n",
      "Epoch 68/100\n",
      "563/563 [==============================] - 2s 3ms/step - loss: 2882369792.0000 - root_mean_squared_error: 53687.7070 - val_loss: 3472224256.0000 - val_root_mean_squared_error: 58925.5820\n",
      "Epoch 69/100\n",
      "563/563 [==============================] - 2s 3ms/step - loss: 2839205376.0000 - root_mean_squared_error: 53284.1953 - val_loss: 3248386816.0000 - val_root_mean_squared_error: 56994.6211\n",
      "Epoch 70/100\n",
      "563/563 [==============================] - 2s 3ms/step - loss: 2829218816.0000 - root_mean_squared_error: 53190.4023 - val_loss: 3328224512.0000 - val_root_mean_squared_error: 57690.7656\n",
      "Epoch 71/100\n",
      "563/563 [==============================] - 1s 2ms/step - loss: 2848312320.0000 - root_mean_squared_error: 53369.5820 - val_loss: 3461070336.0000 - val_root_mean_squared_error: 58830.8633\n",
      "Epoch 72/100\n",
      "563/563 [==============================] - 1s 2ms/step - loss: 2827939584.0000 - root_mean_squared_error: 53178.3750 - val_loss: 3335771136.0000 - val_root_mean_squared_error: 57756.1367\n",
      "Epoch 73/100\n",
      "563/563 [==============================] - 1s 2ms/step - loss: 2824266496.0000 - root_mean_squared_error: 53143.8281 - val_loss: 3254597888.0000 - val_root_mean_squared_error: 57049.0820\n",
      "Epoch 74/100\n",
      "563/563 [==============================] - 1s 2ms/step - loss: 2806779904.0000 - root_mean_squared_error: 52979.0508 - val_loss: 3398629376.0000 - val_root_mean_squared_error: 58297.7656\n",
      "Epoch 75/100\n",
      "563/563 [==============================] - 2s 3ms/step - loss: 2839762944.0000 - root_mean_squared_error: 53289.4258 - val_loss: 3281370112.0000 - val_root_mean_squared_error: 57283.2461\n",
      "Epoch 76/100\n",
      "557/563 [============================>.] - ETA: 0s - loss: 2795986176.0000 - root_mean_squared_error: 52877.0859INFO:tensorflow:Assets written to: models\\medium_nn\\assets\n"
     ]
    },
    {
     "name": "stderr",
     "output_type": "stream",
     "text": [
      "INFO:tensorflow:Assets written to: models\\medium_nn\\assets\n"
     ]
    },
    {
     "name": "stdout",
     "output_type": "stream",
     "text": [
      "563/563 [==============================] - 2s 4ms/step - loss: 2799001600.0000 - root_mean_squared_error: 52905.5898 - val_loss: 3195815936.0000 - val_root_mean_squared_error: 56531.5469\n",
      "Epoch 77/100\n",
      "563/563 [==============================] - 2s 3ms/step - loss: 2814495744.0000 - root_mean_squared_error: 53051.8203 - val_loss: 3324779776.0000 - val_root_mean_squared_error: 57660.9023\n",
      "Epoch 78/100\n",
      "563/563 [==============================] - 2s 3ms/step - loss: 2799706880.0000 - root_mean_squared_error: 52912.2578 - val_loss: 3387362560.0000 - val_root_mean_squared_error: 58201.0547\n",
      "Epoch 79/100\n",
      "560/563 [============================>.] - ETA: 0s - loss: 2813722112.0000 - root_mean_squared_error: 53044.5312INFO:tensorflow:Assets written to: models\\medium_nn\\assets\n"
     ]
    },
    {
     "name": "stderr",
     "output_type": "stream",
     "text": [
      "INFO:tensorflow:Assets written to: models\\medium_nn\\assets\n"
     ]
    },
    {
     "name": "stdout",
     "output_type": "stream",
     "text": [
      "563/563 [==============================] - 2s 4ms/step - loss: 2814283776.0000 - root_mean_squared_error: 53049.8242 - val_loss: 3153849600.0000 - val_root_mean_squared_error: 56159.1445\n",
      "Epoch 80/100\n",
      "563/563 [==============================] - 1s 3ms/step - loss: 2795972608.0000 - root_mean_squared_error: 52876.9570 - val_loss: 3309894912.0000 - val_root_mean_squared_error: 57531.6875\n",
      "Epoch 81/100\n",
      "549/563 [============================>.] - ETA: 0s - loss: 2779235072.0000 - root_mean_squared_error: 52718.4492INFO:tensorflow:Assets written to: models\\medium_nn\\assets\n"
     ]
    },
    {
     "name": "stderr",
     "output_type": "stream",
     "text": [
      "INFO:tensorflow:Assets written to: models\\medium_nn\\assets\n"
     ]
    },
    {
     "name": "stdout",
     "output_type": "stream",
     "text": [
      "563/563 [==============================] - 2s 4ms/step - loss: 2776204800.0000 - root_mean_squared_error: 52689.7031 - val_loss: 3126048000.0000 - val_root_mean_squared_error: 55911.0703\n",
      "Epoch 82/100\n",
      "563/563 [==============================] - 2s 3ms/step - loss: 2760640768.0000 - root_mean_squared_error: 52541.8008 - val_loss: 3130951680.0000 - val_root_mean_squared_error: 55954.9062\n",
      "Epoch 83/100\n",
      "563/563 [==============================] - 2s 3ms/step - loss: 2767485440.0000 - root_mean_squared_error: 52606.8945 - val_loss: 3250955264.0000 - val_root_mean_squared_error: 57017.1484\n",
      "Epoch 84/100\n",
      "563/563 [==============================] - 2s 3ms/step - loss: 2785366016.0000 - root_mean_squared_error: 52776.5664 - val_loss: 3191609600.0000 - val_root_mean_squared_error: 56494.3320\n",
      "Epoch 85/100\n",
      "563/563 [==============================] - 2s 3ms/step - loss: 2778089984.0000 - root_mean_squared_error: 52707.5898 - val_loss: 3169524224.0000 - val_root_mean_squared_error: 56298.5273\n",
      "Epoch 86/100\n",
      "563/563 [==============================] - 2s 3ms/step - loss: 2772246784.0000 - root_mean_squared_error: 52652.1289 - val_loss: 3418822656.0000 - val_root_mean_squared_error: 58470.6992\n",
      "Epoch 87/100\n",
      "563/563 [==============================] - 2s 3ms/step - loss: 2773061120.0000 - root_mean_squared_error: 52659.8633 - val_loss: 3272107520.0000 - val_root_mean_squared_error: 57202.3398\n",
      "Epoch 88/100\n",
      "550/563 [============================>.] - ETA: 0s - loss: 2764727552.0000 - root_mean_squared_error: 52580.6758INFO:tensorflow:Assets written to: models\\medium_nn\\assets\n"
     ]
    },
    {
     "name": "stderr",
     "output_type": "stream",
     "text": [
      "INFO:tensorflow:Assets written to: models\\medium_nn\\assets\n"
     ]
    },
    {
     "name": "stdout",
     "output_type": "stream",
     "text": [
      "563/563 [==============================] - 2s 4ms/step - loss: 2757830144.0000 - root_mean_squared_error: 52515.0469 - val_loss: 3109668864.0000 - val_root_mean_squared_error: 55764.4062\n",
      "Epoch 89/100\n",
      "563/563 [==============================] - 2s 3ms/step - loss: 2774049536.0000 - root_mean_squared_error: 52669.2461 - val_loss: 3208993536.0000 - val_root_mean_squared_error: 56647.9805\n",
      "Epoch 90/100\n",
      "563/563 [==============================] - 2s 3ms/step - loss: 2754207488.0000 - root_mean_squared_error: 52480.5430 - val_loss: 3171770112.0000 - val_root_mean_squared_error: 56318.4688\n",
      "Epoch 91/100\n",
      "563/563 [==============================] - 2s 3ms/step - loss: 2755046400.0000 - root_mean_squared_error: 52488.5352 - val_loss: 3263268352.0000 - val_root_mean_squared_error: 57125.0234\n",
      "Epoch 92/100\n",
      "563/563 [==============================] - 2s 3ms/step - loss: 2750505984.0000 - root_mean_squared_error: 52445.2656 - val_loss: 3201552896.0000 - val_root_mean_squared_error: 56582.2656\n",
      "Epoch 93/100\n",
      "563/563 [==============================] - 2s 3ms/step - loss: 2738042368.0000 - root_mean_squared_error: 52326.3086 - val_loss: 3499586816.0000 - val_root_mean_squared_error: 59157.3047\n",
      "Epoch 94/100\n",
      "563/563 [==============================] - 2s 3ms/step - loss: 2739670784.0000 - root_mean_squared_error: 52341.8633 - val_loss: 3186246400.0000 - val_root_mean_squared_error: 56446.8477\n",
      "Epoch 95/100\n",
      "563/563 [==============================] - 2s 3ms/step - loss: 2742701312.0000 - root_mean_squared_error: 52370.8047 - val_loss: 3165230848.0000 - val_root_mean_squared_error: 56260.3828\n",
      "Epoch 96/100\n",
      "563/563 [==============================] - 2s 3ms/step - loss: 2736955136.0000 - root_mean_squared_error: 52315.9180 - val_loss: 3187939072.0000 - val_root_mean_squared_error: 56461.8359\n",
      "Epoch 97/100\n",
      "563/563 [==============================] - 2s 3ms/step - loss: 2720498944.0000 - root_mean_squared_error: 52158.4023 - val_loss: 3259198208.0000 - val_root_mean_squared_error: 57089.3867\n",
      "Epoch 98/100\n",
      "563/563 [==============================] - 2s 3ms/step - loss: 2731463680.0000 - root_mean_squared_error: 52263.4062 - val_loss: 3223211264.0000 - val_root_mean_squared_error: 56773.3320\n",
      "Epoch 99/100\n",
      "563/563 [==============================] - 2s 3ms/step - loss: 2733736448.0000 - root_mean_squared_error: 52285.1445 - val_loss: 3246739456.0000 - val_root_mean_squared_error: 56980.1680\n",
      "Epoch 100/100\n",
      "563/563 [==============================] - 2s 4ms/step - loss: 2717785088.0000 - root_mean_squared_error: 52132.3789 - val_loss: 3158271232.0000 - val_root_mean_squared_error: 56198.5000\n"
     ]
    },
    {
     "data": {
      "text/plain": [
       "<keras.src.callbacks.History at 0x1dfaff08250>"
      ]
     },
     "execution_count": 87,
     "metadata": {},
     "output_type": "execute_result"
    }
   ],
   "source": [
    "medium_nn = Sequential()\n",
    "medium_nn.add(InputLayer((13,)))\n",
    "medium_nn.add(Dense(32,'relu'))\n",
    "medium_nn.add(Dense(16,'relu'))\n",
    "medium_nn.add(Dense(1, 'linear'))\n",
    "\n",
    "opt = Adam(learning_rate=.1)\n",
    "cp=ModelCheckpoint('models/medium_nn', save_best_only=True)\n",
    "medium_nn.compile(optimizer=opt, loss='mse',metrics=[RootMeanSquaredError()])\n",
    "medium_nn.fit(x=X_train, y=y_train, validation_data=(X_val, y_val), callbacks=[cp], epochs=100)"
   ]
  },
  {
   "cell_type": "code",
   "execution_count": 88,
   "id": "1b488caa",
   "metadata": {},
   "outputs": [
    {
     "name": "stdout",
     "output_type": "stream",
     "text": [
      "563/563 [==============================] - 1s 2ms/step\n",
      "39/39 [==============================] - 0s 2ms/step\n"
     ]
    },
    {
     "name": "stderr",
     "output_type": "stream",
     "text": [
      "C:\\Users\\Craigs\\anaconda3\\Lib\\site-packages\\sklearn\\metrics\\_regression.py:492: FutureWarning: 'squared' is deprecated in version 1.4 and will be removed in 1.6. To calculate the root mean squared error, use the function'root_mean_squared_error'.\n",
      "  warnings.warn(\n",
      "C:\\Users\\Craigs\\anaconda3\\Lib\\site-packages\\sklearn\\metrics\\_regression.py:492: FutureWarning: 'squared' is deprecated in version 1.4 and will be removed in 1.6. To calculate the root mean squared error, use the function'root_mean_squared_error'.\n",
      "  warnings.warn(\n"
     ]
    },
    {
     "data": {
      "text/plain": [
       "(51568.74456090659, 55764.40572067068)"
      ]
     },
     "execution_count": 88,
     "metadata": {},
     "output_type": "execute_result"
    }
   ],
   "source": [
    "# validation down to 56k but overfitting\n",
    "medium_nn = load_model('models/medium_nn')\n",
    "mse(medium_nn.predict(X_train),y_train, squared=False), mse(medium_nn.predict(X_val),y_val, squared=False)"
   ]
  },
  {
   "cell_type": "code",
   "execution_count": 89,
   "id": "ce6073cb",
   "metadata": {},
   "outputs": [
    {
     "name": "stdout",
     "output_type": "stream",
     "text": [
      "Epoch 1/100\n",
      "559/563 [============================>.] - ETA: 0s - loss: 7835263488.0000 - root_mean_squared_error: 88517.0234INFO:tensorflow:Assets written to: models\\large_nn\\assets\n"
     ]
    },
    {
     "name": "stderr",
     "output_type": "stream",
     "text": [
      "INFO:tensorflow:Assets written to: models\\large_nn\\assets\n"
     ]
    },
    {
     "name": "stdout",
     "output_type": "stream",
     "text": [
      "563/563 [==============================] - 4s 5ms/step - loss: 7815213568.0000 - root_mean_squared_error: 88403.6953 - val_loss: 5102981632.0000 - val_root_mean_squared_error: 71435.1562\n",
      "Epoch 2/100\n",
      "556/563 [============================>.] - ETA: 0s - loss: 4352870912.0000 - root_mean_squared_error: 65976.2891INFO:tensorflow:Assets written to: models\\large_nn\\assets\n"
     ]
    },
    {
     "name": "stderr",
     "output_type": "stream",
     "text": [
      "INFO:tensorflow:Assets written to: models\\large_nn\\assets\n"
     ]
    },
    {
     "name": "stdout",
     "output_type": "stream",
     "text": [
      "563/563 [==============================] - 3s 6ms/step - loss: 4347841536.0000 - root_mean_squared_error: 65938.1641 - val_loss: 4390394880.0000 - val_root_mean_squared_error: 66260.0547\n",
      "Epoch 3/100\n",
      "550/563 [============================>.] - ETA: 0s - loss: 4116883456.0000 - root_mean_squared_error: 64162.9453INFO:tensorflow:Assets written to: models\\large_nn\\assets\n"
     ]
    },
    {
     "name": "stderr",
     "output_type": "stream",
     "text": [
      "INFO:tensorflow:Assets written to: models\\large_nn\\assets\n"
     ]
    },
    {
     "name": "stdout",
     "output_type": "stream",
     "text": [
      "563/563 [==============================] - 3s 6ms/step - loss: 4116364032.0000 - root_mean_squared_error: 64158.8984 - val_loss: 4177103616.0000 - val_root_mean_squared_error: 64630.5156\n",
      "Epoch 4/100\n",
      "563/563 [==============================] - 2s 4ms/step - loss: 3852851200.0000 - root_mean_squared_error: 62071.3398 - val_loss: 4431904256.0000 - val_root_mean_squared_error: 66572.5469\n",
      "Epoch 5/100\n",
      "563/563 [==============================] - 2s 4ms/step - loss: 3872319744.0000 - root_mean_squared_error: 62227.9648 - val_loss: 4196351232.0000 - val_root_mean_squared_error: 64779.2500\n",
      "Epoch 6/100\n",
      "563/563 [==============================] - 2s 4ms/step - loss: 3626622464.0000 - root_mean_squared_error: 60221.4453 - val_loss: 4239478784.0000 - val_root_mean_squared_error: 65111.2812\n",
      "Epoch 7/100\n",
      "554/563 [============================>.] - ETA: 0s - loss: 3556264448.0000 - root_mean_squared_error: 59634.4219INFO:tensorflow:Assets written to: models\\large_nn\\assets\n"
     ]
    },
    {
     "name": "stderr",
     "output_type": "stream",
     "text": [
      "INFO:tensorflow:Assets written to: models\\large_nn\\assets\n"
     ]
    },
    {
     "name": "stdout",
     "output_type": "stream",
     "text": [
      "563/563 [==============================] - 3s 5ms/step - loss: 3555677952.0000 - root_mean_squared_error: 59629.5039 - val_loss: 3874759424.0000 - val_root_mean_squared_error: 62247.5664\n",
      "Epoch 8/100\n",
      "558/563 [============================>.] - ETA: 0s - loss: 3432041472.0000 - root_mean_squared_error: 58583.6289INFO:tensorflow:Assets written to: models\\large_nn\\assets\n"
     ]
    },
    {
     "name": "stderr",
     "output_type": "stream",
     "text": [
      "INFO:tensorflow:Assets written to: models\\large_nn\\assets\n"
     ]
    },
    {
     "name": "stdout",
     "output_type": "stream",
     "text": [
      "563/563 [==============================] - 3s 5ms/step - loss: 3435695360.0000 - root_mean_squared_error: 58614.8047 - val_loss: 3729257472.0000 - val_root_mean_squared_error: 61067.6484\n",
      "Epoch 9/100\n",
      "563/563 [==============================] - 2s 4ms/step - loss: 3409658368.0000 - root_mean_squared_error: 58392.2812 - val_loss: 3816747264.0000 - val_root_mean_squared_error: 61779.8281\n",
      "Epoch 10/100\n",
      "563/563 [==============================] - 2s 4ms/step - loss: 3390503680.0000 - root_mean_squared_error: 58228.0312 - val_loss: 3730012928.0000 - val_root_mean_squared_error: 61073.8320\n",
      "Epoch 11/100\n",
      "550/563 [============================>.] - ETA: 0s - loss: 3325501952.0000 - root_mean_squared_error: 57667.1641INFO:tensorflow:Assets written to: models\\large_nn\\assets\n"
     ]
    },
    {
     "name": "stderr",
     "output_type": "stream",
     "text": [
      "INFO:tensorflow:Assets written to: models\\large_nn\\assets\n"
     ]
    },
    {
     "name": "stdout",
     "output_type": "stream",
     "text": [
      "563/563 [==============================] - 3s 5ms/step - loss: 3326869760.0000 - root_mean_squared_error: 57679.0234 - val_loss: 3519873024.0000 - val_root_mean_squared_error: 59328.5195\n",
      "Epoch 12/100\n",
      "563/563 [==============================] - 2s 4ms/step - loss: 3266469376.0000 - root_mean_squared_error: 57153.0352 - val_loss: 3936377856.0000 - val_root_mean_squared_error: 62740.5586\n",
      "Epoch 13/100\n",
      "563/563 [==============================] - 2s 4ms/step - loss: 3243939840.0000 - root_mean_squared_error: 56955.5938 - val_loss: 3562772992.0000 - val_root_mean_squared_error: 59688.9688\n",
      "Epoch 14/100\n",
      "548/563 [============================>.] - ETA: 0s - loss: 3191980800.0000 - root_mean_squared_error: 56497.6172INFO:tensorflow:Assets written to: models\\large_nn\\assets\n"
     ]
    },
    {
     "name": "stderr",
     "output_type": "stream",
     "text": [
      "INFO:tensorflow:Assets written to: models\\large_nn\\assets\n"
     ]
    },
    {
     "name": "stdout",
     "output_type": "stream",
     "text": [
      "563/563 [==============================] - 3s 5ms/step - loss: 3192791296.0000 - root_mean_squared_error: 56504.7891 - val_loss: 3488637696.0000 - val_root_mean_squared_error: 59064.6914\n",
      "Epoch 15/100\n",
      "563/563 [==============================] - 2s 4ms/step - loss: 3076580608.0000 - root_mean_squared_error: 55466.9336 - val_loss: 3520061440.0000 - val_root_mean_squared_error: 59330.1055\n",
      "Epoch 16/100\n",
      "563/563 [==============================] - 2s 4ms/step - loss: 3112417792.0000 - root_mean_squared_error: 55789.0469 - val_loss: 3548230144.0000 - val_root_mean_squared_error: 59567.0234\n",
      "Epoch 17/100\n",
      "558/563 [============================>.] - ETA: 0s - loss: 3131459584.0000 - root_mean_squared_error: 55959.4453INFO:tensorflow:Assets written to: models\\large_nn\\assets\n"
     ]
    },
    {
     "name": "stderr",
     "output_type": "stream",
     "text": [
      "INFO:tensorflow:Assets written to: models\\large_nn\\assets\n"
     ]
    },
    {
     "name": "stdout",
     "output_type": "stream",
     "text": [
      "563/563 [==============================] - 3s 5ms/step - loss: 3131519232.0000 - root_mean_squared_error: 55959.9805 - val_loss: 3488432896.0000 - val_root_mean_squared_error: 59062.9570\n",
      "Epoch 18/100\n",
      "554/563 [============================>.] - ETA: 0s - loss: 3175702016.0000 - root_mean_squared_error: 56353.3672INFO:tensorflow:Assets written to: models\\large_nn\\assets\n"
     ]
    },
    {
     "name": "stderr",
     "output_type": "stream",
     "text": [
      "INFO:tensorflow:Assets written to: models\\large_nn\\assets\n"
     ]
    },
    {
     "name": "stdout",
     "output_type": "stream",
     "text": [
      "563/563 [==============================] - 3s 5ms/step - loss: 3163804160.0000 - root_mean_squared_error: 56247.7031 - val_loss: 3394623232.0000 - val_root_mean_squared_error: 58263.3945\n",
      "Epoch 19/100\n",
      "562/563 [============================>.] - ETA: 0s - loss: 3137073408.0000 - root_mean_squared_error: 56009.5820INFO:tensorflow:Assets written to: models\\large_nn\\assets\n"
     ]
    },
    {
     "name": "stderr",
     "output_type": "stream",
     "text": [
      "INFO:tensorflow:Assets written to: models\\large_nn\\assets\n"
     ]
    },
    {
     "name": "stdout",
     "output_type": "stream",
     "text": [
      "563/563 [==============================] - 3s 6ms/step - loss: 3136379392.0000 - root_mean_squared_error: 56003.3867 - val_loss: 3344917760.0000 - val_root_mean_squared_error: 57835.2656\n",
      "Epoch 20/100\n",
      "563/563 [==============================] - 2s 4ms/step - loss: 3044925184.0000 - root_mean_squared_error: 55180.8398 - val_loss: 3446629120.0000 - val_root_mean_squared_error: 58708.0000\n",
      "Epoch 21/100\n",
      "563/563 [==============================] - 2s 4ms/step - loss: 3020678656.0000 - root_mean_squared_error: 54960.6992 - val_loss: 3544806656.0000 - val_root_mean_squared_error: 59538.2773\n",
      "Epoch 22/100\n",
      "560/563 [============================>.] - ETA: 0s - loss: 3002129408.0000 - root_mean_squared_error: 54791.6914INFO:tensorflow:Assets written to: models\\large_nn\\assets\n"
     ]
    },
    {
     "name": "stderr",
     "output_type": "stream",
     "text": [
      "INFO:tensorflow:Assets written to: models\\large_nn\\assets\n"
     ]
    },
    {
     "name": "stdout",
     "output_type": "stream",
     "text": [
      "563/563 [==============================] - 4s 6ms/step - loss: 3002247936.0000 - root_mean_squared_error: 54792.7734 - val_loss: 3344642816.0000 - val_root_mean_squared_error: 57832.8867\n",
      "Epoch 23/100\n",
      "563/563 [==============================] - 2s 4ms/step - loss: 2897464064.0000 - root_mean_squared_error: 53828.0977 - val_loss: 3545288192.0000 - val_root_mean_squared_error: 59542.3242\n",
      "Epoch 24/100\n",
      "560/563 [============================>.] - ETA: 0s - loss: 2977685248.0000 - root_mean_squared_error: 54568.1719INFO:tensorflow:Assets written to: models\\large_nn\\assets\n"
     ]
    },
    {
     "name": "stderr",
     "output_type": "stream",
     "text": [
      "INFO:tensorflow:Assets written to: models\\large_nn\\assets\n"
     ]
    },
    {
     "name": "stdout",
     "output_type": "stream",
     "text": [
      "563/563 [==============================] - 3s 6ms/step - loss: 2978164480.0000 - root_mean_squared_error: 54572.5625 - val_loss: 3334580736.0000 - val_root_mean_squared_error: 57745.8281\n",
      "Epoch 25/100\n",
      "563/563 [==============================] - 2s 4ms/step - loss: 2889087488.0000 - root_mean_squared_error: 53750.2344 - val_loss: 3535224832.0000 - val_root_mean_squared_error: 59457.7578\n",
      "Epoch 26/100\n",
      "563/563 [==============================] - 2s 4ms/step - loss: 2925539072.0000 - root_mean_squared_error: 54088.2539 - val_loss: 4288040960.0000 - val_root_mean_squared_error: 65483.1367\n",
      "Epoch 27/100\n",
      "561/563 [============================>.] - ETA: 0s - loss: 2903437056.0000 - root_mean_squared_error: 53883.5508INFO:tensorflow:Assets written to: models\\large_nn\\assets\n"
     ]
    },
    {
     "name": "stderr",
     "output_type": "stream",
     "text": [
      "INFO:tensorflow:Assets written to: models\\large_nn\\assets\n"
     ]
    },
    {
     "name": "stdout",
     "output_type": "stream",
     "text": [
      "563/563 [==============================] - 4s 6ms/step - loss: 2902393088.0000 - root_mean_squared_error: 53873.8633 - val_loss: 3156604160.0000 - val_root_mean_squared_error: 56183.6641\n",
      "Epoch 28/100\n",
      "563/563 [==============================] - 2s 4ms/step - loss: 2866942208.0000 - root_mean_squared_error: 53543.8359 - val_loss: 3324844800.0000 - val_root_mean_squared_error: 57661.4688\n",
      "Epoch 29/100\n",
      "562/563 [============================>.] - ETA: 0s - loss: 2836304128.0000 - root_mean_squared_error: 53256.9648INFO:tensorflow:Assets written to: models\\large_nn\\assets\n"
     ]
    },
    {
     "name": "stderr",
     "output_type": "stream",
     "text": [
      "INFO:tensorflow:Assets written to: models\\large_nn\\assets\n"
     ]
    },
    {
     "name": "stdout",
     "output_type": "stream",
     "text": [
      "563/563 [==============================] - 3s 6ms/step - loss: 2835140096.0000 - root_mean_squared_error: 53246.0352 - val_loss: 3077857792.0000 - val_root_mean_squared_error: 55478.4453\n",
      "Epoch 30/100\n",
      "563/563 [==============================] - 2s 4ms/step - loss: 2940168448.0000 - root_mean_squared_error: 54223.3203 - val_loss: 3211276288.0000 - val_root_mean_squared_error: 56668.1250\n",
      "Epoch 31/100\n",
      "563/563 [==============================] - 2s 4ms/step - loss: 2844672512.0000 - root_mean_squared_error: 53335.4727 - val_loss: 3222395648.0000 - val_root_mean_squared_error: 56766.1484\n",
      "Epoch 32/100\n",
      "563/563 [==============================] - 2s 4ms/step - loss: 2844888320.0000 - root_mean_squared_error: 53337.4961 - val_loss: 3675553280.0000 - val_root_mean_squared_error: 60626.3398\n",
      "Epoch 33/100\n",
      "563/563 [==============================] - 2s 4ms/step - loss: 2803268096.0000 - root_mean_squared_error: 52945.8984 - val_loss: 3169078016.0000 - val_root_mean_squared_error: 56294.5664\n",
      "Epoch 34/100\n",
      "553/563 [============================>.] - ETA: 0s - loss: 2749640704.0000 - root_mean_squared_error: 52437.0156INFO:tensorflow:Assets written to: models\\large_nn\\assets\n"
     ]
    },
    {
     "name": "stderr",
     "output_type": "stream",
     "text": [
      "INFO:tensorflow:Assets written to: models\\large_nn\\assets\n"
     ]
    },
    {
     "name": "stdout",
     "output_type": "stream",
     "text": [
      "563/563 [==============================] - 3s 6ms/step - loss: 2750944768.0000 - root_mean_squared_error: 52449.4492 - val_loss: 3035986176.0000 - val_root_mean_squared_error: 55099.7852\n",
      "Epoch 35/100\n",
      "563/563 [==============================] - 2s 4ms/step - loss: 2780993792.0000 - root_mean_squared_error: 52735.1289 - val_loss: 3201733632.0000 - val_root_mean_squared_error: 56583.8633\n",
      "Epoch 36/100\n",
      "563/563 [==============================] - 2s 4ms/step - loss: 2741376512.0000 - root_mean_squared_error: 52358.1562 - val_loss: 3247164416.0000 - val_root_mean_squared_error: 56983.8945\n",
      "Epoch 37/100\n",
      "563/563 [==============================] - 2s 4ms/step - loss: 2716484352.0000 - root_mean_squared_error: 52119.9023 - val_loss: 3629326848.0000 - val_root_mean_squared_error: 60243.8945\n",
      "Epoch 38/100\n",
      "563/563 [==============================] - 2s 4ms/step - loss: 2755229696.0000 - root_mean_squared_error: 52490.2812 - val_loss: 3142341376.0000 - val_root_mean_squared_error: 56056.5898\n",
      "Epoch 39/100\n",
      "563/563 [==============================] - 2s 4ms/step - loss: 2712894720.0000 - root_mean_squared_error: 52085.4570 - val_loss: 3373151744.0000 - val_root_mean_squared_error: 58078.8398\n",
      "Epoch 40/100\n",
      "563/563 [==============================] - 2s 4ms/step - loss: 2729096960.0000 - root_mean_squared_error: 52240.7578 - val_loss: 3387206656.0000 - val_root_mean_squared_error: 58199.7148\n",
      "Epoch 41/100\n",
      "563/563 [==============================] - 2s 4ms/step - loss: 2725368832.0000 - root_mean_squared_error: 52205.0664 - val_loss: 3078458880.0000 - val_root_mean_squared_error: 55483.8633\n",
      "Epoch 42/100\n",
      "563/563 [==============================] - 2s 4ms/step - loss: 2755905536.0000 - root_mean_squared_error: 52496.7188 - val_loss: 3176523776.0000 - val_root_mean_squared_error: 56360.6562\n",
      "Epoch 43/100\n",
      "563/563 [==============================] - 2s 4ms/step - loss: 2676685568.0000 - root_mean_squared_error: 51736.6953 - val_loss: 3532501760.0000 - val_root_mean_squared_error: 59434.8516\n",
      "Epoch 44/100\n",
      "563/563 [==============================] - 2s 4ms/step - loss: 2746998016.0000 - root_mean_squared_error: 52411.8125 - val_loss: 3202603264.0000 - val_root_mean_squared_error: 56591.5469\n",
      "Epoch 45/100\n",
      "563/563 [==============================] - 2s 4ms/step - loss: 2694316032.0000 - root_mean_squared_error: 51906.8008 - val_loss: 3341838336.0000 - val_root_mean_squared_error: 57808.6367\n",
      "Epoch 46/100\n",
      "555/563 [============================>.] - ETA: 0s - loss: 2696467712.0000 - root_mean_squared_error: 51927.5234INFO:tensorflow:Assets written to: models\\large_nn\\assets\n"
     ]
    },
    {
     "name": "stderr",
     "output_type": "stream",
     "text": [
      "INFO:tensorflow:Assets written to: models\\large_nn\\assets\n"
     ]
    },
    {
     "name": "stdout",
     "output_type": "stream",
     "text": [
      "563/563 [==============================] - 3s 5ms/step - loss: 2696081664.0000 - root_mean_squared_error: 51923.8047 - val_loss: 2967174400.0000 - val_root_mean_squared_error: 54471.7773\n",
      "Epoch 47/100\n",
      "563/563 [==============================] - 2s 4ms/step - loss: 2654860800.0000 - root_mean_squared_error: 51525.3398 - val_loss: 3207424000.0000 - val_root_mean_squared_error: 56634.1250\n",
      "Epoch 48/100\n",
      "563/563 [==============================] - 2s 4ms/step - loss: 2858956288.0000 - root_mean_squared_error: 53469.2070 - val_loss: 3535729408.0000 - val_root_mean_squared_error: 59462.0000\n",
      "Epoch 49/100\n",
      "563/563 [==============================] - 2s 4ms/step - loss: 2912514560.0000 - root_mean_squared_error: 53967.7188 - val_loss: 3249184000.0000 - val_root_mean_squared_error: 57001.6133\n",
      "Epoch 50/100\n",
      "548/563 [============================>.] - ETA: 0s - loss: 2644813312.0000 - root_mean_squared_error: 51427.7500INFO:tensorflow:Assets written to: models\\large_nn\\assets\n"
     ]
    },
    {
     "name": "stderr",
     "output_type": "stream",
     "text": [
      "INFO:tensorflow:Assets written to: models\\large_nn\\assets\n"
     ]
    },
    {
     "name": "stdout",
     "output_type": "stream",
     "text": [
      "563/563 [==============================] - 3s 5ms/step - loss: 2645289472.0000 - root_mean_squared_error: 51432.3789 - val_loss: 2923832832.0000 - val_root_mean_squared_error: 54072.4766\n",
      "Epoch 51/100\n",
      "563/563 [==============================] - 2s 4ms/step - loss: 2621604352.0000 - root_mean_squared_error: 51201.6055 - val_loss: 3430941952.0000 - val_root_mean_squared_error: 58574.2422\n",
      "Epoch 52/100\n",
      "563/563 [==============================] - 2s 4ms/step - loss: 2627844352.0000 - root_mean_squared_error: 51262.5039 - val_loss: 3176210688.0000 - val_root_mean_squared_error: 56357.8789\n",
      "Epoch 53/100\n",
      "563/563 [==============================] - 2s 3ms/step - loss: 2608306944.0000 - root_mean_squared_error: 51071.5859 - val_loss: 3080688384.0000 - val_root_mean_squared_error: 55503.9492\n",
      "Epoch 54/100\n",
      "563/563 [==============================] - 2s 3ms/step - loss: 2635063296.0000 - root_mean_squared_error: 51332.8672 - val_loss: 3571047424.0000 - val_root_mean_squared_error: 59758.2422\n",
      "Epoch 55/100\n",
      "563/563 [==============================] - 2s 3ms/step - loss: 2586174208.0000 - root_mean_squared_error: 50854.4414 - val_loss: 3200338688.0000 - val_root_mean_squared_error: 56571.5352\n",
      "Epoch 56/100\n",
      "563/563 [==============================] - 2s 3ms/step - loss: 2647220480.0000 - root_mean_squared_error: 51451.1484 - val_loss: 3434407168.0000 - val_root_mean_squared_error: 58603.8164\n",
      "Epoch 57/100\n",
      "563/563 [==============================] - 2s 3ms/step - loss: 2603656192.0000 - root_mean_squared_error: 51026.0352 - val_loss: 3051874304.0000 - val_root_mean_squared_error: 55243.7734\n",
      "Epoch 58/100\n",
      "563/563 [==============================] - 2s 3ms/step - loss: 2604807680.0000 - root_mean_squared_error: 51037.3164 - val_loss: 3406792960.0000 - val_root_mean_squared_error: 58367.7383\n",
      "Epoch 59/100\n",
      "563/563 [==============================] - 2s 3ms/step - loss: 2633768704.0000 - root_mean_squared_error: 51320.2578 - val_loss: 3650480128.0000 - val_root_mean_squared_error: 60419.2031\n",
      "Epoch 60/100\n",
      "563/563 [==============================] - 2s 3ms/step - loss: 2563267072.0000 - root_mean_squared_error: 50628.7188 - val_loss: 3176472832.0000 - val_root_mean_squared_error: 56360.2070\n",
      "Epoch 61/100\n",
      "563/563 [==============================] - 2s 3ms/step - loss: 2602854912.0000 - root_mean_squared_error: 51018.1836 - val_loss: 3002461440.0000 - val_root_mean_squared_error: 54794.7227\n",
      "Epoch 62/100\n",
      "563/563 [==============================] - 2s 3ms/step - loss: 2589239040.0000 - root_mean_squared_error: 50884.5664 - val_loss: 3095592704.0000 - val_root_mean_squared_error: 55638.0508\n",
      "Epoch 63/100\n",
      "563/563 [==============================] - 2s 3ms/step - loss: 2627531264.0000 - root_mean_squared_error: 51259.4492 - val_loss: 3417990912.0000 - val_root_mean_squared_error: 58463.5859\n",
      "Epoch 64/100\n",
      "563/563 [==============================] - 2s 3ms/step - loss: 2624213248.0000 - root_mean_squared_error: 51227.0742 - val_loss: 3012893184.0000 - val_root_mean_squared_error: 54889.8281\n",
      "Epoch 65/100\n",
      "563/563 [==============================] - 2s 3ms/step - loss: 2555615488.0000 - root_mean_squared_error: 50553.0977 - val_loss: 3054590208.0000 - val_root_mean_squared_error: 55268.3477\n",
      "Epoch 66/100\n",
      "563/563 [==============================] - 2s 3ms/step - loss: 2604026880.0000 - root_mean_squared_error: 51029.6680 - val_loss: 3011952896.0000 - val_root_mean_squared_error: 54881.2617\n",
      "Epoch 67/100\n",
      "563/563 [==============================] - 2s 3ms/step - loss: 2561357568.0000 - root_mean_squared_error: 50609.8555 - val_loss: 3097074432.0000 - val_root_mean_squared_error: 55651.3633\n",
      "Epoch 68/100\n",
      "563/563 [==============================] - 2s 3ms/step - loss: 2566127360.0000 - root_mean_squared_error: 50656.9570 - val_loss: 3072055296.0000 - val_root_mean_squared_error: 55426.1250\n",
      "Epoch 69/100\n",
      "563/563 [==============================] - 2s 3ms/step - loss: 2531422208.0000 - root_mean_squared_error: 50313.2422 - val_loss: 3019912192.0000 - val_root_mean_squared_error: 54953.7266\n",
      "Epoch 70/100\n",
      "563/563 [==============================] - 2s 3ms/step - loss: 2824668160.0000 - root_mean_squared_error: 53147.6055 - val_loss: 3252559872.0000 - val_root_mean_squared_error: 57031.2188\n",
      "Epoch 71/100\n",
      "549/563 [============================>.] - ETA: 0s - loss: 2669967104.0000 - root_mean_squared_error: 51671.7227INFO:tensorflow:Assets written to: models\\large_nn\\assets\n"
     ]
    },
    {
     "name": "stderr",
     "output_type": "stream",
     "text": [
      "INFO:tensorflow:Assets written to: models\\large_nn\\assets\n"
     ]
    },
    {
     "name": "stdout",
     "output_type": "stream",
     "text": [
      "563/563 [==============================] - 3s 4ms/step - loss: 2675602688.0000 - root_mean_squared_error: 51726.2266 - val_loss: 2903036672.0000 - val_root_mean_squared_error: 53879.8359\n",
      "Epoch 72/100\n",
      "563/563 [==============================] - 2s 3ms/step - loss: 2694183168.0000 - root_mean_squared_error: 51905.5234 - val_loss: 2951277568.0000 - val_root_mean_squared_error: 54325.6641\n",
      "Epoch 73/100\n",
      "563/563 [==============================] - 2s 3ms/step - loss: 2552248320.0000 - root_mean_squared_error: 50519.7812 - val_loss: 3065378560.0000 - val_root_mean_squared_error: 55365.8594\n",
      "Epoch 74/100\n",
      "563/563 [==============================] - 2s 3ms/step - loss: 2589751040.0000 - root_mean_squared_error: 50889.5977 - val_loss: 3095408384.0000 - val_root_mean_squared_error: 55636.3945\n",
      "Epoch 75/100\n",
      "563/563 [==============================] - 2s 3ms/step - loss: 2545103616.0000 - root_mean_squared_error: 50449.0195 - val_loss: 2999414016.0000 - val_root_mean_squared_error: 54766.9062\n",
      "Epoch 76/100\n",
      "563/563 [==============================] - 2s 3ms/step - loss: 2548400640.0000 - root_mean_squared_error: 50481.6875 - val_loss: 2942783744.0000 - val_root_mean_squared_error: 54247.4297\n",
      "Epoch 77/100\n",
      "550/563 [============================>.] - ETA: 0s - loss: 2591552768.0000 - root_mean_squared_error: 50907.2969INFO:tensorflow:Assets written to: models\\large_nn\\assets\n"
     ]
    },
    {
     "name": "stderr",
     "output_type": "stream",
     "text": [
      "INFO:tensorflow:Assets written to: models\\large_nn\\assets\n"
     ]
    },
    {
     "name": "stdout",
     "output_type": "stream",
     "text": [
      "563/563 [==============================] - 3s 5ms/step - loss: 2597451264.0000 - root_mean_squared_error: 50965.1953 - val_loss: 2853111808.0000 - val_root_mean_squared_error: 53414.5273\n",
      "Epoch 78/100\n",
      "563/563 [==============================] - 2s 3ms/step - loss: 2680807424.0000 - root_mean_squared_error: 51776.5156 - val_loss: 3125141248.0000 - val_root_mean_squared_error: 55902.9609\n",
      "Epoch 79/100\n",
      "563/563 [==============================] - 2s 3ms/step - loss: 2547453696.0000 - root_mean_squared_error: 50472.3047 - val_loss: 2996486656.0000 - val_root_mean_squared_error: 54740.1758\n",
      "Epoch 80/100\n",
      "563/563 [==============================] - 2s 3ms/step - loss: 2536944640.0000 - root_mean_squared_error: 50368.0898 - val_loss: 2971471360.0000 - val_root_mean_squared_error: 54511.2031\n",
      "Epoch 81/100\n",
      "563/563 [==============================] - 2s 4ms/step - loss: 2531158784.0000 - root_mean_squared_error: 50310.6211 - val_loss: 2919628288.0000 - val_root_mean_squared_error: 54033.5859\n",
      "Epoch 82/100\n",
      "563/563 [==============================] - 2s 4ms/step - loss: 2514165760.0000 - root_mean_squared_error: 50141.4570 - val_loss: 2910260224.0000 - val_root_mean_squared_error: 53946.8281\n",
      "Epoch 83/100\n",
      "563/563 [==============================] - 2s 4ms/step - loss: 2523926016.0000 - root_mean_squared_error: 50238.6914 - val_loss: 2864418304.0000 - val_root_mean_squared_error: 53520.2617\n",
      "Epoch 84/100\n",
      "563/563 [==============================] - 2s 4ms/step - loss: 2510266624.0000 - root_mean_squared_error: 50102.5625 - val_loss: 2966411776.0000 - val_root_mean_squared_error: 54464.7773\n",
      "Epoch 85/100\n",
      "563/563 [==============================] - 2s 4ms/step - loss: 2485597184.0000 - root_mean_squared_error: 49855.7656 - val_loss: 2980276736.0000 - val_root_mean_squared_error: 54591.9102\n",
      "Epoch 86/100\n",
      "563/563 [==============================] - 2s 4ms/step - loss: 2485846784.0000 - root_mean_squared_error: 49858.2656 - val_loss: 3343410176.0000 - val_root_mean_squared_error: 57822.2305\n",
      "Epoch 87/100\n",
      "563/563 [==============================] - 2s 4ms/step - loss: 2501896704.0000 - root_mean_squared_error: 50018.9648 - val_loss: 2970046208.0000 - val_root_mean_squared_error: 54498.1289\n",
      "Epoch 88/100\n",
      "563/563 [==============================] - 2s 4ms/step - loss: 2558993152.0000 - root_mean_squared_error: 50586.4922 - val_loss: 2858931968.0000 - val_root_mean_squared_error: 53468.9805\n",
      "Epoch 89/100\n",
      "563/563 [==============================] - 2s 4ms/step - loss: 2532281344.0000 - root_mean_squared_error: 50321.7773 - val_loss: 3049689856.0000 - val_root_mean_squared_error: 55223.9961\n",
      "Epoch 90/100\n",
      "563/563 [==============================] - 2s 4ms/step - loss: 2500218112.0000 - root_mean_squared_error: 50002.1797 - val_loss: 2980515072.0000 - val_root_mean_squared_error: 54594.0938\n",
      "Epoch 91/100\n",
      "563/563 [==============================] - 2s 4ms/step - loss: 2475292160.0000 - root_mean_squared_error: 49752.3086 - val_loss: 3293894400.0000 - val_root_mean_squared_error: 57392.4609\n",
      "Epoch 92/100\n",
      "563/563 [==============================] - 2s 4ms/step - loss: 2444149248.0000 - root_mean_squared_error: 49438.3359 - val_loss: 2865538560.0000 - val_root_mean_squared_error: 53530.7266\n",
      "Epoch 93/100\n",
      "563/563 [==============================] - 2s 4ms/step - loss: 2452494336.0000 - root_mean_squared_error: 49522.6641 - val_loss: 3250145792.0000 - val_root_mean_squared_error: 57010.0508\n",
      "Epoch 94/100\n",
      "563/563 [==============================] - 2s 4ms/step - loss: 2495186432.0000 - root_mean_squared_error: 49951.8398 - val_loss: 2919884800.0000 - val_root_mean_squared_error: 54035.9570\n",
      "Epoch 95/100\n",
      "563/563 [==============================] - 2s 4ms/step - loss: 2490256384.0000 - root_mean_squared_error: 49902.4688 - val_loss: 2880081920.0000 - val_root_mean_squared_error: 53666.3945\n",
      "Epoch 96/100\n",
      "559/563 [============================>.] - ETA: 0s - loss: 2451566336.0000 - root_mean_squared_error: 49513.2930INFO:tensorflow:Assets written to: models\\large_nn\\assets\n"
     ]
    },
    {
     "name": "stderr",
     "output_type": "stream",
     "text": [
      "INFO:tensorflow:Assets written to: models\\large_nn\\assets\n"
     ]
    },
    {
     "name": "stdout",
     "output_type": "stream",
     "text": [
      "563/563 [==============================] - 3s 5ms/step - loss: 2449081344.0000 - root_mean_squared_error: 49488.1953 - val_loss: 2832227328.0000 - val_root_mean_squared_error: 53218.6758\n",
      "Epoch 97/100\n",
      "563/563 [==============================] - 2s 4ms/step - loss: 2444197376.0000 - root_mean_squared_error: 49438.8242 - val_loss: 2988493056.0000 - val_root_mean_squared_error: 54667.1094\n",
      "Epoch 98/100\n",
      "563/563 [==============================] - 2s 4ms/step - loss: 2465016064.0000 - root_mean_squared_error: 49648.9297 - val_loss: 3059384832.0000 - val_root_mean_squared_error: 55311.7070\n",
      "Epoch 99/100\n",
      "563/563 [==============================] - 2s 4ms/step - loss: 2430556416.0000 - root_mean_squared_error: 49300.6719 - val_loss: 2938872064.0000 - val_root_mean_squared_error: 54211.3633\n",
      "Epoch 100/100\n",
      "563/563 [==============================] - 2s 4ms/step - loss: 2469713664.0000 - root_mean_squared_error: 49696.2148 - val_loss: 3144304128.0000 - val_root_mean_squared_error: 56074.0938\n"
     ]
    },
    {
     "data": {
      "text/plain": [
       "<keras.src.callbacks.History at 0x1dfaaa71f10>"
      ]
     },
     "execution_count": 89,
     "metadata": {},
     "output_type": "execute_result"
    }
   ],
   "source": [
    "large_nn = Sequential()\n",
    "large_nn.add(InputLayer((13,)))\n",
    "large_nn.add(Dense(256,'relu'))\n",
    "large_nn.add(Dense(128,'relu'))\n",
    "large_nn.add(Dense(64,'relu'))\n",
    "large_nn.add(Dense(32,'relu'))\n",
    "large_nn.add(Dense(1, 'linear'))\n",
    "\n",
    "opt = Adam(learning_rate=.1)\n",
    "cp=ModelCheckpoint('models/large_nn', save_best_only=True)\n",
    "large_nn.compile(optimizer=opt, loss='mse',metrics=[RootMeanSquaredError()])\n",
    "large_nn.fit(x=X_train, y=y_train, validation_data=(X_val, y_val), callbacks=[cp], epochs=100)"
   ]
  },
  {
   "cell_type": "code",
   "execution_count": 90,
   "id": "9278f83c",
   "metadata": {},
   "outputs": [
    {
     "name": "stdout",
     "output_type": "stream",
     "text": [
      "563/563 [==============================] - 1s 2ms/step\n",
      "39/39 [==============================] - 0s 2ms/step\n"
     ]
    },
    {
     "name": "stderr",
     "output_type": "stream",
     "text": [
      "C:\\Users\\Craigs\\anaconda3\\Lib\\site-packages\\sklearn\\metrics\\_regression.py:492: FutureWarning: 'squared' is deprecated in version 1.4 and will be removed in 1.6. To calculate the root mean squared error, use the function'root_mean_squared_error'.\n",
      "  warnings.warn(\n",
      "C:\\Users\\Craigs\\anaconda3\\Lib\\site-packages\\sklearn\\metrics\\_regression.py:492: FutureWarning: 'squared' is deprecated in version 1.4 and will be removed in 1.6. To calculate the root mean squared error, use the function'root_mean_squared_error'.\n",
      "  warnings.warn(\n"
     ]
    },
    {
     "data": {
      "text/plain": [
       "(47795.68617766768, 53218.68065395982)"
      ]
     },
     "execution_count": 90,
     "metadata": {},
     "output_type": "execute_result"
    }
   ],
   "source": [
    "# overfitting 53k, gradient boosting provides the best model for accuracy\n",
    "large_nn = load_model('models/large_nn')\n",
    "mse(large_nn.predict(X_train),y_train, squared=False), mse(large_nn.predict(X_val),y_val, squared=False)\n"
   ]
  },
  {
   "cell_type": "code",
   "execution_count": null,
   "id": "8348ab60",
   "metadata": {},
   "outputs": [],
   "source": []
  }
 ],
 "metadata": {
  "kernelspec": {
   "display_name": "Python 3 (ipykernel)",
   "language": "python",
   "name": "python3"
  },
  "language_info": {
   "codemirror_mode": {
    "name": "ipython",
    "version": 3
   },
   "file_extension": ".py",
   "mimetype": "text/x-python",
   "name": "python",
   "nbconvert_exporter": "python",
   "pygments_lexer": "ipython3",
   "version": "3.11.5"
  }
 },
 "nbformat": 4,
 "nbformat_minor": 5
}
